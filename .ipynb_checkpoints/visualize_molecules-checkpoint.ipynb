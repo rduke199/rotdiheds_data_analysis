{
 "cells": [
  {
   "cell_type": "markdown",
   "metadata": {},
   "source": [
    "# Create Monomer Images\n",
    "### This code creates an individual image for each monomer in the folder indv_images. It also creates girid pictures of the molecules with common backbones (55molecules.png, 56molecules.png, 66molecules.png)."
   ]
  },
  {
   "cell_type": "code",
   "execution_count": 8,
   "metadata": {},
   "outputs": [],
   "source": [
    "import os\n",
    "import json\n",
    "from rdkit import Chem \n",
    "from rdkit.Chem import Draw, AllChem"
   ]
  },
  {
   "cell_type": "code",
   "execution_count": 11,
   "metadata": {},
   "outputs": [],
   "source": [
    "def draw_all_structures(smiles_master_fn, out_dir): \n",
    "    with open(smiles_master_fn, 'r') as fn:\n",
    "        data_dict = json.load(fn)\n",
    "    molecules = data_dict.keys()\n",
    "    \n",
    "    mol_list55, mol_list65, mol_list66 = [], [], []\n",
    "    lst = []\n",
    "    for mol in molecules: \n",
    "        mol_smiles = data_dict[mol]\n",
    "        mol_save_loc = os.path.join(out_dir, mol+\".png\")\n",
    "        ring_num = int(mol.split('_')[1])\n",
    "        mol_rdkit = Chem.MolFromSmiles(mol_smiles)\n",
    "        \n",
    "        mol_rdkit.SetProp(\"_Name\",mol)\n",
    "        mol_rdkit.SetProp(\"_SaveLoc\",mol_save_loc)\n",
    "#         lst.append(mol_rdkit)\n",
    "        if ring_num == 55: \n",
    "            mol_list55.append(mol_rdkit)\n",
    "        elif ring_num == 65: \n",
    "            mol_list65.append(mol_rdkit)\n",
    "        elif ring_num == 66: \n",
    "            mol_list66.append(mol_rdkit)\n",
    "        \n",
    "    lists = [mol_list55, mol_list65, mol_list66]\n",
    "    ring_nums = [55,65,66]\n",
    "    for n,lst in enumerate(lists):\n",
    "        lst = lists[n]\n",
    "        ms = [x for x in lst if x is not None]\n",
    "        for m in ms: \n",
    "            tmp=AllChem.Compute2DCoords(m)\n",
    "            Draw.MolToFile(m, m.GetProp(\"_SaveLoc\"))\n",
    "\n",
    "        img=Draw.MolsToGridImage(lst,molsPerRow=7,subImgSize=(200,200),legends=[x.GetProp(\"_Name\") for x in lst], returnPNG=False)  \n",
    "        img.save(str(os.path.join(out_dir,ring_nums[n])+'molecules.png'))\n",
    "#     img=Draw.MolsToGridImage(lst,molsPerRow=7,subImgSize=(200,200),legends=[x.GetProp(\"_Name\") for x in lst], returnPNG=False)  \n",
    "#     img.save(out_dir+'chromophores.png')\n",
    "    "
   ]
  },
  {
   "cell_type": "code",
   "execution_count": 12,
   "metadata": {},
   "outputs": [
    {
     "ename": "AttributeError",
     "evalue": "'Image' object has no attribute 'save'",
     "output_type": "error",
     "traceback": [
      "\u001b[0;31m---------------------------------------------------------------------------\u001b[0m",
      "\u001b[0;31mAttributeError\u001b[0m                            Traceback (most recent call last)",
      "\u001b[0;32m<ipython-input-12-aeb7202ec138>\u001b[0m in \u001b[0;36m<module>\u001b[0;34m\u001b[0m\n\u001b[1;32m      4\u001b[0m \u001b[0mout_dir\u001b[0m \u001b[0;34m=\u001b[0m \u001b[0mos\u001b[0m\u001b[0;34m.\u001b[0m\u001b[0mpath\u001b[0m\u001b[0;34m.\u001b[0m\u001b[0mjoin\u001b[0m\u001b[0;34m(\u001b[0m\u001b[0mhome\u001b[0m\u001b[0;34m,\u001b[0m \u001b[0;34m'structures/'\u001b[0m\u001b[0;34m)\u001b[0m\u001b[0;34m\u001b[0m\u001b[0;34m\u001b[0m\u001b[0m\n\u001b[1;32m      5\u001b[0m \u001b[0;34m\u001b[0m\u001b[0m\n\u001b[0;32m----> 6\u001b[0;31m \u001b[0mdraw_all_structures\u001b[0m\u001b[0;34m(\u001b[0m\u001b[0msmiles_master_path\u001b[0m\u001b[0;34m,\u001b[0m \u001b[0mout_dir\u001b[0m\u001b[0;34m)\u001b[0m\u001b[0;34m\u001b[0m\u001b[0;34m\u001b[0m\u001b[0m\n\u001b[0m",
      "\u001b[0;32m<ipython-input-11-bea2f5f949ee>\u001b[0m in \u001b[0;36mdraw_all_structures\u001b[0;34m(smiles_master_fn, out_dir)\u001b[0m\n\u001b[1;32m     32\u001b[0m \u001b[0;34m\u001b[0m\u001b[0m\n\u001b[1;32m     33\u001b[0m         \u001b[0mimg\u001b[0m\u001b[0;34m=\u001b[0m\u001b[0mDraw\u001b[0m\u001b[0;34m.\u001b[0m\u001b[0mMolsToGridImage\u001b[0m\u001b[0;34m(\u001b[0m\u001b[0mlst\u001b[0m\u001b[0;34m,\u001b[0m\u001b[0mmolsPerRow\u001b[0m\u001b[0;34m=\u001b[0m\u001b[0;36m7\u001b[0m\u001b[0;34m,\u001b[0m\u001b[0msubImgSize\u001b[0m\u001b[0;34m=\u001b[0m\u001b[0;34m(\u001b[0m\u001b[0;36m200\u001b[0m\u001b[0;34m,\u001b[0m\u001b[0;36m200\u001b[0m\u001b[0;34m)\u001b[0m\u001b[0;34m,\u001b[0m\u001b[0mlegends\u001b[0m\u001b[0;34m=\u001b[0m\u001b[0;34m[\u001b[0m\u001b[0mx\u001b[0m\u001b[0;34m.\u001b[0m\u001b[0mGetProp\u001b[0m\u001b[0;34m(\u001b[0m\u001b[0;34m\"_Name\"\u001b[0m\u001b[0;34m)\u001b[0m \u001b[0;32mfor\u001b[0m \u001b[0mx\u001b[0m \u001b[0;32min\u001b[0m \u001b[0mlst\u001b[0m\u001b[0;34m]\u001b[0m\u001b[0;34m)\u001b[0m\u001b[0;31m#, returnPNG=False)\u001b[0m\u001b[0;34m\u001b[0m\u001b[0;34m\u001b[0m\u001b[0m\n\u001b[0;32m---> 34\u001b[0;31m         \u001b[0mimg\u001b[0m\u001b[0;34m.\u001b[0m\u001b[0msave\u001b[0m\u001b[0;34m(\u001b[0m\u001b[0mstr\u001b[0m\u001b[0;34m(\u001b[0m\u001b[0mring_nums\u001b[0m\u001b[0;34m[\u001b[0m\u001b[0mn\u001b[0m\u001b[0;34m]\u001b[0m\u001b[0;34m)\u001b[0m\u001b[0;34m+\u001b[0m\u001b[0;34m'molecules.png'\u001b[0m\u001b[0;34m)\u001b[0m\u001b[0;34m\u001b[0m\u001b[0;34m\u001b[0m\u001b[0m\n\u001b[0m\u001b[1;32m     35\u001b[0m \u001b[0;31m#     img=Draw.MolsToGridImage(lst,molsPerRow=7,subImgSize=(200,200),legends=[x.GetProp(\"_Name\") for x in lst], returnPNG=False)\u001b[0m\u001b[0;34m\u001b[0m\u001b[0;34m\u001b[0m\u001b[0;34m\u001b[0m\u001b[0m\n\u001b[1;32m     36\u001b[0m \u001b[0;31m#     img.save(out_dir+'chromophores.png')\u001b[0m\u001b[0;34m\u001b[0m\u001b[0;34m\u001b[0m\u001b[0;34m\u001b[0m\u001b[0m\n",
      "\u001b[0;31mAttributeError\u001b[0m: 'Image' object has no attribute 'save'"
     ]
    }
   ],
   "source": [
    "home = os.getcwd()\n",
    "smiles_master_path = os.path.join(home,'masters/','master_smiles.json')\n",
    "# smiles_master_path = os.path.join(home,'smiles/','chromophore.json')\n",
    "out_dir = os.path.join(home, 'structures/')\n",
    "\n",
    "draw_all_structures(smiles_master_path, out_dir)"
   ]
  },
  {
   "cell_type": "code",
   "execution_count": null,
   "metadata": {},
   "outputs": [],
   "source": []
  },
  {
   "cell_type": "code",
   "execution_count": null,
   "metadata": {},
   "outputs": [],
   "source": []
  }
 ],
 "metadata": {
  "kernelspec": {
   "display_name": "Python 3",
   "language": "python",
   "name": "python3"
  },
  "language_info": {
   "codemirror_mode": {
    "name": "ipython",
    "version": 3
   },
   "file_extension": ".py",
   "mimetype": "text/x-python",
   "name": "python",
   "nbconvert_exporter": "python",
   "pygments_lexer": "ipython3",
   "version": "3.7.10"
  }
 },
 "nbformat": 4,
 "nbformat_minor": 2
}
