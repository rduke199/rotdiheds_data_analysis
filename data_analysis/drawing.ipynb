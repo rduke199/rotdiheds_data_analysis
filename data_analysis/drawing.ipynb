{
 "cells": [
  {
   "cell_type": "code",
   "execution_count": 1,
   "id": "88372b64",
   "metadata": {},
   "outputs": [
    {
     "name": "stdout",
     "output_type": "stream",
     "text": [
      "Looking in indexes: https://test.pypi.org/simple/\n",
      "Collecting xyz2graph\n",
      "  Downloading https://test-files.pythonhosted.org/packages/ed/dc/38398b8a06ec96a72da126896f56bab49e388b987f09cd03f0e60b905fd8/xyz2graph-0.1-py3-none-any.whl (5.4 kB)\n",
      "Requirement already satisfied: plotly in /home/rebekah/miniconda3/envs/rotdiheds/lib/python3.7/site-packages (from xyz2graph) (4.14.3)\n",
      "Requirement already satisfied: networkx in /home/rebekah/miniconda3/envs/rotdiheds/lib/python3.7/site-packages (from xyz2graph) (2.5.1)\n",
      "Requirement already satisfied: decorator<5,>=4.3 in /home/rebekah/miniconda3/envs/rotdiheds/lib/python3.7/site-packages (from networkx->xyz2graph) (4.4.2)\n",
      "Requirement already satisfied: retrying>=1.3.3 in /home/rebekah/miniconda3/envs/rotdiheds/lib/python3.7/site-packages (from plotly->xyz2graph) (1.3.3)\n",
      "Requirement already satisfied: six in /home/rebekah/miniconda3/envs/rotdiheds/lib/python3.7/site-packages (from plotly->xyz2graph) (1.15.0)\n",
      "Installing collected packages: xyz2graph\n",
      "Successfully installed xyz2graph-0.1\n"
     ]
    }
   ],
   "source": [
    "!pip install -i https://test.pypi.org/simple/ xyz2graph"
   ]
  },
  {
   "cell_type": "code",
   "execution_count": 5,
   "id": "02c88f2e",
   "metadata": {},
   "outputs": [],
   "source": [
    "import os\n",
    "import pandas as pd\n",
    "import seaborn as sns\n",
    "import matplotlib.pyplot as plt\n",
    "from xyz2graph import MolGraph, to_networkx_graph, to_plotly_figure\n",
    "from plotly.offline import init_notebook_mode, iplot\n",
    "\n",
    "from plotting import *\n",
    "from molecule_rot import MoleculeRot"
   ]
  },
  {
   "cell_type": "code",
   "execution_count": 3,
   "id": "9522aab6",
   "metadata": {},
   "outputs": [
    {
     "name": "stdout",
     "output_type": "stream",
     "text": [
      "Done making all_molecules list.\n"
     ]
    }
   ],
   "source": [
    "home = os.path.abspath('/mnt/research/RotateDiheds/data')\n",
    "master_dir = os.path.join(home,'masters/')\n",
    "plot_dir = os.path.join(home, 'plots/')\n",
    "\n",
    "all_molecules = make_all_mol_list(master_dir)\n",
    "print(\"Done making all_molecules list.\") "
   ]
  },
  {
   "cell_type": "code",
   "execution_count": 6,
   "id": "9d4c67cb",
   "metadata": {},
   "outputs": [],
   "source": [
    "def boltzman_dist(x, A=1):\n",
    "    return A*np.exp(-x/(298*8.314))\n",
    "def get_probability(energy_df):\n",
    "    if isinstance(energy_df, pd.DataFrame) and len(energy_df.index) > 1:\n",
    "        energy_df['probability'] = energy_df.energy.apply(lambda x: boltzman_dist(x))\n",
    "    #     probs.rename(columns={'energy': 'probability'}, inplace=True)\n",
    "        sum_prob = energy_df.probability.sum()\n",
    "        energy_df.probability = energy_df.probability.apply(lambda x: x/sum_prob)\n",
    "        return energy_df\n",
    "def planarity_func(angle, prob):\n",
    "    angle_rad = angle * np.pi / 180\n",
    "    return prob * np.cos(angle_rad)**2\n",
    "def planarity(energy_df):\n",
    "    try:\n",
    "        energy_df['angle'] = energy_df.index\n",
    "        indiv_planarity = energy_df.apply(lambda x: planarity_func(x.angle, x.probability), axis=1)\n",
    "        planarity = indiv_planarity.sum()\n",
    "        energy_df.drop(['angle'], axis=1, inplace=True)\n",
    "        return planarity\n",
    "    except: \n",
    "        return None\n",
    "def norm_eng(energy_df):\n",
    "    if isinstance(energy_df, pd.DataFrame) and len(energy_df.index) > 1:\n",
    "        if energy_df.energy.iloc[0] < energy_df.energy.iloc[-1]:\n",
    "            energy_df['norm_eng'] = energy_df.energy.values[::-1]\n",
    "        else: \n",
    "            energy_df['norm_eng'] = energy_df.energy\n",
    "    return energy_df"
   ]
  },
  {
   "cell_type": "code",
   "execution_count": 7,
   "id": "5e4ab220",
   "metadata": {},
   "outputs": [
    {
     "data": {
      "text/html": [
       "<div>\n",
       "<style scoped>\n",
       "    .dataframe tbody tr th:only-of-type {\n",
       "        vertical-align: middle;\n",
       "    }\n",
       "\n",
       "    .dataframe tbody tr th {\n",
       "        vertical-align: top;\n",
       "    }\n",
       "\n",
       "    .dataframe thead th {\n",
       "        text-align: right;\n",
       "    }\n",
       "</style>\n",
       "<table border=\"1\" class=\"dataframe\">\n",
       "  <thead>\n",
       "    <tr style=\"text-align: right;\">\n",
       "      <th></th>\n",
       "      <th>central_bond_lengths</th>\n",
       "      <th>chromophore</th>\n",
       "      <th>energy</th>\n",
       "      <th>homo_lumo</th>\n",
       "      <th>min_e_angle</th>\n",
       "      <th>name</th>\n",
       "      <th>polymer_num</th>\n",
       "      <th>ring_num</th>\n",
       "      <th>side_chains</th>\n",
       "      <th>smiles</th>\n",
       "      <th>substituents</th>\n",
       "      <th>tuned_omega</th>\n",
       "      <th>unit_num</th>\n",
       "      <th>side_chains_str</th>\n",
       "      <th>molecule</th>\n",
       "      <th>adjusted_min_e_angle</th>\n",
       "      <th>molecule_type</th>\n",
       "      <th>inv_tuned_omega</th>\n",
       "      <th>energy_info</th>\n",
       "      <th>planarity</th>\n",
       "    </tr>\n",
       "  </thead>\n",
       "  <tbody>\n",
       "    <tr>\n",
       "      <th>0</th>\n",
       "      <td>bond_length\n",
       "0.0       1.342520\n",
       "10.0    ...</td>\n",
       "      <td>bithiophene</td>\n",
       "      <td>energy  probability  norm_eng\n",
       "0.0    ...</td>\n",
       "      <td>lumo_energy  homo_energy\n",
       "0.0      -9.56...</td>\n",
       "      <td>179.999942</td>\n",
       "      <td>mols_55_1_00_C-C</td>\n",
       "      <td>0.0</td>\n",
       "      <td>55.0</td>\n",
       "      <td>()</td>\n",
       "      <td>[cH]1[cH][s][c](-[c]2[cH][cH][cH][s]2)[cH]1</td>\n",
       "      <td>C-C</td>\n",
       "      <td>0.246111</td>\n",
       "      <td>1.0</td>\n",
       "      <td>()</td>\n",
       "      <td>55_0</td>\n",
       "      <td>89.999942</td>\n",
       "      <td>bithiophene()</td>\n",
       "      <td>4.063212</td>\n",
       "      <td>energy  probability  norm_eng\n",
       "0.0    ...</td>\n",
       "      <td>0.526474</td>\n",
       "    </tr>\n",
       "    <tr>\n",
       "      <th>1</th>\n",
       "      <td>bond_length\n",
       "0.0       1.375265\n",
       "10.0    ...</td>\n",
       "      <td>bithiophene</td>\n",
       "      <td>energy  probability  norm_eng\n",
       "0.0    ...</td>\n",
       "      <td>lumo_energy  homo_energy\n",
       "0.0      -9.31...</td>\n",
       "      <td>179.999978</td>\n",
       "      <td>mols_55_1_01_C-CF</td>\n",
       "      <td>1.0</td>\n",
       "      <td>55.0</td>\n",
       "      <td>(F,)</td>\n",
       "      <td>[F][c]1[cH][cH][s][c]1-[c]1[cH][cH][cH][s]1</td>\n",
       "      <td>C-CF</td>\n",
       "      <td>0.251646</td>\n",
       "      <td>1.0</td>\n",
       "      <td>('F',)</td>\n",
       "      <td>55_1</td>\n",
       "      <td>89.999978</td>\n",
       "      <td>bithiophene('F',)</td>\n",
       "      <td>3.973838</td>\n",
       "      <td>energy  probability  norm_eng\n",
       "0.0    ...</td>\n",
       "      <td>0.526446</td>\n",
       "    </tr>\n",
       "    <tr>\n",
       "      <th>2</th>\n",
       "      <td>bond_length\n",
       "0.0       1.419547\n",
       "10.0    ...</td>\n",
       "      <td>thienyl_thiazole</td>\n",
       "      <td>energy  probability  norm_eng\n",
       "0.0    ...</td>\n",
       "      <td>lumo_energy  homo_energy\n",
       "0.0      -9.46...</td>\n",
       "      <td>179.999911</td>\n",
       "      <td>mols_55_1_02_C-N</td>\n",
       "      <td>2.0</td>\n",
       "      <td>55.0</td>\n",
       "      <td>()</td>\n",
       "      <td>[cH]1[cH][s][c](-[c]2[n][cH][cH][s]2)[cH]1</td>\n",
       "      <td>C-N</td>\n",
       "      <td>0.262108</td>\n",
       "      <td>1.0</td>\n",
       "      <td>()</td>\n",
       "      <td>55_2</td>\n",
       "      <td>89.999911</td>\n",
       "      <td>thienyl_thiazole()</td>\n",
       "      <td>3.815222</td>\n",
       "      <td>energy  probability  norm_eng\n",
       "0.0    ...</td>\n",
       "      <td>0.526586</td>\n",
       "    </tr>\n",
       "    <tr>\n",
       "      <th>3</th>\n",
       "      <td>bond_length\n",
       "0.0       1.291189\n",
       "10.0    ...</td>\n",
       "      <td>bithiophene</td>\n",
       "      <td>energy  probability  norm_eng\n",
       "0.0    ...</td>\n",
       "      <td>lumo_energy  homo_energy\n",
       "0.0      -9.92...</td>\n",
       "      <td>179.999967</td>\n",
       "      <td>mols_55_1_03_C-COC</td>\n",
       "      <td>3.0</td>\n",
       "      <td>55.0</td>\n",
       "      <td>(OCH3,)</td>\n",
       "      <td>[CH3][O][c]1[cH][cH][s][c]1-[c]1[cH][cH][cH][s]1</td>\n",
       "      <td>C-COC</td>\n",
       "      <td>0.237226</td>\n",
       "      <td>1.0</td>\n",
       "      <td>('OCH3',)</td>\n",
       "      <td>55_3</td>\n",
       "      <td>89.999967</td>\n",
       "      <td>bithiophene('OCH3',)</td>\n",
       "      <td>4.215388</td>\n",
       "      <td>energy  probability  norm_eng\n",
       "0.0    ...</td>\n",
       "      <td>0.526562</td>\n",
       "    </tr>\n",
       "    <tr>\n",
       "      <th>4</th>\n",
       "      <td>bond_length\n",
       "0.0       1.288862\n",
       "10.0    ...</td>\n",
       "      <td>bithiophene</td>\n",
       "      <td>energy  probability  norm_eng\n",
       "0.0    ...</td>\n",
       "      <td>lumo_energy  homo_energy\n",
       "0.0     -10.84...</td>\n",
       "      <td>180.000000</td>\n",
       "      <td>mols_55_1_04_CF-CF</td>\n",
       "      <td>4.0</td>\n",
       "      <td>55.0</td>\n",
       "      <td>(F, F)</td>\n",
       "      <td>[F][c]1[cH][cH][s][c]1-[c]1[s][cH][cH][c]1[F]</td>\n",
       "      <td>CF-CF</td>\n",
       "      <td>0.252680</td>\n",
       "      <td>1.0</td>\n",
       "      <td>('F', 'F')</td>\n",
       "      <td>55_4</td>\n",
       "      <td>90.000000</td>\n",
       "      <td>bithiophene('F', 'F')</td>\n",
       "      <td>3.957573</td>\n",
       "      <td>energy  probability  norm_eng\n",
       "0.0    ...</td>\n",
       "      <td>0.526399</td>\n",
       "    </tr>\n",
       "  </tbody>\n",
       "</table>\n",
       "</div>"
      ],
      "text/plain": [
       "                                central_bond_lengths       chromophore  \\\n",
       "0         bond_length\n",
       "0.0       1.342520\n",
       "10.0    ...       bithiophene   \n",
       "1         bond_length\n",
       "0.0       1.375265\n",
       "10.0    ...       bithiophene   \n",
       "2         bond_length\n",
       "0.0       1.419547\n",
       "10.0    ...  thienyl_thiazole   \n",
       "3         bond_length\n",
       "0.0       1.291189\n",
       "10.0    ...       bithiophene   \n",
       "4         bond_length\n",
       "0.0       1.288862\n",
       "10.0    ...       bithiophene   \n",
       "\n",
       "                                              energy  \\\n",
       "0           energy  probability  norm_eng\n",
       "0.0    ...   \n",
       "1           energy  probability  norm_eng\n",
       "0.0    ...   \n",
       "2           energy  probability  norm_eng\n",
       "0.0    ...   \n",
       "3           energy  probability  norm_eng\n",
       "0.0    ...   \n",
       "4           energy  probability  norm_eng\n",
       "0.0    ...   \n",
       "\n",
       "                                           homo_lumo  min_e_angle  \\\n",
       "0         lumo_energy  homo_energy\n",
       "0.0      -9.56...   179.999942   \n",
       "1         lumo_energy  homo_energy\n",
       "0.0      -9.31...   179.999978   \n",
       "2         lumo_energy  homo_energy\n",
       "0.0      -9.46...   179.999911   \n",
       "3         lumo_energy  homo_energy\n",
       "0.0      -9.92...   179.999967   \n",
       "4         lumo_energy  homo_energy\n",
       "0.0     -10.84...   180.000000   \n",
       "\n",
       "                 name  polymer_num  ring_num side_chains  \\\n",
       "0    mols_55_1_00_C-C          0.0      55.0          ()   \n",
       "1   mols_55_1_01_C-CF          1.0      55.0        (F,)   \n",
       "2    mols_55_1_02_C-N          2.0      55.0          ()   \n",
       "3  mols_55_1_03_C-COC          3.0      55.0     (OCH3,)   \n",
       "4  mols_55_1_04_CF-CF          4.0      55.0      (F, F)   \n",
       "\n",
       "                                             smiles substituents  tuned_omega  \\\n",
       "0       [cH]1[cH][s][c](-[c]2[cH][cH][cH][s]2)[cH]1          C-C     0.246111   \n",
       "1       [F][c]1[cH][cH][s][c]1-[c]1[cH][cH][cH][s]1         C-CF     0.251646   \n",
       "2        [cH]1[cH][s][c](-[c]2[n][cH][cH][s]2)[cH]1          C-N     0.262108   \n",
       "3  [CH3][O][c]1[cH][cH][s][c]1-[c]1[cH][cH][cH][s]1        C-COC     0.237226   \n",
       "4     [F][c]1[cH][cH][s][c]1-[c]1[s][cH][cH][c]1[F]        CF-CF     0.252680   \n",
       "\n",
       "   unit_num side_chains_str molecule  adjusted_min_e_angle  \\\n",
       "0       1.0              ()     55_0             89.999942   \n",
       "1       1.0          ('F',)     55_1             89.999978   \n",
       "2       1.0              ()     55_2             89.999911   \n",
       "3       1.0       ('OCH3',)     55_3             89.999967   \n",
       "4       1.0      ('F', 'F')     55_4             90.000000   \n",
       "\n",
       "           molecule_type  inv_tuned_omega  \\\n",
       "0          bithiophene()         4.063212   \n",
       "1      bithiophene('F',)         3.973838   \n",
       "2     thienyl_thiazole()         3.815222   \n",
       "3   bithiophene('OCH3',)         4.215388   \n",
       "4  bithiophene('F', 'F')         3.957573   \n",
       "\n",
       "                                         energy_info planarity  \n",
       "0           energy  probability  norm_eng\n",
       "0.0    ...  0.526474  \n",
       "1           energy  probability  norm_eng\n",
       "0.0    ...  0.526446  \n",
       "2           energy  probability  norm_eng\n",
       "0.0    ...  0.526586  \n",
       "3           energy  probability  norm_eng\n",
       "0.0    ...  0.526562  \n",
       "4           energy  probability  norm_eng\n",
       "0.0    ...  0.526399  "
      ]
     },
     "execution_count": 7,
     "metadata": {},
     "output_type": "execute_result"
    }
   ],
   "source": [
    "data = pd.DataFrame()\n",
    "for i, mol in enumerate(all_molecules):\n",
    "    try:\n",
    "        energy = pd.DataFrame(mol.norm_energy_dict.values(),index=mol.norm_energy_dict.keys(), columns=['energy'])\n",
    "    except AttributeError: \n",
    "        energy = None\n",
    "    try: \n",
    "        homo_lumo_init = pd.DataFrame([mol.homo_dict, mol.lumo_dict], index=['lumo_energy','homo_energy'])\n",
    "        homo_lumo = homo_lumo_init.T\n",
    "    except AttributeError: \n",
    "        homo_lumo = None\n",
    "    try:\n",
    "        cent_bond_length = pd.DataFrame(mol.central_bond_length_dict.values(),index=mol.central_bond_length_dict.keys(), columns=['bond_length'])\n",
    "    except AttributeError: \n",
    "        cent_bond_length = None\n",
    "    mol_data = {'name': mol.name, \n",
    "                'ring_num': mol.ring_num,\n",
    "                'unit_num': mol.unit_num,\n",
    "                'polymer_num': mol.polymer_num,\n",
    "                'chromophore': str(mol.chromophore),\n",
    "                'substituents': (mol.substituents).upper(),\n",
    "                'side_chains': mol.side_chains,\n",
    "                'tuned_omega': mol.tuned_omega,\n",
    "                'smiles': mol.smiles,\n",
    "                'central_bond_lengths': cent_bond_length,\n",
    "                'energy': energy,\n",
    "                'homo_lumo': homo_lumo, \n",
    "                'min_e_angle': mol.unconst_angle\n",
    "               }\n",
    "    data = data.append(mol_data, ignore_index=True) \n",
    "\n",
    "data.fillna(value=np.nan, inplace=True)\n",
    "data['side_chains_str'] = data.apply(lambda x: str(x.side_chains), axis=1)\n",
    "data['molecule'] = data.apply(lambda x: '{:.0f}_{:.0f}'.format(x['ring_num'],x['polymer_num']), axis=1)\n",
    "# data['tuned_omega'] = data.apply(lambda x: \"0.\"+ str(x.tuned_omega)[1:] if pd.notna(x.tuned_omega) else np.nan, axis=1)\n",
    "data['adjusted_min_e_angle'] = data.apply(lambda x: abs(90 - x.min_e_angle) if pd.notna(x.min_e_angle) else np.nan, axis=1)\n",
    "data['molecule_type'] = data.chromophore + data.side_chains_str\n",
    "data['inv_tuned_omega'] = data.tuned_omega.apply(lambda x: 1/x if pd.notna(x) else np.nan,)\n",
    "data['energy_info'] = data.apply(lambda x: get_probability(x.energy) if x.energy is not np.nan else np.nan, axis=1)\n",
    "data['energy_info'] = data.apply(lambda x: norm_eng(x.energy), axis=1)\n",
    "# data['energy'] = data.apply(lambda x: x.energy_info.energy if x.energy_info is not np.nan else np.nan, axis=1)\n",
    "data['planarity'] = data.apply(lambda x: planarity(x.energy) if x.energy is not np.nan else np.nan, axis=1)\n",
    "\n",
    "data.head(5)"
   ]
  },
  {
   "cell_type": "code",
   "execution_count": 20,
   "id": "ecf3263c",
   "metadata": {},
   "outputs": [
    {
     "data": {
      "text/html": [
       "        <script type=\"text/javascript\">\n",
       "        window.PlotlyConfig = {MathJaxConfig: 'local'};\n",
       "        if (window.MathJax) {MathJax.Hub.Config({SVG: {font: \"STIX-Web\"}});}\n",
       "        if (typeof require !== 'undefined') {\n",
       "        require.undef(\"plotly\");\n",
       "        requirejs.config({\n",
       "            paths: {\n",
       "                'plotly': ['https://cdn.plot.ly/plotly-latest.min']\n",
       "            }\n",
       "        });\n",
       "        require(['plotly'], function(Plotly) {\n",
       "            window._Plotly = Plotly;\n",
       "        });\n",
       "        }\n",
       "        </script>\n",
       "        "
      ]
     },
     "metadata": {},
     "output_type": "display_data"
    },
    {
     "data": {
      "application/vnd.plotly.v1+json": {
       "config": {
        "linkText": "Export to plot.ly",
        "plotlyServerURL": "https://plot.ly",
        "showLink": false
       },
       "data": [
        {
         "marker": {
          "color": [
           "black",
           "black",
           "blue",
           "black",
           "yellow",
           "black",
           "blue",
           "black",
           "black",
           "yellow",
           "black",
           "black",
           "blue",
           "black",
           "yellow",
           "black",
           "blue",
           "black",
           "black",
           "yellow",
           "black",
           "black",
           "blue",
           "black",
           "yellow",
           "black",
           "blue",
           "black",
           "black",
           "yellow",
           "white",
           "white",
           "white",
           "white",
           "white",
           "white",
           "white",
           "white"
          ],
          "line": {
           "color": "lightgray",
           "width": 2
          },
          "opacity": 0.8,
          "size": 7,
          "symbol": "circle"
         },
         "mode": "markers",
         "text": [
          "C",
          "C",
          "N",
          "C",
          "S",
          "C",
          "N",
          "C",
          "C",
          "S",
          "C",
          "C",
          "N",
          "C",
          "S",
          "C",
          "N",
          "C",
          "C",
          "S",
          "C",
          "C",
          "N",
          "C",
          "S",
          "C",
          "N",
          "C",
          "C",
          "S",
          "H",
          "H",
          "H",
          "H",
          "H",
          "H",
          "H",
          "H"
         ],
         "type": "scatter3d",
         "x": [
          10.319218,
          9.989233,
          8.683964,
          8.032784,
          8.943268,
          6.612399,
          5.949453,
          4.650647,
          4.320718,
          5.716765,
          3.029384,
          2.704119,
          1.404054,
          0.718164,
          1.614074,
          -0.71817,
          -1.40404,
          -2.704111,
          -3.0294,
          -1.614107,
          -4.320758,
          -4.650791,
          -5.949578,
          -6.612411,
          -5.716674,
          -8.032753,
          -8.683787,
          -9.989052,
          -10.319178,
          -8.943377,
          11.285166,
          10.672657,
          3.960642,
          3.407757,
          -3.40774,
          -3.960874,
          -10.672347,
          -11.285147
         ],
         "y": [
          -0.975014,
          0.240882,
          0.527851,
          -0.459143,
          -1.810767,
          -0.441379,
          -1.419304,
          -1.119758,
          0.100938,
          0.917919,
          0.698756,
          1.990576,
          2.273789,
          1.216295,
          -0.213464,
          1.216311,
          2.273822,
          1.990639,
          0.698829,
          -0.213425,
          0.10104,
          -1.119462,
          -1.419057,
          -0.441337,
          0.91777,
          -0.459168,
          0.527641,
          0.240683,
          -0.975026,
          -1.810604,
          -1.408951,
          0.973544,
          -1.840867,
          2.786147,
          2.786223,
          -1.840399,
          0.973197,
          -1.408927
         ],
         "z": [
          -0.11246,
          -0.527854,
          -0.486781,
          -0.04535,
          0.354826,
          0.108076,
          0.550389,
          0.59248,
          0.173268,
          -0.307592,
          0.112453,
          0.095608,
          0.043735,
          0.022245,
          0.049972,
          -0.022642,
          -0.044021,
          -0.095929,
          -0.112905,
          -0.050551,
          -0.173692,
          -0.593383,
          -0.551028,
          -0.108089,
          0.307965,
          0.045749,
          0.487809,
          0.529128,
          0.113299,
          -0.354738,
          -0.060276,
          -0.878114,
          0.957018,
          0.130574,
          -0.130767,
          -0.958426,
          0.879945,
          0.06122
         ]
        },
        {
         "hoverinfo": "none",
         "marker": {
          "color": "grey",
          "opacity": 1,
          "size": 7
         },
         "mode": "lines",
         "type": "scatter3d",
         "x": [
          10.319218,
          9.989233,
          null,
          10.319218,
          8.943268,
          null,
          10.319218,
          11.285166,
          null,
          9.989233,
          10.319218,
          null,
          9.989233,
          8.683964,
          null,
          9.989233,
          10.672657,
          null,
          8.943268,
          10.319218,
          null,
          8.943268,
          8.032784,
          null,
          11.285166,
          10.319218,
          null,
          8.683964,
          9.989233,
          null,
          8.683964,
          8.032784,
          null,
          10.672657,
          9.989233,
          null,
          8.032784,
          8.683964,
          null,
          8.032784,
          8.943268,
          null,
          8.032784,
          6.612399,
          null,
          6.612399,
          5.716765,
          null,
          6.612399,
          8.032784,
          null,
          6.612399,
          5.949453,
          null,
          5.949453,
          6.612399,
          null,
          5.949453,
          4.650647,
          null,
          5.716765,
          4.320718,
          null,
          5.716765,
          6.612399,
          null,
          4.650647,
          4.320718,
          null,
          4.650647,
          3.960642,
          null,
          4.650647,
          5.949453,
          null,
          4.320718,
          5.716765,
          null,
          4.320718,
          3.029384,
          null,
          4.320718,
          4.650647,
          null,
          3.960642,
          4.650647,
          null,
          3.029384,
          4.320718,
          null,
          3.029384,
          2.704119,
          null,
          3.029384,
          1.614074,
          null,
          2.704119,
          3.407757,
          null,
          2.704119,
          3.029384,
          null,
          2.704119,
          1.404054,
          null,
          1.614074,
          3.029384,
          null,
          1.614074,
          0.718164,
          null,
          1.404054,
          2.704119,
          null,
          1.404054,
          0.718164,
          null,
          3.407757,
          2.704119,
          null,
          0.718164,
          1.404054,
          null,
          0.718164,
          1.614074,
          null,
          0.718164,
          -0.71817,
          null,
          -0.71817,
          -1.40404,
          null,
          -0.71817,
          -1.614107,
          null,
          -0.71817,
          0.718164,
          null,
          -1.40404,
          -2.704111,
          null,
          -1.40404,
          -0.71817,
          null,
          -1.614107,
          -3.0294,
          null,
          -1.614107,
          -0.71817,
          null,
          -2.704111,
          -1.40404,
          null,
          -2.704111,
          -3.0294,
          null,
          -2.704111,
          -3.40774,
          null,
          -3.0294,
          -2.704111,
          null,
          -3.0294,
          -1.614107,
          null,
          -3.0294,
          -4.320758,
          null,
          -3.40774,
          -2.704111,
          null,
          -4.320758,
          -5.716674,
          null,
          -4.320758,
          -3.0294,
          null,
          -4.320758,
          -4.650791,
          null,
          -4.650791,
          -3.960874,
          null,
          -4.650791,
          -4.320758,
          null,
          -4.650791,
          -5.949578,
          null,
          -5.716674,
          -4.320758,
          null,
          -5.716674,
          -6.612411,
          null,
          -5.949578,
          -4.650791,
          null,
          -5.949578,
          -6.612411,
          null,
          -3.960874,
          -4.650791,
          null,
          -6.612411,
          -5.716674,
          null,
          -6.612411,
          -8.032753,
          null,
          -6.612411,
          -5.949578,
          null,
          -8.032753,
          -8.683787,
          null,
          -8.032753,
          -8.943377,
          null,
          -8.032753,
          -6.612411,
          null,
          -8.683787,
          -8.032753,
          null,
          -8.683787,
          -9.989052,
          null,
          -8.943377,
          -8.032753,
          null,
          -8.943377,
          -10.319178,
          null,
          -9.989052,
          -8.683787,
          null,
          -9.989052,
          -10.319178,
          null,
          -9.989052,
          -10.672347,
          null,
          -10.319178,
          -11.285147,
          null,
          -10.319178,
          -9.989052,
          null,
          -10.319178,
          -8.943377,
          null,
          -10.672347,
          -9.989052,
          null,
          -11.285147,
          -10.319178,
          null
         ],
         "y": [
          -0.975014,
          0.240882,
          null,
          -0.975014,
          -1.810767,
          null,
          -0.975014,
          -1.408951,
          null,
          0.240882,
          -0.975014,
          null,
          0.240882,
          0.527851,
          null,
          0.240882,
          0.973544,
          null,
          -1.810767,
          -0.975014,
          null,
          -1.810767,
          -0.459143,
          null,
          -1.408951,
          -0.975014,
          null,
          0.527851,
          0.240882,
          null,
          0.527851,
          -0.459143,
          null,
          0.973544,
          0.240882,
          null,
          -0.459143,
          0.527851,
          null,
          -0.459143,
          -1.810767,
          null,
          -0.459143,
          -0.441379,
          null,
          -0.441379,
          0.917919,
          null,
          -0.441379,
          -0.459143,
          null,
          -0.441379,
          -1.419304,
          null,
          -1.419304,
          -0.441379,
          null,
          -1.419304,
          -1.119758,
          null,
          0.917919,
          0.100938,
          null,
          0.917919,
          -0.441379,
          null,
          -1.119758,
          0.100938,
          null,
          -1.119758,
          -1.840867,
          null,
          -1.119758,
          -1.419304,
          null,
          0.100938,
          0.917919,
          null,
          0.100938,
          0.698756,
          null,
          0.100938,
          -1.119758,
          null,
          -1.840867,
          -1.119758,
          null,
          0.698756,
          0.100938,
          null,
          0.698756,
          1.990576,
          null,
          0.698756,
          -0.213464,
          null,
          1.990576,
          2.786147,
          null,
          1.990576,
          0.698756,
          null,
          1.990576,
          2.273789,
          null,
          -0.213464,
          0.698756,
          null,
          -0.213464,
          1.216295,
          null,
          2.273789,
          1.990576,
          null,
          2.273789,
          1.216295,
          null,
          2.786147,
          1.990576,
          null,
          1.216295,
          2.273789,
          null,
          1.216295,
          -0.213464,
          null,
          1.216295,
          1.216311,
          null,
          1.216311,
          2.273822,
          null,
          1.216311,
          -0.213425,
          null,
          1.216311,
          1.216295,
          null,
          2.273822,
          1.990639,
          null,
          2.273822,
          1.216311,
          null,
          -0.213425,
          0.698829,
          null,
          -0.213425,
          1.216311,
          null,
          1.990639,
          2.273822,
          null,
          1.990639,
          0.698829,
          null,
          1.990639,
          2.786223,
          null,
          0.698829,
          1.990639,
          null,
          0.698829,
          -0.213425,
          null,
          0.698829,
          0.10104,
          null,
          2.786223,
          1.990639,
          null,
          0.10104,
          0.91777,
          null,
          0.10104,
          0.698829,
          null,
          0.10104,
          -1.119462,
          null,
          -1.119462,
          -1.840399,
          null,
          -1.119462,
          0.10104,
          null,
          -1.119462,
          -1.419057,
          null,
          0.91777,
          0.10104,
          null,
          0.91777,
          -0.441337,
          null,
          -1.419057,
          -1.119462,
          null,
          -1.419057,
          -0.441337,
          null,
          -1.840399,
          -1.119462,
          null,
          -0.441337,
          0.91777,
          null,
          -0.441337,
          -0.459168,
          null,
          -0.441337,
          -1.419057,
          null,
          -0.459168,
          0.527641,
          null,
          -0.459168,
          -1.810604,
          null,
          -0.459168,
          -0.441337,
          null,
          0.527641,
          -0.459168,
          null,
          0.527641,
          0.240683,
          null,
          -1.810604,
          -0.459168,
          null,
          -1.810604,
          -0.975026,
          null,
          0.240683,
          0.527641,
          null,
          0.240683,
          -0.975026,
          null,
          0.240683,
          0.973197,
          null,
          -0.975026,
          -1.408927,
          null,
          -0.975026,
          0.240683,
          null,
          -0.975026,
          -1.810604,
          null,
          0.973197,
          0.240683,
          null,
          -1.408927,
          -0.975026,
          null
         ],
         "z": [
          -0.11246,
          -0.527854,
          null,
          -0.11246,
          0.354826,
          null,
          -0.11246,
          -0.060276,
          null,
          -0.527854,
          -0.11246,
          null,
          -0.527854,
          -0.486781,
          null,
          -0.527854,
          -0.878114,
          null,
          0.354826,
          -0.11246,
          null,
          0.354826,
          -0.04535,
          null,
          -0.060276,
          -0.11246,
          null,
          -0.486781,
          -0.527854,
          null,
          -0.486781,
          -0.04535,
          null,
          -0.878114,
          -0.527854,
          null,
          -0.04535,
          -0.486781,
          null,
          -0.04535,
          0.354826,
          null,
          -0.04535,
          0.108076,
          null,
          0.108076,
          -0.307592,
          null,
          0.108076,
          -0.04535,
          null,
          0.108076,
          0.550389,
          null,
          0.550389,
          0.108076,
          null,
          0.550389,
          0.59248,
          null,
          -0.307592,
          0.173268,
          null,
          -0.307592,
          0.108076,
          null,
          0.59248,
          0.173268,
          null,
          0.59248,
          0.957018,
          null,
          0.59248,
          0.550389,
          null,
          0.173268,
          -0.307592,
          null,
          0.173268,
          0.112453,
          null,
          0.173268,
          0.59248,
          null,
          0.957018,
          0.59248,
          null,
          0.112453,
          0.173268,
          null,
          0.112453,
          0.095608,
          null,
          0.112453,
          0.049972,
          null,
          0.095608,
          0.130574,
          null,
          0.095608,
          0.112453,
          null,
          0.095608,
          0.043735,
          null,
          0.049972,
          0.112453,
          null,
          0.049972,
          0.022245,
          null,
          0.043735,
          0.095608,
          null,
          0.043735,
          0.022245,
          null,
          0.130574,
          0.095608,
          null,
          0.022245,
          0.043735,
          null,
          0.022245,
          0.049972,
          null,
          0.022245,
          -0.022642,
          null,
          -0.022642,
          -0.044021,
          null,
          -0.022642,
          -0.050551,
          null,
          -0.022642,
          0.022245,
          null,
          -0.044021,
          -0.095929,
          null,
          -0.044021,
          -0.022642,
          null,
          -0.050551,
          -0.112905,
          null,
          -0.050551,
          -0.022642,
          null,
          -0.095929,
          -0.044021,
          null,
          -0.095929,
          -0.112905,
          null,
          -0.095929,
          -0.130767,
          null,
          -0.112905,
          -0.095929,
          null,
          -0.112905,
          -0.050551,
          null,
          -0.112905,
          -0.173692,
          null,
          -0.130767,
          -0.095929,
          null,
          -0.173692,
          0.307965,
          null,
          -0.173692,
          -0.112905,
          null,
          -0.173692,
          -0.593383,
          null,
          -0.593383,
          -0.958426,
          null,
          -0.593383,
          -0.173692,
          null,
          -0.593383,
          -0.551028,
          null,
          0.307965,
          -0.173692,
          null,
          0.307965,
          -0.108089,
          null,
          -0.551028,
          -0.593383,
          null,
          -0.551028,
          -0.108089,
          null,
          -0.958426,
          -0.593383,
          null,
          -0.108089,
          0.307965,
          null,
          -0.108089,
          0.045749,
          null,
          -0.108089,
          -0.551028,
          null,
          0.045749,
          0.487809,
          null,
          0.045749,
          -0.354738,
          null,
          0.045749,
          -0.108089,
          null,
          0.487809,
          0.045749,
          null,
          0.487809,
          0.529128,
          null,
          -0.354738,
          0.045749,
          null,
          -0.354738,
          0.113299,
          null,
          0.529128,
          0.487809,
          null,
          0.529128,
          0.113299,
          null,
          0.529128,
          0.879945,
          null,
          0.113299,
          0.06122,
          null,
          0.113299,
          0.529128,
          null,
          0.113299,
          -0.354738,
          null,
          0.879945,
          0.529128,
          null,
          0.06122,
          0.113299,
          null
         ]
        }
       ],
       "layout": {
        "margin": {
         "b": 0,
         "l": 0,
         "r": 0,
         "t": 0
        },
        "scene": {
         "annotations": [
          {
           "showarrow": false,
           "text": "C",
           "x": 10.319218,
           "y": -0.975014,
           "yshift": 15,
           "z": -0.11246
          },
          {
           "showarrow": false,
           "text": "C",
           "x": 9.989233,
           "y": 0.240882,
           "yshift": 15,
           "z": -0.527854
          },
          {
           "showarrow": false,
           "text": "N",
           "x": 8.683964,
           "y": 0.527851,
           "yshift": 15,
           "z": -0.486781
          },
          {
           "showarrow": false,
           "text": "C",
           "x": 8.032784,
           "y": -0.459143,
           "yshift": 15,
           "z": -0.04535
          },
          {
           "showarrow": false,
           "text": "S",
           "x": 8.943268,
           "y": -1.810767,
           "yshift": 15,
           "z": 0.354826
          },
          {
           "showarrow": false,
           "text": "C",
           "x": 6.612399,
           "y": -0.441379,
           "yshift": 15,
           "z": 0.108076
          },
          {
           "showarrow": false,
           "text": "N",
           "x": 5.949453,
           "y": -1.419304,
           "yshift": 15,
           "z": 0.550389
          },
          {
           "showarrow": false,
           "text": "C",
           "x": 4.650647,
           "y": -1.119758,
           "yshift": 15,
           "z": 0.59248
          },
          {
           "showarrow": false,
           "text": "C",
           "x": 4.320718,
           "y": 0.100938,
           "yshift": 15,
           "z": 0.173268
          },
          {
           "showarrow": false,
           "text": "S",
           "x": 5.716765,
           "y": 0.917919,
           "yshift": 15,
           "z": -0.307592
          },
          {
           "showarrow": false,
           "text": "C",
           "x": 3.029384,
           "y": 0.698756,
           "yshift": 15,
           "z": 0.112453
          },
          {
           "showarrow": false,
           "text": "C",
           "x": 2.704119,
           "y": 1.990576,
           "yshift": 15,
           "z": 0.095608
          },
          {
           "showarrow": false,
           "text": "N",
           "x": 1.404054,
           "y": 2.273789,
           "yshift": 15,
           "z": 0.043735
          },
          {
           "showarrow": false,
           "text": "C",
           "x": 0.718164,
           "y": 1.216295,
           "yshift": 15,
           "z": 0.022245
          },
          {
           "showarrow": false,
           "text": "S",
           "x": 1.614074,
           "y": -0.213464,
           "yshift": 15,
           "z": 0.049972
          },
          {
           "showarrow": false,
           "text": "C",
           "x": -0.71817,
           "y": 1.216311,
           "yshift": 15,
           "z": -0.022642
          },
          {
           "showarrow": false,
           "text": "N",
           "x": -1.40404,
           "y": 2.273822,
           "yshift": 15,
           "z": -0.044021
          },
          {
           "showarrow": false,
           "text": "C",
           "x": -2.704111,
           "y": 1.990639,
           "yshift": 15,
           "z": -0.095929
          },
          {
           "showarrow": false,
           "text": "C",
           "x": -3.0294,
           "y": 0.698829,
           "yshift": 15,
           "z": -0.112905
          },
          {
           "showarrow": false,
           "text": "S",
           "x": -1.614107,
           "y": -0.213425,
           "yshift": 15,
           "z": -0.050551
          },
          {
           "showarrow": false,
           "text": "C",
           "x": -4.320758,
           "y": 0.10104,
           "yshift": 15,
           "z": -0.173692
          },
          {
           "showarrow": false,
           "text": "C",
           "x": -4.650791,
           "y": -1.119462,
           "yshift": 15,
           "z": -0.593383
          },
          {
           "showarrow": false,
           "text": "N",
           "x": -5.949578,
           "y": -1.419057,
           "yshift": 15,
           "z": -0.551028
          },
          {
           "showarrow": false,
           "text": "C",
           "x": -6.612411,
           "y": -0.441337,
           "yshift": 15,
           "z": -0.108089
          },
          {
           "showarrow": false,
           "text": "S",
           "x": -5.716674,
           "y": 0.91777,
           "yshift": 15,
           "z": 0.307965
          },
          {
           "showarrow": false,
           "text": "C",
           "x": -8.032753,
           "y": -0.459168,
           "yshift": 15,
           "z": 0.045749
          },
          {
           "showarrow": false,
           "text": "N",
           "x": -8.683787,
           "y": 0.527641,
           "yshift": 15,
           "z": 0.487809
          },
          {
           "showarrow": false,
           "text": "C",
           "x": -9.989052,
           "y": 0.240683,
           "yshift": 15,
           "z": 0.529128
          },
          {
           "showarrow": false,
           "text": "C",
           "x": -10.319178,
           "y": -0.975026,
           "yshift": 15,
           "z": 0.113299
          },
          {
           "showarrow": false,
           "text": "S",
           "x": -8.943377,
           "y": -1.810604,
           "yshift": 15,
           "z": -0.354738
          },
          {
           "showarrow": false,
           "text": "H",
           "x": 11.285166,
           "y": -1.408951,
           "yshift": 15,
           "z": -0.060276
          },
          {
           "showarrow": false,
           "text": "H",
           "x": 10.672657,
           "y": 0.973544,
           "yshift": 15,
           "z": -0.878114
          },
          {
           "showarrow": false,
           "text": "H",
           "x": 3.960642,
           "y": -1.840867,
           "yshift": 15,
           "z": 0.957018
          },
          {
           "showarrow": false,
           "text": "H",
           "x": 3.407757,
           "y": 2.786147,
           "yshift": 15,
           "z": 0.130574
          },
          {
           "showarrow": false,
           "text": "H",
           "x": -3.40774,
           "y": 2.786223,
           "yshift": 15,
           "z": -0.130767
          },
          {
           "showarrow": false,
           "text": "H",
           "x": -3.960874,
           "y": -1.840399,
           "yshift": 15,
           "z": -0.958426
          },
          {
           "showarrow": false,
           "text": "H",
           "x": -10.672347,
           "y": 0.973197,
           "yshift": 15,
           "z": 0.879945
          },
          {
           "showarrow": false,
           "text": "H",
           "x": -11.285147,
           "y": -1.408927,
           "yshift": 15,
           "z": 0.06122
          }
         ],
         "xaxis": {
          "showbackground": false,
          "showgrid": false,
          "showticklabels": false,
          "title": {
           "font": {
            "color": "white"
           }
          },
          "zeroline": false
         },
         "yaxis": {
          "showbackground": false,
          "showgrid": false,
          "showticklabels": false,
          "title": {
           "font": {
            "color": "white"
           }
          },
          "zeroline": false
         },
         "zaxis": {
          "showbackground": false,
          "showgrid": false,
          "showticklabels": false,
          "title": {
           "font": {
            "color": "white"
           }
          },
          "zeroline": false
         }
        },
        "showlegend": false,
        "template": {
         "data": {
          "bar": [
           {
            "error_x": {
             "color": "#2a3f5f"
            },
            "error_y": {
             "color": "#2a3f5f"
            },
            "marker": {
             "line": {
              "color": "#E5ECF6",
              "width": 0.5
             }
            },
            "type": "bar"
           }
          ],
          "barpolar": [
           {
            "marker": {
             "line": {
              "color": "#E5ECF6",
              "width": 0.5
             }
            },
            "type": "barpolar"
           }
          ],
          "carpet": [
           {
            "aaxis": {
             "endlinecolor": "#2a3f5f",
             "gridcolor": "white",
             "linecolor": "white",
             "minorgridcolor": "white",
             "startlinecolor": "#2a3f5f"
            },
            "baxis": {
             "endlinecolor": "#2a3f5f",
             "gridcolor": "white",
             "linecolor": "white",
             "minorgridcolor": "white",
             "startlinecolor": "#2a3f5f"
            },
            "type": "carpet"
           }
          ],
          "choropleth": [
           {
            "colorbar": {
             "outlinewidth": 0,
             "ticks": ""
            },
            "type": "choropleth"
           }
          ],
          "contour": [
           {
            "colorbar": {
             "outlinewidth": 0,
             "ticks": ""
            },
            "colorscale": [
             [
              0,
              "#0d0887"
             ],
             [
              0.1111111111111111,
              "#46039f"
             ],
             [
              0.2222222222222222,
              "#7201a8"
             ],
             [
              0.3333333333333333,
              "#9c179e"
             ],
             [
              0.4444444444444444,
              "#bd3786"
             ],
             [
              0.5555555555555556,
              "#d8576b"
             ],
             [
              0.6666666666666666,
              "#ed7953"
             ],
             [
              0.7777777777777778,
              "#fb9f3a"
             ],
             [
              0.8888888888888888,
              "#fdca26"
             ],
             [
              1,
              "#f0f921"
             ]
            ],
            "type": "contour"
           }
          ],
          "contourcarpet": [
           {
            "colorbar": {
             "outlinewidth": 0,
             "ticks": ""
            },
            "type": "contourcarpet"
           }
          ],
          "heatmap": [
           {
            "colorbar": {
             "outlinewidth": 0,
             "ticks": ""
            },
            "colorscale": [
             [
              0,
              "#0d0887"
             ],
             [
              0.1111111111111111,
              "#46039f"
             ],
             [
              0.2222222222222222,
              "#7201a8"
             ],
             [
              0.3333333333333333,
              "#9c179e"
             ],
             [
              0.4444444444444444,
              "#bd3786"
             ],
             [
              0.5555555555555556,
              "#d8576b"
             ],
             [
              0.6666666666666666,
              "#ed7953"
             ],
             [
              0.7777777777777778,
              "#fb9f3a"
             ],
             [
              0.8888888888888888,
              "#fdca26"
             ],
             [
              1,
              "#f0f921"
             ]
            ],
            "type": "heatmap"
           }
          ],
          "heatmapgl": [
           {
            "colorbar": {
             "outlinewidth": 0,
             "ticks": ""
            },
            "colorscale": [
             [
              0,
              "#0d0887"
             ],
             [
              0.1111111111111111,
              "#46039f"
             ],
             [
              0.2222222222222222,
              "#7201a8"
             ],
             [
              0.3333333333333333,
              "#9c179e"
             ],
             [
              0.4444444444444444,
              "#bd3786"
             ],
             [
              0.5555555555555556,
              "#d8576b"
             ],
             [
              0.6666666666666666,
              "#ed7953"
             ],
             [
              0.7777777777777778,
              "#fb9f3a"
             ],
             [
              0.8888888888888888,
              "#fdca26"
             ],
             [
              1,
              "#f0f921"
             ]
            ],
            "type": "heatmapgl"
           }
          ],
          "histogram": [
           {
            "marker": {
             "colorbar": {
              "outlinewidth": 0,
              "ticks": ""
             }
            },
            "type": "histogram"
           }
          ],
          "histogram2d": [
           {
            "colorbar": {
             "outlinewidth": 0,
             "ticks": ""
            },
            "colorscale": [
             [
              0,
              "#0d0887"
             ],
             [
              0.1111111111111111,
              "#46039f"
             ],
             [
              0.2222222222222222,
              "#7201a8"
             ],
             [
              0.3333333333333333,
              "#9c179e"
             ],
             [
              0.4444444444444444,
              "#bd3786"
             ],
             [
              0.5555555555555556,
              "#d8576b"
             ],
             [
              0.6666666666666666,
              "#ed7953"
             ],
             [
              0.7777777777777778,
              "#fb9f3a"
             ],
             [
              0.8888888888888888,
              "#fdca26"
             ],
             [
              1,
              "#f0f921"
             ]
            ],
            "type": "histogram2d"
           }
          ],
          "histogram2dcontour": [
           {
            "colorbar": {
             "outlinewidth": 0,
             "ticks": ""
            },
            "colorscale": [
             [
              0,
              "#0d0887"
             ],
             [
              0.1111111111111111,
              "#46039f"
             ],
             [
              0.2222222222222222,
              "#7201a8"
             ],
             [
              0.3333333333333333,
              "#9c179e"
             ],
             [
              0.4444444444444444,
              "#bd3786"
             ],
             [
              0.5555555555555556,
              "#d8576b"
             ],
             [
              0.6666666666666666,
              "#ed7953"
             ],
             [
              0.7777777777777778,
              "#fb9f3a"
             ],
             [
              0.8888888888888888,
              "#fdca26"
             ],
             [
              1,
              "#f0f921"
             ]
            ],
            "type": "histogram2dcontour"
           }
          ],
          "mesh3d": [
           {
            "colorbar": {
             "outlinewidth": 0,
             "ticks": ""
            },
            "type": "mesh3d"
           }
          ],
          "parcoords": [
           {
            "line": {
             "colorbar": {
              "outlinewidth": 0,
              "ticks": ""
             }
            },
            "type": "parcoords"
           }
          ],
          "pie": [
           {
            "automargin": true,
            "type": "pie"
           }
          ],
          "scatter": [
           {
            "marker": {
             "colorbar": {
              "outlinewidth": 0,
              "ticks": ""
             }
            },
            "type": "scatter"
           }
          ],
          "scatter3d": [
           {
            "line": {
             "colorbar": {
              "outlinewidth": 0,
              "ticks": ""
             }
            },
            "marker": {
             "colorbar": {
              "outlinewidth": 0,
              "ticks": ""
             }
            },
            "type": "scatter3d"
           }
          ],
          "scattercarpet": [
           {
            "marker": {
             "colorbar": {
              "outlinewidth": 0,
              "ticks": ""
             }
            },
            "type": "scattercarpet"
           }
          ],
          "scattergeo": [
           {
            "marker": {
             "colorbar": {
              "outlinewidth": 0,
              "ticks": ""
             }
            },
            "type": "scattergeo"
           }
          ],
          "scattergl": [
           {
            "marker": {
             "colorbar": {
              "outlinewidth": 0,
              "ticks": ""
             }
            },
            "type": "scattergl"
           }
          ],
          "scattermapbox": [
           {
            "marker": {
             "colorbar": {
              "outlinewidth": 0,
              "ticks": ""
             }
            },
            "type": "scattermapbox"
           }
          ],
          "scatterpolar": [
           {
            "marker": {
             "colorbar": {
              "outlinewidth": 0,
              "ticks": ""
             }
            },
            "type": "scatterpolar"
           }
          ],
          "scatterpolargl": [
           {
            "marker": {
             "colorbar": {
              "outlinewidth": 0,
              "ticks": ""
             }
            },
            "type": "scatterpolargl"
           }
          ],
          "scatterternary": [
           {
            "marker": {
             "colorbar": {
              "outlinewidth": 0,
              "ticks": ""
             }
            },
            "type": "scatterternary"
           }
          ],
          "surface": [
           {
            "colorbar": {
             "outlinewidth": 0,
             "ticks": ""
            },
            "colorscale": [
             [
              0,
              "#0d0887"
             ],
             [
              0.1111111111111111,
              "#46039f"
             ],
             [
              0.2222222222222222,
              "#7201a8"
             ],
             [
              0.3333333333333333,
              "#9c179e"
             ],
             [
              0.4444444444444444,
              "#bd3786"
             ],
             [
              0.5555555555555556,
              "#d8576b"
             ],
             [
              0.6666666666666666,
              "#ed7953"
             ],
             [
              0.7777777777777778,
              "#fb9f3a"
             ],
             [
              0.8888888888888888,
              "#fdca26"
             ],
             [
              1,
              "#f0f921"
             ]
            ],
            "type": "surface"
           }
          ],
          "table": [
           {
            "cells": {
             "fill": {
              "color": "#EBF0F8"
             },
             "line": {
              "color": "white"
             }
            },
            "header": {
             "fill": {
              "color": "#C8D4E3"
             },
             "line": {
              "color": "white"
             }
            },
            "type": "table"
           }
          ]
         },
         "layout": {
          "annotationdefaults": {
           "arrowcolor": "#2a3f5f",
           "arrowhead": 0,
           "arrowwidth": 1
          },
          "autotypenumbers": "strict",
          "coloraxis": {
           "colorbar": {
            "outlinewidth": 0,
            "ticks": ""
           }
          },
          "colorscale": {
           "diverging": [
            [
             0,
             "#8e0152"
            ],
            [
             0.1,
             "#c51b7d"
            ],
            [
             0.2,
             "#de77ae"
            ],
            [
             0.3,
             "#f1b6da"
            ],
            [
             0.4,
             "#fde0ef"
            ],
            [
             0.5,
             "#f7f7f7"
            ],
            [
             0.6,
             "#e6f5d0"
            ],
            [
             0.7,
             "#b8e186"
            ],
            [
             0.8,
             "#7fbc41"
            ],
            [
             0.9,
             "#4d9221"
            ],
            [
             1,
             "#276419"
            ]
           ],
           "sequential": [
            [
             0,
             "#0d0887"
            ],
            [
             0.1111111111111111,
             "#46039f"
            ],
            [
             0.2222222222222222,
             "#7201a8"
            ],
            [
             0.3333333333333333,
             "#9c179e"
            ],
            [
             0.4444444444444444,
             "#bd3786"
            ],
            [
             0.5555555555555556,
             "#d8576b"
            ],
            [
             0.6666666666666666,
             "#ed7953"
            ],
            [
             0.7777777777777778,
             "#fb9f3a"
            ],
            [
             0.8888888888888888,
             "#fdca26"
            ],
            [
             1,
             "#f0f921"
            ]
           ],
           "sequentialminus": [
            [
             0,
             "#0d0887"
            ],
            [
             0.1111111111111111,
             "#46039f"
            ],
            [
             0.2222222222222222,
             "#7201a8"
            ],
            [
             0.3333333333333333,
             "#9c179e"
            ],
            [
             0.4444444444444444,
             "#bd3786"
            ],
            [
             0.5555555555555556,
             "#d8576b"
            ],
            [
             0.6666666666666666,
             "#ed7953"
            ],
            [
             0.7777777777777778,
             "#fb9f3a"
            ],
            [
             0.8888888888888888,
             "#fdca26"
            ],
            [
             1,
             "#f0f921"
            ]
           ]
          },
          "colorway": [
           "#636efa",
           "#EF553B",
           "#00cc96",
           "#ab63fa",
           "#FFA15A",
           "#19d3f3",
           "#FF6692",
           "#B6E880",
           "#FF97FF",
           "#FECB52"
          ],
          "font": {
           "color": "#2a3f5f"
          },
          "geo": {
           "bgcolor": "white",
           "lakecolor": "white",
           "landcolor": "#E5ECF6",
           "showlakes": true,
           "showland": true,
           "subunitcolor": "white"
          },
          "hoverlabel": {
           "align": "left"
          },
          "hovermode": "closest",
          "mapbox": {
           "style": "light"
          },
          "paper_bgcolor": "white",
          "plot_bgcolor": "#E5ECF6",
          "polar": {
           "angularaxis": {
            "gridcolor": "white",
            "linecolor": "white",
            "ticks": ""
           },
           "bgcolor": "#E5ECF6",
           "radialaxis": {
            "gridcolor": "white",
            "linecolor": "white",
            "ticks": ""
           }
          },
          "scene": {
           "xaxis": {
            "backgroundcolor": "#E5ECF6",
            "gridcolor": "white",
            "gridwidth": 2,
            "linecolor": "white",
            "showbackground": true,
            "ticks": "",
            "zerolinecolor": "white"
           },
           "yaxis": {
            "backgroundcolor": "#E5ECF6",
            "gridcolor": "white",
            "gridwidth": 2,
            "linecolor": "white",
            "showbackground": true,
            "ticks": "",
            "zerolinecolor": "white"
           },
           "zaxis": {
            "backgroundcolor": "#E5ECF6",
            "gridcolor": "white",
            "gridwidth": 2,
            "linecolor": "white",
            "showbackground": true,
            "ticks": "",
            "zerolinecolor": "white"
           }
          },
          "shapedefaults": {
           "line": {
            "color": "#2a3f5f"
           }
          },
          "ternary": {
           "aaxis": {
            "gridcolor": "white",
            "linecolor": "white",
            "ticks": ""
           },
           "baxis": {
            "gridcolor": "white",
            "linecolor": "white",
            "ticks": ""
           },
           "bgcolor": "#E5ECF6",
           "caxis": {
            "gridcolor": "white",
            "linecolor": "white",
            "ticks": ""
           }
          },
          "title": {
           "x": 0.05
          },
          "xaxis": {
           "automargin": true,
           "gridcolor": "white",
           "linecolor": "white",
           "ticks": "",
           "title": {
            "standoff": 15
           },
           "zerolinecolor": "white",
           "zerolinewidth": 2
          },
          "yaxis": {
           "automargin": true,
           "gridcolor": "white",
           "linecolor": "white",
           "ticks": "",
           "title": {
            "standoff": 15
           },
           "zerolinecolor": "white",
           "zerolinewidth": 2
          }
         }
        },
        "updatemenus": [
         {
          "buttons": [
           {
            "args": [
             {
              "scene.annotations": [
               {
                "showarrow": false,
                "text": "C",
                "x": 10.319218,
                "y": -0.975014,
                "yshift": 15,
                "z": -0.11246
               },
               {
                "showarrow": false,
                "text": "C",
                "x": 9.989233,
                "y": 0.240882,
                "yshift": 15,
                "z": -0.527854
               },
               {
                "showarrow": false,
                "text": "N",
                "x": 8.683964,
                "y": 0.527851,
                "yshift": 15,
                "z": -0.486781
               },
               {
                "showarrow": false,
                "text": "C",
                "x": 8.032784,
                "y": -0.459143,
                "yshift": 15,
                "z": -0.04535
               },
               {
                "showarrow": false,
                "text": "S",
                "x": 8.943268,
                "y": -1.810767,
                "yshift": 15,
                "z": 0.354826
               },
               {
                "showarrow": false,
                "text": "C",
                "x": 6.612399,
                "y": -0.441379,
                "yshift": 15,
                "z": 0.108076
               },
               {
                "showarrow": false,
                "text": "N",
                "x": 5.949453,
                "y": -1.419304,
                "yshift": 15,
                "z": 0.550389
               },
               {
                "showarrow": false,
                "text": "C",
                "x": 4.650647,
                "y": -1.119758,
                "yshift": 15,
                "z": 0.59248
               },
               {
                "showarrow": false,
                "text": "C",
                "x": 4.320718,
                "y": 0.100938,
                "yshift": 15,
                "z": 0.173268
               },
               {
                "showarrow": false,
                "text": "S",
                "x": 5.716765,
                "y": 0.917919,
                "yshift": 15,
                "z": -0.307592
               },
               {
                "showarrow": false,
                "text": "C",
                "x": 3.029384,
                "y": 0.698756,
                "yshift": 15,
                "z": 0.112453
               },
               {
                "showarrow": false,
                "text": "C",
                "x": 2.704119,
                "y": 1.990576,
                "yshift": 15,
                "z": 0.095608
               },
               {
                "showarrow": false,
                "text": "N",
                "x": 1.404054,
                "y": 2.273789,
                "yshift": 15,
                "z": 0.043735
               },
               {
                "showarrow": false,
                "text": "C",
                "x": 0.718164,
                "y": 1.216295,
                "yshift": 15,
                "z": 0.022245
               },
               {
                "showarrow": false,
                "text": "S",
                "x": 1.614074,
                "y": -0.213464,
                "yshift": 15,
                "z": 0.049972
               },
               {
                "showarrow": false,
                "text": "C",
                "x": -0.71817,
                "y": 1.216311,
                "yshift": 15,
                "z": -0.022642
               },
               {
                "showarrow": false,
                "text": "N",
                "x": -1.40404,
                "y": 2.273822,
                "yshift": 15,
                "z": -0.044021
               },
               {
                "showarrow": false,
                "text": "C",
                "x": -2.704111,
                "y": 1.990639,
                "yshift": 15,
                "z": -0.095929
               },
               {
                "showarrow": false,
                "text": "C",
                "x": -3.0294,
                "y": 0.698829,
                "yshift": 15,
                "z": -0.112905
               },
               {
                "showarrow": false,
                "text": "S",
                "x": -1.614107,
                "y": -0.213425,
                "yshift": 15,
                "z": -0.050551
               },
               {
                "showarrow": false,
                "text": "C",
                "x": -4.320758,
                "y": 0.10104,
                "yshift": 15,
                "z": -0.173692
               },
               {
                "showarrow": false,
                "text": "C",
                "x": -4.650791,
                "y": -1.119462,
                "yshift": 15,
                "z": -0.593383
               },
               {
                "showarrow": false,
                "text": "N",
                "x": -5.949578,
                "y": -1.419057,
                "yshift": 15,
                "z": -0.551028
               },
               {
                "showarrow": false,
                "text": "C",
                "x": -6.612411,
                "y": -0.441337,
                "yshift": 15,
                "z": -0.108089
               },
               {
                "showarrow": false,
                "text": "S",
                "x": -5.716674,
                "y": 0.91777,
                "yshift": 15,
                "z": 0.307965
               },
               {
                "showarrow": false,
                "text": "C",
                "x": -8.032753,
                "y": -0.459168,
                "yshift": 15,
                "z": 0.045749
               },
               {
                "showarrow": false,
                "text": "N",
                "x": -8.683787,
                "y": 0.527641,
                "yshift": 15,
                "z": 0.487809
               },
               {
                "showarrow": false,
                "text": "C",
                "x": -9.989052,
                "y": 0.240683,
                "yshift": 15,
                "z": 0.529128
               },
               {
                "showarrow": false,
                "text": "C",
                "x": -10.319178,
                "y": -0.975026,
                "yshift": 15,
                "z": 0.113299
               },
               {
                "showarrow": false,
                "text": "S",
                "x": -8.943377,
                "y": -1.810604,
                "yshift": 15,
                "z": -0.354738
               },
               {
                "showarrow": false,
                "text": "H",
                "x": 11.285166,
                "y": -1.408951,
                "yshift": 15,
                "z": -0.060276
               },
               {
                "showarrow": false,
                "text": "H",
                "x": 10.672657,
                "y": 0.973544,
                "yshift": 15,
                "z": -0.878114
               },
               {
                "showarrow": false,
                "text": "H",
                "x": 3.960642,
                "y": -1.840867,
                "yshift": 15,
                "z": 0.957018
               },
               {
                "showarrow": false,
                "text": "H",
                "x": 3.407757,
                "y": 2.786147,
                "yshift": 15,
                "z": 0.130574
               },
               {
                "showarrow": false,
                "text": "H",
                "x": -3.40774,
                "y": 2.786223,
                "yshift": 15,
                "z": -0.130767
               },
               {
                "showarrow": false,
                "text": "H",
                "x": -3.960874,
                "y": -1.840399,
                "yshift": 15,
                "z": -0.958426
               },
               {
                "showarrow": false,
                "text": "H",
                "x": -10.672347,
                "y": 0.973197,
                "yshift": 15,
                "z": 0.879945
               },
               {
                "showarrow": false,
                "text": "H",
                "x": -11.285147,
                "y": -1.408927,
                "yshift": 15,
                "z": 0.06122
               }
              ]
             }
            ],
            "label": " Elements",
            "method": "relayout"
           },
           {
            "args": [
             {
              "scene.annotations": [
               {
                "showarrow": false,
                "text": "C",
                "x": 10.319218,
                "y": -0.975014,
                "yshift": 15,
                "z": -0.11246
               },
               {
                "showarrow": false,
                "text": "C",
                "x": 9.989233,
                "y": 0.240882,
                "yshift": 15,
                "z": -0.527854
               },
               {
                "showarrow": false,
                "text": "N",
                "x": 8.683964,
                "y": 0.527851,
                "yshift": 15,
                "z": -0.486781
               },
               {
                "showarrow": false,
                "text": "C",
                "x": 8.032784,
                "y": -0.459143,
                "yshift": 15,
                "z": -0.04535
               },
               {
                "showarrow": false,
                "text": "S",
                "x": 8.943268,
                "y": -1.810767,
                "yshift": 15,
                "z": 0.354826
               },
               {
                "showarrow": false,
                "text": "C",
                "x": 6.612399,
                "y": -0.441379,
                "yshift": 15,
                "z": 0.108076
               },
               {
                "showarrow": false,
                "text": "N",
                "x": 5.949453,
                "y": -1.419304,
                "yshift": 15,
                "z": 0.550389
               },
               {
                "showarrow": false,
                "text": "C",
                "x": 4.650647,
                "y": -1.119758,
                "yshift": 15,
                "z": 0.59248
               },
               {
                "showarrow": false,
                "text": "C",
                "x": 4.320718,
                "y": 0.100938,
                "yshift": 15,
                "z": 0.173268
               },
               {
                "showarrow": false,
                "text": "S",
                "x": 5.716765,
                "y": 0.917919,
                "yshift": 15,
                "z": -0.307592
               },
               {
                "showarrow": false,
                "text": "C",
                "x": 3.029384,
                "y": 0.698756,
                "yshift": 15,
                "z": 0.112453
               },
               {
                "showarrow": false,
                "text": "C",
                "x": 2.704119,
                "y": 1.990576,
                "yshift": 15,
                "z": 0.095608
               },
               {
                "showarrow": false,
                "text": "N",
                "x": 1.404054,
                "y": 2.273789,
                "yshift": 15,
                "z": 0.043735
               },
               {
                "showarrow": false,
                "text": "C",
                "x": 0.718164,
                "y": 1.216295,
                "yshift": 15,
                "z": 0.022245
               },
               {
                "showarrow": false,
                "text": "S",
                "x": 1.614074,
                "y": -0.213464,
                "yshift": 15,
                "z": 0.049972
               },
               {
                "showarrow": false,
                "text": "C",
                "x": -0.71817,
                "y": 1.216311,
                "yshift": 15,
                "z": -0.022642
               },
               {
                "showarrow": false,
                "text": "N",
                "x": -1.40404,
                "y": 2.273822,
                "yshift": 15,
                "z": -0.044021
               },
               {
                "showarrow": false,
                "text": "C",
                "x": -2.704111,
                "y": 1.990639,
                "yshift": 15,
                "z": -0.095929
               },
               {
                "showarrow": false,
                "text": "C",
                "x": -3.0294,
                "y": 0.698829,
                "yshift": 15,
                "z": -0.112905
               },
               {
                "showarrow": false,
                "text": "S",
                "x": -1.614107,
                "y": -0.213425,
                "yshift": 15,
                "z": -0.050551
               },
               {
                "showarrow": false,
                "text": "C",
                "x": -4.320758,
                "y": 0.10104,
                "yshift": 15,
                "z": -0.173692
               },
               {
                "showarrow": false,
                "text": "C",
                "x": -4.650791,
                "y": -1.119462,
                "yshift": 15,
                "z": -0.593383
               },
               {
                "showarrow": false,
                "text": "N",
                "x": -5.949578,
                "y": -1.419057,
                "yshift": 15,
                "z": -0.551028
               },
               {
                "showarrow": false,
                "text": "C",
                "x": -6.612411,
                "y": -0.441337,
                "yshift": 15,
                "z": -0.108089
               },
               {
                "showarrow": false,
                "text": "S",
                "x": -5.716674,
                "y": 0.91777,
                "yshift": 15,
                "z": 0.307965
               },
               {
                "showarrow": false,
                "text": "C",
                "x": -8.032753,
                "y": -0.459168,
                "yshift": 15,
                "z": 0.045749
               },
               {
                "showarrow": false,
                "text": "N",
                "x": -8.683787,
                "y": 0.527641,
                "yshift": 15,
                "z": 0.487809
               },
               {
                "showarrow": false,
                "text": "C",
                "x": -9.989052,
                "y": 0.240683,
                "yshift": 15,
                "z": 0.529128
               },
               {
                "showarrow": false,
                "text": "C",
                "x": -10.319178,
                "y": -0.975026,
                "yshift": 15,
                "z": 0.113299
               },
               {
                "showarrow": false,
                "text": "S",
                "x": -8.943377,
                "y": -1.810604,
                "yshift": 15,
                "z": -0.354738
               },
               {
                "showarrow": false,
                "text": "H",
                "x": 11.285166,
                "y": -1.408951,
                "yshift": 15,
                "z": -0.060276
               },
               {
                "showarrow": false,
                "text": "H",
                "x": 10.672657,
                "y": 0.973544,
                "yshift": 15,
                "z": -0.878114
               },
               {
                "showarrow": false,
                "text": "H",
                "x": 3.960642,
                "y": -1.840867,
                "yshift": 15,
                "z": 0.957018
               },
               {
                "showarrow": false,
                "text": "H",
                "x": 3.407757,
                "y": 2.786147,
                "yshift": 15,
                "z": 0.130574
               },
               {
                "showarrow": false,
                "text": "H",
                "x": -3.40774,
                "y": 2.786223,
                "yshift": 15,
                "z": -0.130767
               },
               {
                "showarrow": false,
                "text": "H",
                "x": -3.960874,
                "y": -1.840399,
                "yshift": 15,
                "z": -0.958426
               },
               {
                "showarrow": false,
                "text": "H",
                "x": -10.672347,
                "y": 0.973197,
                "yshift": 15,
                "z": 0.879945
               },
               {
                "showarrow": false,
                "text": "H",
                "x": -11.285147,
                "y": -1.408927,
                "yshift": 15,
                "z": 0.06122
               },
               {
                "font": {
                 "color": "steelblue"
                },
                "showarrow": false,
                "text": 1.33,
                "x": 10.154225499999999,
                "y": -0.367066,
                "yshift": 15,
                "z": -0.320157
               },
               {
                "font": {
                 "color": "steelblue"
                },
                "showarrow": false,
                "text": 1.68,
                "x": 9.631243,
                "y": -1.3928905,
                "yshift": 15,
                "z": 0.12118299999999999
               },
               {
                "font": {
                 "color": "steelblue"
                },
                "showarrow": false,
                "text": 1.06,
                "x": 10.802192,
                "y": -1.1919825,
                "yshift": 15,
                "z": -0.086368
               },
               {
                "font": {
                 "color": "steelblue"
                },
                "showarrow": false,
                "text": 1.34,
                "x": 9.336598500000001,
                "y": 0.3843665,
                "yshift": 15,
                "z": -0.5073175000000001
               },
               {
                "font": {
                 "color": "steelblue"
                },
                "showarrow": false,
                "text": 1.06,
                "x": 10.330945,
                "y": 0.607213,
                "yshift": 15,
                "z": -0.702984
               },
               {
                "font": {
                 "color": "steelblue"
                },
                "showarrow": false,
                "text": 1.26,
                "x": 8.358374,
                "y": 0.03435399999999997,
                "yshift": 15,
                "z": -0.2660655
               },
               {
                "font": {
                 "color": "steelblue"
                },
                "showarrow": false,
                "text": 1.68,
                "x": 8.488026,
                "y": -1.134955,
                "yshift": 15,
                "z": 0.154738
               },
               {
                "font": {
                 "color": "steelblue"
                },
                "showarrow": false,
                "text": 1.43,
                "x": 7.3225915,
                "y": -0.450261,
                "yshift": 15,
                "z": 0.031363
               },
               {
                "font": {
                 "color": "steelblue"
                },
                "showarrow": false,
                "text": 1.26,
                "x": 6.280926,
                "y": -0.9303414999999999,
                "yshift": 15,
                "z": 0.32923250000000004
               },
               {
                "font": {
                 "color": "steelblue"
                },
                "showarrow": false,
                "text": 1.68,
                "x": 6.164581999999999,
                "y": 0.23827,
                "yshift": 15,
                "z": -0.09975799999999999
               },
               {
                "font": {
                 "color": "steelblue"
                },
                "showarrow": false,
                "text": 1.33,
                "x": 5.300050000000001,
                "y": -1.269531,
                "yshift": 15,
                "z": 0.5714345000000001
               },
               {
                "font": {
                 "color": "steelblue"
                },
                "showarrow": false,
                "text": 1.33,
                "x": 4.4856825,
                "y": -0.50941,
                "yshift": 15,
                "z": 0.382874
               },
               {
                "font": {
                 "color": "steelblue"
                },
                "showarrow": false,
                "text": 1.06,
                "x": 4.3056445,
                "y": -1.4803125000000001,
                "yshift": 15,
                "z": 0.774749
               },
               {
                "font": {
                 "color": "steelblue"
                },
                "showarrow": false,
                "text": 1.69,
                "x": 5.0187415,
                "y": 0.5094285000000001,
                "yshift": 15,
                "z": -0.06716199999999999
               },
               {
                "font": {
                 "color": "steelblue"
                },
                "showarrow": false,
                "text": 1.42,
                "x": 3.675051,
                "y": 0.399847,
                "yshift": 15,
                "z": 0.1428605
               },
               {
                "font": {
                 "color": "steelblue"
                },
                "showarrow": false,
                "text": 1.33,
                "x": 2.8667515,
                "y": 1.344666,
                "yshift": 15,
                "z": 0.1040305
               },
               {
                "font": {
                 "color": "steelblue"
                },
                "showarrow": false,
                "text": 1.68,
                "x": 2.321729,
                "y": 0.24264600000000003,
                "yshift": 15,
                "z": 0.08121249999999999
               },
               {
                "font": {
                 "color": "steelblue"
                },
                "showarrow": false,
                "text": 1.33,
                "x": 2.0540865,
                "y": 2.1321825,
                "yshift": 15,
                "z": 0.0696715
               },
               {
                "font": {
                 "color": "steelblue"
                },
                "showarrow": false,
                "text": 1.06,
                "x": 3.0559380000000003,
                "y": 2.3883615000000002,
                "yshift": 15,
                "z": 0.113091
               },
               {
                "font": {
                 "color": "steelblue"
                },
                "showarrow": false,
                "text": 1.26,
                "x": 1.061109,
                "y": 1.7450419999999998,
                "yshift": 15,
                "z": 0.032990000000000005
               },
               {
                "font": {
                 "color": "steelblue"
                },
                "showarrow": false,
                "text": 1.69,
                "x": 1.1661190000000001,
                "y": 0.5014155,
                "yshift": 15,
                "z": 0.0361085
               },
               {
                "font": {
                 "color": "steelblue"
                },
                "showarrow": false,
                "text": 1.44,
                "x": -2.9999999999752447e-06,
                "y": 1.216303,
                "yshift": 15,
                "z": -0.00019849999999999902
               },
               {
                "font": {
                 "color": "steelblue"
                },
                "showarrow": false,
                "text": 1.26,
                "x": -1.061105,
                "y": 1.7450665,
                "yshift": 15,
                "z": -0.0333315
               },
               {
                "font": {
                 "color": "steelblue"
                },
                "showarrow": false,
                "text": 1.69,
                "x": -1.1661385,
                "y": 0.501443,
                "yshift": 15,
                "z": -0.0365965
               },
               {
                "font": {
                 "color": "steelblue"
                },
                "showarrow": false,
                "text": 1.33,
                "x": -2.0540755,
                "y": 2.1322305,
                "yshift": 15,
                "z": -0.069975
               },
               {
                "font": {
                 "color": "steelblue"
                },
                "showarrow": false,
                "text": 1.33,
                "x": -2.8667555,
                "y": 1.344734,
                "yshift": 15,
                "z": -0.10441700000000001
               },
               {
                "font": {
                 "color": "steelblue"
                },
                "showarrow": false,
                "text": 1.06,
                "x": -3.0559255,
                "y": 2.388431,
                "yshift": 15,
                "z": -0.113348
               },
               {
                "font": {
                 "color": "steelblue"
                },
                "showarrow": false,
                "text": 1.68,
                "x": -2.3217535,
                "y": 0.24270200000000003,
                "yshift": 15,
                "z": -0.081728
               },
               {
                "font": {
                 "color": "steelblue"
                },
                "showarrow": false,
                "text": 1.42,
                "x": -3.6750789999999998,
                "y": 0.3999345,
                "yshift": 15,
                "z": -0.1432985
               },
               {
                "font": {
                 "color": "steelblue"
                },
                "showarrow": false,
                "text": 1.33,
                "x": -4.4857745,
                "y": -0.509211,
                "yshift": 15,
                "z": -0.3835375
               },
               {
                "font": {
                 "color": "steelblue"
                },
                "showarrow": false,
                "text": 1.69,
                "x": -5.0187159999999995,
                "y": 0.509405,
                "yshift": 15,
                "z": 0.06713649999999999
               },
               {
                "font": {
                 "color": "steelblue"
                },
                "showarrow": false,
                "text": 1.33,
                "x": -5.3001845,
                "y": -1.2692595,
                "yshift": 15,
                "z": -0.5722054999999999
               },
               {
                "font": {
                 "color": "steelblue"
                },
                "showarrow": false,
                "text": 1.06,
                "x": -4.3058325,
                "y": -1.4799305,
                "yshift": 15,
                "z": -0.7759045
               },
               {
                "font": {
                 "color": "steelblue"
                },
                "showarrow": false,
                "text": 1.26,
                "x": -6.2809945,
                "y": -0.9301969999999999,
                "yshift": 15,
                "z": -0.3295585
               },
               {
                "font": {
                 "color": "steelblue"
                },
                "showarrow": false,
                "text": 1.68,
                "x": -6.1645425,
                "y": 0.2382165,
                "yshift": 15,
                "z": 0.099938
               },
               {
                "font": {
                 "color": "steelblue"
                },
                "showarrow": false,
                "text": 1.43,
                "x": -7.322582,
                "y": -0.4502525,
                "yshift": 15,
                "z": -0.031170000000000003
               },
               {
                "font": {
                 "color": "steelblue"
                },
                "showarrow": false,
                "text": 1.26,
                "x": -8.358270000000001,
                "y": 0.0342365,
                "yshift": 15,
                "z": 0.266779
               },
               {
                "font": {
                 "color": "steelblue"
                },
                "showarrow": false,
                "text": 1.68,
                "x": -8.488064999999999,
                "y": -1.134886,
                "yshift": 15,
                "z": -0.1544945
               },
               {
                "font": {
                 "color": "steelblue"
                },
                "showarrow": false,
                "text": 1.34,
                "x": -9.3364195,
                "y": 0.384162,
                "yshift": 15,
                "z": 0.5084685
               },
               {
                "font": {
                 "color": "steelblue"
                },
                "showarrow": false,
                "text": 1.33,
                "x": -10.154115000000001,
                "y": -0.3671715,
                "yshift": 15,
                "z": 0.32121350000000004
               },
               {
                "font": {
                 "color": "steelblue"
                },
                "showarrow": false,
                "text": 1.06,
                "x": -10.3306995,
                "y": 0.60694,
                "yshift": 15,
                "z": 0.7045365
               },
               {
                "font": {
                 "color": "steelblue"
                },
                "showarrow": false,
                "text": 1.68,
                "x": -9.6312775,
                "y": -1.3928150000000001,
                "yshift": 15,
                "z": -0.12071950000000001
               },
               {
                "font": {
                 "color": "steelblue"
                },
                "showarrow": false,
                "text": 1.06,
                "x": -10.802162500000001,
                "y": -1.1919765,
                "yshift": 15,
                "z": 0.08725949999999999
               }
              ]
             }
            ],
            "label": " Elements & Bond Lengths",
            "method": "relayout"
           },
           {
            "args": [
             {
              "scene.annotations": [
               {
                "showarrow": false,
                "text": 0,
                "x": 10.319218,
                "y": -0.975014,
                "yshift": 15,
                "z": -0.11246
               },
               {
                "showarrow": false,
                "text": 1,
                "x": 9.989233,
                "y": 0.240882,
                "yshift": 15,
                "z": -0.527854
               },
               {
                "showarrow": false,
                "text": 2,
                "x": 8.683964,
                "y": 0.527851,
                "yshift": 15,
                "z": -0.486781
               },
               {
                "showarrow": false,
                "text": 3,
                "x": 8.032784,
                "y": -0.459143,
                "yshift": 15,
                "z": -0.04535
               },
               {
                "showarrow": false,
                "text": 4,
                "x": 8.943268,
                "y": -1.810767,
                "yshift": 15,
                "z": 0.354826
               },
               {
                "showarrow": false,
                "text": 5,
                "x": 6.612399,
                "y": -0.441379,
                "yshift": 15,
                "z": 0.108076
               },
               {
                "showarrow": false,
                "text": 6,
                "x": 5.949453,
                "y": -1.419304,
                "yshift": 15,
                "z": 0.550389
               },
               {
                "showarrow": false,
                "text": 7,
                "x": 4.650647,
                "y": -1.119758,
                "yshift": 15,
                "z": 0.59248
               },
               {
                "showarrow": false,
                "text": 8,
                "x": 4.320718,
                "y": 0.100938,
                "yshift": 15,
                "z": 0.173268
               },
               {
                "showarrow": false,
                "text": 9,
                "x": 5.716765,
                "y": 0.917919,
                "yshift": 15,
                "z": -0.307592
               },
               {
                "showarrow": false,
                "text": 10,
                "x": 3.029384,
                "y": 0.698756,
                "yshift": 15,
                "z": 0.112453
               },
               {
                "showarrow": false,
                "text": 11,
                "x": 2.704119,
                "y": 1.990576,
                "yshift": 15,
                "z": 0.095608
               },
               {
                "showarrow": false,
                "text": 12,
                "x": 1.404054,
                "y": 2.273789,
                "yshift": 15,
                "z": 0.043735
               },
               {
                "showarrow": false,
                "text": 13,
                "x": 0.718164,
                "y": 1.216295,
                "yshift": 15,
                "z": 0.022245
               },
               {
                "showarrow": false,
                "text": 14,
                "x": 1.614074,
                "y": -0.213464,
                "yshift": 15,
                "z": 0.049972
               },
               {
                "showarrow": false,
                "text": 15,
                "x": -0.71817,
                "y": 1.216311,
                "yshift": 15,
                "z": -0.022642
               },
               {
                "showarrow": false,
                "text": 16,
                "x": -1.40404,
                "y": 2.273822,
                "yshift": 15,
                "z": -0.044021
               },
               {
                "showarrow": false,
                "text": 17,
                "x": -2.704111,
                "y": 1.990639,
                "yshift": 15,
                "z": -0.095929
               },
               {
                "showarrow": false,
                "text": 18,
                "x": -3.0294,
                "y": 0.698829,
                "yshift": 15,
                "z": -0.112905
               },
               {
                "showarrow": false,
                "text": 19,
                "x": -1.614107,
                "y": -0.213425,
                "yshift": 15,
                "z": -0.050551
               },
               {
                "showarrow": false,
                "text": 20,
                "x": -4.320758,
                "y": 0.10104,
                "yshift": 15,
                "z": -0.173692
               },
               {
                "showarrow": false,
                "text": 21,
                "x": -4.650791,
                "y": -1.119462,
                "yshift": 15,
                "z": -0.593383
               },
               {
                "showarrow": false,
                "text": 22,
                "x": -5.949578,
                "y": -1.419057,
                "yshift": 15,
                "z": -0.551028
               },
               {
                "showarrow": false,
                "text": 23,
                "x": -6.612411,
                "y": -0.441337,
                "yshift": 15,
                "z": -0.108089
               },
               {
                "showarrow": false,
                "text": 24,
                "x": -5.716674,
                "y": 0.91777,
                "yshift": 15,
                "z": 0.307965
               },
               {
                "showarrow": false,
                "text": 25,
                "x": -8.032753,
                "y": -0.459168,
                "yshift": 15,
                "z": 0.045749
               },
               {
                "showarrow": false,
                "text": 26,
                "x": -8.683787,
                "y": 0.527641,
                "yshift": 15,
                "z": 0.487809
               },
               {
                "showarrow": false,
                "text": 27,
                "x": -9.989052,
                "y": 0.240683,
                "yshift": 15,
                "z": 0.529128
               },
               {
                "showarrow": false,
                "text": 28,
                "x": -10.319178,
                "y": -0.975026,
                "yshift": 15,
                "z": 0.113299
               },
               {
                "showarrow": false,
                "text": 29,
                "x": -8.943377,
                "y": -1.810604,
                "yshift": 15,
                "z": -0.354738
               },
               {
                "showarrow": false,
                "text": 30,
                "x": 11.285166,
                "y": -1.408951,
                "yshift": 15,
                "z": -0.060276
               },
               {
                "showarrow": false,
                "text": 31,
                "x": 10.672657,
                "y": 0.973544,
                "yshift": 15,
                "z": -0.878114
               },
               {
                "showarrow": false,
                "text": 32,
                "x": 3.960642,
                "y": -1.840867,
                "yshift": 15,
                "z": 0.957018
               },
               {
                "showarrow": false,
                "text": 33,
                "x": 3.407757,
                "y": 2.786147,
                "yshift": 15,
                "z": 0.130574
               },
               {
                "showarrow": false,
                "text": 34,
                "x": -3.40774,
                "y": 2.786223,
                "yshift": 15,
                "z": -0.130767
               },
               {
                "showarrow": false,
                "text": 35,
                "x": -3.960874,
                "y": -1.840399,
                "yshift": 15,
                "z": -0.958426
               },
               {
                "showarrow": false,
                "text": 36,
                "x": -10.672347,
                "y": 0.973197,
                "yshift": 15,
                "z": 0.879945
               },
               {
                "showarrow": false,
                "text": 37,
                "x": -11.285147,
                "y": -1.408927,
                "yshift": 15,
                "z": 0.06122
               }
              ]
             }
            ],
            "label": "Indices",
            "method": "relayout"
           },
           {
            "args": [
             {
              "scene.annotations": [
               {
                "showarrow": false,
                "text": 0,
                "x": 10.319218,
                "y": -0.975014,
                "yshift": 15,
                "z": -0.11246
               },
               {
                "showarrow": false,
                "text": 1,
                "x": 9.989233,
                "y": 0.240882,
                "yshift": 15,
                "z": -0.527854
               },
               {
                "showarrow": false,
                "text": 2,
                "x": 8.683964,
                "y": 0.527851,
                "yshift": 15,
                "z": -0.486781
               },
               {
                "showarrow": false,
                "text": 3,
                "x": 8.032784,
                "y": -0.459143,
                "yshift": 15,
                "z": -0.04535
               },
               {
                "showarrow": false,
                "text": 4,
                "x": 8.943268,
                "y": -1.810767,
                "yshift": 15,
                "z": 0.354826
               },
               {
                "showarrow": false,
                "text": 5,
                "x": 6.612399,
                "y": -0.441379,
                "yshift": 15,
                "z": 0.108076
               },
               {
                "showarrow": false,
                "text": 6,
                "x": 5.949453,
                "y": -1.419304,
                "yshift": 15,
                "z": 0.550389
               },
               {
                "showarrow": false,
                "text": 7,
                "x": 4.650647,
                "y": -1.119758,
                "yshift": 15,
                "z": 0.59248
               },
               {
                "showarrow": false,
                "text": 8,
                "x": 4.320718,
                "y": 0.100938,
                "yshift": 15,
                "z": 0.173268
               },
               {
                "showarrow": false,
                "text": 9,
                "x": 5.716765,
                "y": 0.917919,
                "yshift": 15,
                "z": -0.307592
               },
               {
                "showarrow": false,
                "text": 10,
                "x": 3.029384,
                "y": 0.698756,
                "yshift": 15,
                "z": 0.112453
               },
               {
                "showarrow": false,
                "text": 11,
                "x": 2.704119,
                "y": 1.990576,
                "yshift": 15,
                "z": 0.095608
               },
               {
                "showarrow": false,
                "text": 12,
                "x": 1.404054,
                "y": 2.273789,
                "yshift": 15,
                "z": 0.043735
               },
               {
                "showarrow": false,
                "text": 13,
                "x": 0.718164,
                "y": 1.216295,
                "yshift": 15,
                "z": 0.022245
               },
               {
                "showarrow": false,
                "text": 14,
                "x": 1.614074,
                "y": -0.213464,
                "yshift": 15,
                "z": 0.049972
               },
               {
                "showarrow": false,
                "text": 15,
                "x": -0.71817,
                "y": 1.216311,
                "yshift": 15,
                "z": -0.022642
               },
               {
                "showarrow": false,
                "text": 16,
                "x": -1.40404,
                "y": 2.273822,
                "yshift": 15,
                "z": -0.044021
               },
               {
                "showarrow": false,
                "text": 17,
                "x": -2.704111,
                "y": 1.990639,
                "yshift": 15,
                "z": -0.095929
               },
               {
                "showarrow": false,
                "text": 18,
                "x": -3.0294,
                "y": 0.698829,
                "yshift": 15,
                "z": -0.112905
               },
               {
                "showarrow": false,
                "text": 19,
                "x": -1.614107,
                "y": -0.213425,
                "yshift": 15,
                "z": -0.050551
               },
               {
                "showarrow": false,
                "text": 20,
                "x": -4.320758,
                "y": 0.10104,
                "yshift": 15,
                "z": -0.173692
               },
               {
                "showarrow": false,
                "text": 21,
                "x": -4.650791,
                "y": -1.119462,
                "yshift": 15,
                "z": -0.593383
               },
               {
                "showarrow": false,
                "text": 22,
                "x": -5.949578,
                "y": -1.419057,
                "yshift": 15,
                "z": -0.551028
               },
               {
                "showarrow": false,
                "text": 23,
                "x": -6.612411,
                "y": -0.441337,
                "yshift": 15,
                "z": -0.108089
               },
               {
                "showarrow": false,
                "text": 24,
                "x": -5.716674,
                "y": 0.91777,
                "yshift": 15,
                "z": 0.307965
               },
               {
                "showarrow": false,
                "text": 25,
                "x": -8.032753,
                "y": -0.459168,
                "yshift": 15,
                "z": 0.045749
               },
               {
                "showarrow": false,
                "text": 26,
                "x": -8.683787,
                "y": 0.527641,
                "yshift": 15,
                "z": 0.487809
               },
               {
                "showarrow": false,
                "text": 27,
                "x": -9.989052,
                "y": 0.240683,
                "yshift": 15,
                "z": 0.529128
               },
               {
                "showarrow": false,
                "text": 28,
                "x": -10.319178,
                "y": -0.975026,
                "yshift": 15,
                "z": 0.113299
               },
               {
                "showarrow": false,
                "text": 29,
                "x": -8.943377,
                "y": -1.810604,
                "yshift": 15,
                "z": -0.354738
               },
               {
                "showarrow": false,
                "text": 30,
                "x": 11.285166,
                "y": -1.408951,
                "yshift": 15,
                "z": -0.060276
               },
               {
                "showarrow": false,
                "text": 31,
                "x": 10.672657,
                "y": 0.973544,
                "yshift": 15,
                "z": -0.878114
               },
               {
                "showarrow": false,
                "text": 32,
                "x": 3.960642,
                "y": -1.840867,
                "yshift": 15,
                "z": 0.957018
               },
               {
                "showarrow": false,
                "text": 33,
                "x": 3.407757,
                "y": 2.786147,
                "yshift": 15,
                "z": 0.130574
               },
               {
                "showarrow": false,
                "text": 34,
                "x": -3.40774,
                "y": 2.786223,
                "yshift": 15,
                "z": -0.130767
               },
               {
                "showarrow": false,
                "text": 35,
                "x": -3.960874,
                "y": -1.840399,
                "yshift": 15,
                "z": -0.958426
               },
               {
                "showarrow": false,
                "text": 36,
                "x": -10.672347,
                "y": 0.973197,
                "yshift": 15,
                "z": 0.879945
               },
               {
                "showarrow": false,
                "text": 37,
                "x": -11.285147,
                "y": -1.408927,
                "yshift": 15,
                "z": 0.06122
               },
               {
                "font": {
                 "color": "steelblue"
                },
                "showarrow": false,
                "text": 1.33,
                "x": 10.154225499999999,
                "y": -0.367066,
                "yshift": 15,
                "z": -0.320157
               },
               {
                "font": {
                 "color": "steelblue"
                },
                "showarrow": false,
                "text": 1.68,
                "x": 9.631243,
                "y": -1.3928905,
                "yshift": 15,
                "z": 0.12118299999999999
               },
               {
                "font": {
                 "color": "steelblue"
                },
                "showarrow": false,
                "text": 1.06,
                "x": 10.802192,
                "y": -1.1919825,
                "yshift": 15,
                "z": -0.086368
               },
               {
                "font": {
                 "color": "steelblue"
                },
                "showarrow": false,
                "text": 1.34,
                "x": 9.336598500000001,
                "y": 0.3843665,
                "yshift": 15,
                "z": -0.5073175000000001
               },
               {
                "font": {
                 "color": "steelblue"
                },
                "showarrow": false,
                "text": 1.06,
                "x": 10.330945,
                "y": 0.607213,
                "yshift": 15,
                "z": -0.702984
               },
               {
                "font": {
                 "color": "steelblue"
                },
                "showarrow": false,
                "text": 1.26,
                "x": 8.358374,
                "y": 0.03435399999999997,
                "yshift": 15,
                "z": -0.2660655
               },
               {
                "font": {
                 "color": "steelblue"
                },
                "showarrow": false,
                "text": 1.68,
                "x": 8.488026,
                "y": -1.134955,
                "yshift": 15,
                "z": 0.154738
               },
               {
                "font": {
                 "color": "steelblue"
                },
                "showarrow": false,
                "text": 1.43,
                "x": 7.3225915,
                "y": -0.450261,
                "yshift": 15,
                "z": 0.031363
               },
               {
                "font": {
                 "color": "steelblue"
                },
                "showarrow": false,
                "text": 1.26,
                "x": 6.280926,
                "y": -0.9303414999999999,
                "yshift": 15,
                "z": 0.32923250000000004
               },
               {
                "font": {
                 "color": "steelblue"
                },
                "showarrow": false,
                "text": 1.68,
                "x": 6.164581999999999,
                "y": 0.23827,
                "yshift": 15,
                "z": -0.09975799999999999
               },
               {
                "font": {
                 "color": "steelblue"
                },
                "showarrow": false,
                "text": 1.33,
                "x": 5.300050000000001,
                "y": -1.269531,
                "yshift": 15,
                "z": 0.5714345000000001
               },
               {
                "font": {
                 "color": "steelblue"
                },
                "showarrow": false,
                "text": 1.33,
                "x": 4.4856825,
                "y": -0.50941,
                "yshift": 15,
                "z": 0.382874
               },
               {
                "font": {
                 "color": "steelblue"
                },
                "showarrow": false,
                "text": 1.06,
                "x": 4.3056445,
                "y": -1.4803125000000001,
                "yshift": 15,
                "z": 0.774749
               },
               {
                "font": {
                 "color": "steelblue"
                },
                "showarrow": false,
                "text": 1.69,
                "x": 5.0187415,
                "y": 0.5094285000000001,
                "yshift": 15,
                "z": -0.06716199999999999
               },
               {
                "font": {
                 "color": "steelblue"
                },
                "showarrow": false,
                "text": 1.42,
                "x": 3.675051,
                "y": 0.399847,
                "yshift": 15,
                "z": 0.1428605
               },
               {
                "font": {
                 "color": "steelblue"
                },
                "showarrow": false,
                "text": 1.33,
                "x": 2.8667515,
                "y": 1.344666,
                "yshift": 15,
                "z": 0.1040305
               },
               {
                "font": {
                 "color": "steelblue"
                },
                "showarrow": false,
                "text": 1.68,
                "x": 2.321729,
                "y": 0.24264600000000003,
                "yshift": 15,
                "z": 0.08121249999999999
               },
               {
                "font": {
                 "color": "steelblue"
                },
                "showarrow": false,
                "text": 1.33,
                "x": 2.0540865,
                "y": 2.1321825,
                "yshift": 15,
                "z": 0.0696715
               },
               {
                "font": {
                 "color": "steelblue"
                },
                "showarrow": false,
                "text": 1.06,
                "x": 3.0559380000000003,
                "y": 2.3883615000000002,
                "yshift": 15,
                "z": 0.113091
               },
               {
                "font": {
                 "color": "steelblue"
                },
                "showarrow": false,
                "text": 1.26,
                "x": 1.061109,
                "y": 1.7450419999999998,
                "yshift": 15,
                "z": 0.032990000000000005
               },
               {
                "font": {
                 "color": "steelblue"
                },
                "showarrow": false,
                "text": 1.69,
                "x": 1.1661190000000001,
                "y": 0.5014155,
                "yshift": 15,
                "z": 0.0361085
               },
               {
                "font": {
                 "color": "steelblue"
                },
                "showarrow": false,
                "text": 1.44,
                "x": -2.9999999999752447e-06,
                "y": 1.216303,
                "yshift": 15,
                "z": -0.00019849999999999902
               },
               {
                "font": {
                 "color": "steelblue"
                },
                "showarrow": false,
                "text": 1.26,
                "x": -1.061105,
                "y": 1.7450665,
                "yshift": 15,
                "z": -0.0333315
               },
               {
                "font": {
                 "color": "steelblue"
                },
                "showarrow": false,
                "text": 1.69,
                "x": -1.1661385,
                "y": 0.501443,
                "yshift": 15,
                "z": -0.0365965
               },
               {
                "font": {
                 "color": "steelblue"
                },
                "showarrow": false,
                "text": 1.33,
                "x": -2.0540755,
                "y": 2.1322305,
                "yshift": 15,
                "z": -0.069975
               },
               {
                "font": {
                 "color": "steelblue"
                },
                "showarrow": false,
                "text": 1.33,
                "x": -2.8667555,
                "y": 1.344734,
                "yshift": 15,
                "z": -0.10441700000000001
               },
               {
                "font": {
                 "color": "steelblue"
                },
                "showarrow": false,
                "text": 1.06,
                "x": -3.0559255,
                "y": 2.388431,
                "yshift": 15,
                "z": -0.113348
               },
               {
                "font": {
                 "color": "steelblue"
                },
                "showarrow": false,
                "text": 1.68,
                "x": -2.3217535,
                "y": 0.24270200000000003,
                "yshift": 15,
                "z": -0.081728
               },
               {
                "font": {
                 "color": "steelblue"
                },
                "showarrow": false,
                "text": 1.42,
                "x": -3.6750789999999998,
                "y": 0.3999345,
                "yshift": 15,
                "z": -0.1432985
               },
               {
                "font": {
                 "color": "steelblue"
                },
                "showarrow": false,
                "text": 1.33,
                "x": -4.4857745,
                "y": -0.509211,
                "yshift": 15,
                "z": -0.3835375
               },
               {
                "font": {
                 "color": "steelblue"
                },
                "showarrow": false,
                "text": 1.69,
                "x": -5.0187159999999995,
                "y": 0.509405,
                "yshift": 15,
                "z": 0.06713649999999999
               },
               {
                "font": {
                 "color": "steelblue"
                },
                "showarrow": false,
                "text": 1.33,
                "x": -5.3001845,
                "y": -1.2692595,
                "yshift": 15,
                "z": -0.5722054999999999
               },
               {
                "font": {
                 "color": "steelblue"
                },
                "showarrow": false,
                "text": 1.06,
                "x": -4.3058325,
                "y": -1.4799305,
                "yshift": 15,
                "z": -0.7759045
               },
               {
                "font": {
                 "color": "steelblue"
                },
                "showarrow": false,
                "text": 1.26,
                "x": -6.2809945,
                "y": -0.9301969999999999,
                "yshift": 15,
                "z": -0.3295585
               },
               {
                "font": {
                 "color": "steelblue"
                },
                "showarrow": false,
                "text": 1.68,
                "x": -6.1645425,
                "y": 0.2382165,
                "yshift": 15,
                "z": 0.099938
               },
               {
                "font": {
                 "color": "steelblue"
                },
                "showarrow": false,
                "text": 1.43,
                "x": -7.322582,
                "y": -0.4502525,
                "yshift": 15,
                "z": -0.031170000000000003
               },
               {
                "font": {
                 "color": "steelblue"
                },
                "showarrow": false,
                "text": 1.26,
                "x": -8.358270000000001,
                "y": 0.0342365,
                "yshift": 15,
                "z": 0.266779
               },
               {
                "font": {
                 "color": "steelblue"
                },
                "showarrow": false,
                "text": 1.68,
                "x": -8.488064999999999,
                "y": -1.134886,
                "yshift": 15,
                "z": -0.1544945
               },
               {
                "font": {
                 "color": "steelblue"
                },
                "showarrow": false,
                "text": 1.34,
                "x": -9.3364195,
                "y": 0.384162,
                "yshift": 15,
                "z": 0.5084685
               },
               {
                "font": {
                 "color": "steelblue"
                },
                "showarrow": false,
                "text": 1.33,
                "x": -10.154115000000001,
                "y": -0.3671715,
                "yshift": 15,
                "z": 0.32121350000000004
               },
               {
                "font": {
                 "color": "steelblue"
                },
                "showarrow": false,
                "text": 1.06,
                "x": -10.3306995,
                "y": 0.60694,
                "yshift": 15,
                "z": 0.7045365
               },
               {
                "font": {
                 "color": "steelblue"
                },
                "showarrow": false,
                "text": 1.68,
                "x": -9.6312775,
                "y": -1.3928150000000001,
                "yshift": 15,
                "z": -0.12071950000000001
               },
               {
                "font": {
                 "color": "steelblue"
                },
                "showarrow": false,
                "text": 1.06,
                "x": -10.802162500000001,
                "y": -1.1919765,
                "yshift": 15,
                "z": 0.08725949999999999
               }
              ]
             }
            ],
            "label": "Indices & Bond Lengths",
            "method": "relayout"
           },
           {
            "args": [
             {
              "scene.annotations": [
               {
                "font": {
                 "color": "steelblue"
                },
                "showarrow": false,
                "text": 1.33,
                "x": 10.154225499999999,
                "y": -0.367066,
                "yshift": 15,
                "z": -0.320157
               },
               {
                "font": {
                 "color": "steelblue"
                },
                "showarrow": false,
                "text": 1.68,
                "x": 9.631243,
                "y": -1.3928905,
                "yshift": 15,
                "z": 0.12118299999999999
               },
               {
                "font": {
                 "color": "steelblue"
                },
                "showarrow": false,
                "text": 1.06,
                "x": 10.802192,
                "y": -1.1919825,
                "yshift": 15,
                "z": -0.086368
               },
               {
                "font": {
                 "color": "steelblue"
                },
                "showarrow": false,
                "text": 1.34,
                "x": 9.336598500000001,
                "y": 0.3843665,
                "yshift": 15,
                "z": -0.5073175000000001
               },
               {
                "font": {
                 "color": "steelblue"
                },
                "showarrow": false,
                "text": 1.06,
                "x": 10.330945,
                "y": 0.607213,
                "yshift": 15,
                "z": -0.702984
               },
               {
                "font": {
                 "color": "steelblue"
                },
                "showarrow": false,
                "text": 1.26,
                "x": 8.358374,
                "y": 0.03435399999999997,
                "yshift": 15,
                "z": -0.2660655
               },
               {
                "font": {
                 "color": "steelblue"
                },
                "showarrow": false,
                "text": 1.68,
                "x": 8.488026,
                "y": -1.134955,
                "yshift": 15,
                "z": 0.154738
               },
               {
                "font": {
                 "color": "steelblue"
                },
                "showarrow": false,
                "text": 1.43,
                "x": 7.3225915,
                "y": -0.450261,
                "yshift": 15,
                "z": 0.031363
               },
               {
                "font": {
                 "color": "steelblue"
                },
                "showarrow": false,
                "text": 1.26,
                "x": 6.280926,
                "y": -0.9303414999999999,
                "yshift": 15,
                "z": 0.32923250000000004
               },
               {
                "font": {
                 "color": "steelblue"
                },
                "showarrow": false,
                "text": 1.68,
                "x": 6.164581999999999,
                "y": 0.23827,
                "yshift": 15,
                "z": -0.09975799999999999
               },
               {
                "font": {
                 "color": "steelblue"
                },
                "showarrow": false,
                "text": 1.33,
                "x": 5.300050000000001,
                "y": -1.269531,
                "yshift": 15,
                "z": 0.5714345000000001
               },
               {
                "font": {
                 "color": "steelblue"
                },
                "showarrow": false,
                "text": 1.33,
                "x": 4.4856825,
                "y": -0.50941,
                "yshift": 15,
                "z": 0.382874
               },
               {
                "font": {
                 "color": "steelblue"
                },
                "showarrow": false,
                "text": 1.06,
                "x": 4.3056445,
                "y": -1.4803125000000001,
                "yshift": 15,
                "z": 0.774749
               },
               {
                "font": {
                 "color": "steelblue"
                },
                "showarrow": false,
                "text": 1.69,
                "x": 5.0187415,
                "y": 0.5094285000000001,
                "yshift": 15,
                "z": -0.06716199999999999
               },
               {
                "font": {
                 "color": "steelblue"
                },
                "showarrow": false,
                "text": 1.42,
                "x": 3.675051,
                "y": 0.399847,
                "yshift": 15,
                "z": 0.1428605
               },
               {
                "font": {
                 "color": "steelblue"
                },
                "showarrow": false,
                "text": 1.33,
                "x": 2.8667515,
                "y": 1.344666,
                "yshift": 15,
                "z": 0.1040305
               },
               {
                "font": {
                 "color": "steelblue"
                },
                "showarrow": false,
                "text": 1.68,
                "x": 2.321729,
                "y": 0.24264600000000003,
                "yshift": 15,
                "z": 0.08121249999999999
               },
               {
                "font": {
                 "color": "steelblue"
                },
                "showarrow": false,
                "text": 1.33,
                "x": 2.0540865,
                "y": 2.1321825,
                "yshift": 15,
                "z": 0.0696715
               },
               {
                "font": {
                 "color": "steelblue"
                },
                "showarrow": false,
                "text": 1.06,
                "x": 3.0559380000000003,
                "y": 2.3883615000000002,
                "yshift": 15,
                "z": 0.113091
               },
               {
                "font": {
                 "color": "steelblue"
                },
                "showarrow": false,
                "text": 1.26,
                "x": 1.061109,
                "y": 1.7450419999999998,
                "yshift": 15,
                "z": 0.032990000000000005
               },
               {
                "font": {
                 "color": "steelblue"
                },
                "showarrow": false,
                "text": 1.69,
                "x": 1.1661190000000001,
                "y": 0.5014155,
                "yshift": 15,
                "z": 0.0361085
               },
               {
                "font": {
                 "color": "steelblue"
                },
                "showarrow": false,
                "text": 1.44,
                "x": -2.9999999999752447e-06,
                "y": 1.216303,
                "yshift": 15,
                "z": -0.00019849999999999902
               },
               {
                "font": {
                 "color": "steelblue"
                },
                "showarrow": false,
                "text": 1.26,
                "x": -1.061105,
                "y": 1.7450665,
                "yshift": 15,
                "z": -0.0333315
               },
               {
                "font": {
                 "color": "steelblue"
                },
                "showarrow": false,
                "text": 1.69,
                "x": -1.1661385,
                "y": 0.501443,
                "yshift": 15,
                "z": -0.0365965
               },
               {
                "font": {
                 "color": "steelblue"
                },
                "showarrow": false,
                "text": 1.33,
                "x": -2.0540755,
                "y": 2.1322305,
                "yshift": 15,
                "z": -0.069975
               },
               {
                "font": {
                 "color": "steelblue"
                },
                "showarrow": false,
                "text": 1.33,
                "x": -2.8667555,
                "y": 1.344734,
                "yshift": 15,
                "z": -0.10441700000000001
               },
               {
                "font": {
                 "color": "steelblue"
                },
                "showarrow": false,
                "text": 1.06,
                "x": -3.0559255,
                "y": 2.388431,
                "yshift": 15,
                "z": -0.113348
               },
               {
                "font": {
                 "color": "steelblue"
                },
                "showarrow": false,
                "text": 1.68,
                "x": -2.3217535,
                "y": 0.24270200000000003,
                "yshift": 15,
                "z": -0.081728
               },
               {
                "font": {
                 "color": "steelblue"
                },
                "showarrow": false,
                "text": 1.42,
                "x": -3.6750789999999998,
                "y": 0.3999345,
                "yshift": 15,
                "z": -0.1432985
               },
               {
                "font": {
                 "color": "steelblue"
                },
                "showarrow": false,
                "text": 1.33,
                "x": -4.4857745,
                "y": -0.509211,
                "yshift": 15,
                "z": -0.3835375
               },
               {
                "font": {
                 "color": "steelblue"
                },
                "showarrow": false,
                "text": 1.69,
                "x": -5.0187159999999995,
                "y": 0.509405,
                "yshift": 15,
                "z": 0.06713649999999999
               },
               {
                "font": {
                 "color": "steelblue"
                },
                "showarrow": false,
                "text": 1.33,
                "x": -5.3001845,
                "y": -1.2692595,
                "yshift": 15,
                "z": -0.5722054999999999
               },
               {
                "font": {
                 "color": "steelblue"
                },
                "showarrow": false,
                "text": 1.06,
                "x": -4.3058325,
                "y": -1.4799305,
                "yshift": 15,
                "z": -0.7759045
               },
               {
                "font": {
                 "color": "steelblue"
                },
                "showarrow": false,
                "text": 1.26,
                "x": -6.2809945,
                "y": -0.9301969999999999,
                "yshift": 15,
                "z": -0.3295585
               },
               {
                "font": {
                 "color": "steelblue"
                },
                "showarrow": false,
                "text": 1.68,
                "x": -6.1645425,
                "y": 0.2382165,
                "yshift": 15,
                "z": 0.099938
               },
               {
                "font": {
                 "color": "steelblue"
                },
                "showarrow": false,
                "text": 1.43,
                "x": -7.322582,
                "y": -0.4502525,
                "yshift": 15,
                "z": -0.031170000000000003
               },
               {
                "font": {
                 "color": "steelblue"
                },
                "showarrow": false,
                "text": 1.26,
                "x": -8.358270000000001,
                "y": 0.0342365,
                "yshift": 15,
                "z": 0.266779
               },
               {
                "font": {
                 "color": "steelblue"
                },
                "showarrow": false,
                "text": 1.68,
                "x": -8.488064999999999,
                "y": -1.134886,
                "yshift": 15,
                "z": -0.1544945
               },
               {
                "font": {
                 "color": "steelblue"
                },
                "showarrow": false,
                "text": 1.34,
                "x": -9.3364195,
                "y": 0.384162,
                "yshift": 15,
                "z": 0.5084685
               },
               {
                "font": {
                 "color": "steelblue"
                },
                "showarrow": false,
                "text": 1.33,
                "x": -10.154115000000001,
                "y": -0.3671715,
                "yshift": 15,
                "z": 0.32121350000000004
               },
               {
                "font": {
                 "color": "steelblue"
                },
                "showarrow": false,
                "text": 1.06,
                "x": -10.3306995,
                "y": 0.60694,
                "yshift": 15,
                "z": 0.7045365
               },
               {
                "font": {
                 "color": "steelblue"
                },
                "showarrow": false,
                "text": 1.68,
                "x": -9.6312775,
                "y": -1.3928150000000001,
                "yshift": 15,
                "z": -0.12071950000000001
               },
               {
                "font": {
                 "color": "steelblue"
                },
                "showarrow": false,
                "text": 1.06,
                "x": -10.802162500000001,
                "y": -1.1919765,
                "yshift": 15,
                "z": 0.08725949999999999
               }
              ]
             }
            ],
            "label": "Bond Lengths",
            "method": "relayout"
           },
           {
            "args": [
             {
              "scene.annotations": []
             }
            ],
            "label": "Hide All",
            "method": "relayout"
           }
          ],
          "direction": "down",
          "xanchor": "left",
          "yanchor": "top"
         }
        ]
       }
      },
      "text/html": [
       "<div>                            <div id=\"d0d7f715-6de8-4c4c-ba42-0f8530935c16\" class=\"plotly-graph-div\" style=\"height:525px; width:100%;\"></div>            <script type=\"text/javascript\">                require([\"plotly\"], function(Plotly) {                    window.PLOTLYENV=window.PLOTLYENV || {};                                    if (document.getElementById(\"d0d7f715-6de8-4c4c-ba42-0f8530935c16\")) {                    Plotly.newPlot(                        \"d0d7f715-6de8-4c4c-ba42-0f8530935c16\",                        [{\"marker\": {\"color\": [\"black\", \"black\", \"blue\", \"black\", \"yellow\", \"black\", \"blue\", \"black\", \"black\", \"yellow\", \"black\", \"black\", \"blue\", \"black\", \"yellow\", \"black\", \"blue\", \"black\", \"black\", \"yellow\", \"black\", \"black\", \"blue\", \"black\", \"yellow\", \"black\", \"blue\", \"black\", \"black\", \"yellow\", \"white\", \"white\", \"white\", \"white\", \"white\", \"white\", \"white\", \"white\"], \"line\": {\"color\": \"lightgray\", \"width\": 2}, \"opacity\": 0.8, \"size\": 7, \"symbol\": \"circle\"}, \"mode\": \"markers\", \"text\": [\"C\", \"C\", \"N\", \"C\", \"S\", \"C\", \"N\", \"C\", \"C\", \"S\", \"C\", \"C\", \"N\", \"C\", \"S\", \"C\", \"N\", \"C\", \"C\", \"S\", \"C\", \"C\", \"N\", \"C\", \"S\", \"C\", \"N\", \"C\", \"C\", \"S\", \"H\", \"H\", \"H\", \"H\", \"H\", \"H\", \"H\", \"H\"], \"type\": \"scatter3d\", \"x\": [10.319218, 9.989233, 8.683964, 8.032784, 8.943268, 6.612399, 5.949453, 4.650647, 4.320718, 5.716765, 3.029384, 2.704119, 1.404054, 0.718164, 1.614074, -0.71817, -1.40404, -2.704111, -3.0294, -1.614107, -4.320758, -4.650791, -5.949578, -6.612411, -5.716674, -8.032753, -8.683787, -9.989052, -10.319178, -8.943377, 11.285166, 10.672657, 3.960642, 3.407757, -3.40774, -3.960874, -10.672347, -11.285147], \"y\": [-0.975014, 0.240882, 0.527851, -0.459143, -1.810767, -0.441379, -1.419304, -1.119758, 0.100938, 0.917919, 0.698756, 1.990576, 2.273789, 1.216295, -0.213464, 1.216311, 2.273822, 1.990639, 0.698829, -0.213425, 0.10104, -1.119462, -1.419057, -0.441337, 0.91777, -0.459168, 0.527641, 0.240683, -0.975026, -1.810604, -1.408951, 0.973544, -1.840867, 2.786147, 2.786223, -1.840399, 0.973197, -1.408927], \"z\": [-0.11246, -0.527854, -0.486781, -0.04535, 0.354826, 0.108076, 0.550389, 0.59248, 0.173268, -0.307592, 0.112453, 0.095608, 0.043735, 0.022245, 0.049972, -0.022642, -0.044021, -0.095929, -0.112905, -0.050551, -0.173692, -0.593383, -0.551028, -0.108089, 0.307965, 0.045749, 0.487809, 0.529128, 0.113299, -0.354738, -0.060276, -0.878114, 0.957018, 0.130574, -0.130767, -0.958426, 0.879945, 0.06122]}, {\"hoverinfo\": \"none\", \"marker\": {\"color\": \"grey\", \"opacity\": 1, \"size\": 7}, \"mode\": \"lines\", \"type\": \"scatter3d\", \"x\": [10.319218, 9.989233, null, 10.319218, 8.943268, null, 10.319218, 11.285166, null, 9.989233, 10.319218, null, 9.989233, 8.683964, null, 9.989233, 10.672657, null, 8.943268, 10.319218, null, 8.943268, 8.032784, null, 11.285166, 10.319218, null, 8.683964, 9.989233, null, 8.683964, 8.032784, null, 10.672657, 9.989233, null, 8.032784, 8.683964, null, 8.032784, 8.943268, null, 8.032784, 6.612399, null, 6.612399, 5.716765, null, 6.612399, 8.032784, null, 6.612399, 5.949453, null, 5.949453, 6.612399, null, 5.949453, 4.650647, null, 5.716765, 4.320718, null, 5.716765, 6.612399, null, 4.650647, 4.320718, null, 4.650647, 3.960642, null, 4.650647, 5.949453, null, 4.320718, 5.716765, null, 4.320718, 3.029384, null, 4.320718, 4.650647, null, 3.960642, 4.650647, null, 3.029384, 4.320718, null, 3.029384, 2.704119, null, 3.029384, 1.614074, null, 2.704119, 3.407757, null, 2.704119, 3.029384, null, 2.704119, 1.404054, null, 1.614074, 3.029384, null, 1.614074, 0.718164, null, 1.404054, 2.704119, null, 1.404054, 0.718164, null, 3.407757, 2.704119, null, 0.718164, 1.404054, null, 0.718164, 1.614074, null, 0.718164, -0.71817, null, -0.71817, -1.40404, null, -0.71817, -1.614107, null, -0.71817, 0.718164, null, -1.40404, -2.704111, null, -1.40404, -0.71817, null, -1.614107, -3.0294, null, -1.614107, -0.71817, null, -2.704111, -1.40404, null, -2.704111, -3.0294, null, -2.704111, -3.40774, null, -3.0294, -2.704111, null, -3.0294, -1.614107, null, -3.0294, -4.320758, null, -3.40774, -2.704111, null, -4.320758, -5.716674, null, -4.320758, -3.0294, null, -4.320758, -4.650791, null, -4.650791, -3.960874, null, -4.650791, -4.320758, null, -4.650791, -5.949578, null, -5.716674, -4.320758, null, -5.716674, -6.612411, null, -5.949578, -4.650791, null, -5.949578, -6.612411, null, -3.960874, -4.650791, null, -6.612411, -5.716674, null, -6.612411, -8.032753, null, -6.612411, -5.949578, null, -8.032753, -8.683787, null, -8.032753, -8.943377, null, -8.032753, -6.612411, null, -8.683787, -8.032753, null, -8.683787, -9.989052, null, -8.943377, -8.032753, null, -8.943377, -10.319178, null, -9.989052, -8.683787, null, -9.989052, -10.319178, null, -9.989052, -10.672347, null, -10.319178, -11.285147, null, -10.319178, -9.989052, null, -10.319178, -8.943377, null, -10.672347, -9.989052, null, -11.285147, -10.319178, null], \"y\": [-0.975014, 0.240882, null, -0.975014, -1.810767, null, -0.975014, -1.408951, null, 0.240882, -0.975014, null, 0.240882, 0.527851, null, 0.240882, 0.973544, null, -1.810767, -0.975014, null, -1.810767, -0.459143, null, -1.408951, -0.975014, null, 0.527851, 0.240882, null, 0.527851, -0.459143, null, 0.973544, 0.240882, null, -0.459143, 0.527851, null, -0.459143, -1.810767, null, -0.459143, -0.441379, null, -0.441379, 0.917919, null, -0.441379, -0.459143, null, -0.441379, -1.419304, null, -1.419304, -0.441379, null, -1.419304, -1.119758, null, 0.917919, 0.100938, null, 0.917919, -0.441379, null, -1.119758, 0.100938, null, -1.119758, -1.840867, null, -1.119758, -1.419304, null, 0.100938, 0.917919, null, 0.100938, 0.698756, null, 0.100938, -1.119758, null, -1.840867, -1.119758, null, 0.698756, 0.100938, null, 0.698756, 1.990576, null, 0.698756, -0.213464, null, 1.990576, 2.786147, null, 1.990576, 0.698756, null, 1.990576, 2.273789, null, -0.213464, 0.698756, null, -0.213464, 1.216295, null, 2.273789, 1.990576, null, 2.273789, 1.216295, null, 2.786147, 1.990576, null, 1.216295, 2.273789, null, 1.216295, -0.213464, null, 1.216295, 1.216311, null, 1.216311, 2.273822, null, 1.216311, -0.213425, null, 1.216311, 1.216295, null, 2.273822, 1.990639, null, 2.273822, 1.216311, null, -0.213425, 0.698829, null, -0.213425, 1.216311, null, 1.990639, 2.273822, null, 1.990639, 0.698829, null, 1.990639, 2.786223, null, 0.698829, 1.990639, null, 0.698829, -0.213425, null, 0.698829, 0.10104, null, 2.786223, 1.990639, null, 0.10104, 0.91777, null, 0.10104, 0.698829, null, 0.10104, -1.119462, null, -1.119462, -1.840399, null, -1.119462, 0.10104, null, -1.119462, -1.419057, null, 0.91777, 0.10104, null, 0.91777, -0.441337, null, -1.419057, -1.119462, null, -1.419057, -0.441337, null, -1.840399, -1.119462, null, -0.441337, 0.91777, null, -0.441337, -0.459168, null, -0.441337, -1.419057, null, -0.459168, 0.527641, null, -0.459168, -1.810604, null, -0.459168, -0.441337, null, 0.527641, -0.459168, null, 0.527641, 0.240683, null, -1.810604, -0.459168, null, -1.810604, -0.975026, null, 0.240683, 0.527641, null, 0.240683, -0.975026, null, 0.240683, 0.973197, null, -0.975026, -1.408927, null, -0.975026, 0.240683, null, -0.975026, -1.810604, null, 0.973197, 0.240683, null, -1.408927, -0.975026, null], \"z\": [-0.11246, -0.527854, null, -0.11246, 0.354826, null, -0.11246, -0.060276, null, -0.527854, -0.11246, null, -0.527854, -0.486781, null, -0.527854, -0.878114, null, 0.354826, -0.11246, null, 0.354826, -0.04535, null, -0.060276, -0.11246, null, -0.486781, -0.527854, null, -0.486781, -0.04535, null, -0.878114, -0.527854, null, -0.04535, -0.486781, null, -0.04535, 0.354826, null, -0.04535, 0.108076, null, 0.108076, -0.307592, null, 0.108076, -0.04535, null, 0.108076, 0.550389, null, 0.550389, 0.108076, null, 0.550389, 0.59248, null, -0.307592, 0.173268, null, -0.307592, 0.108076, null, 0.59248, 0.173268, null, 0.59248, 0.957018, null, 0.59248, 0.550389, null, 0.173268, -0.307592, null, 0.173268, 0.112453, null, 0.173268, 0.59248, null, 0.957018, 0.59248, null, 0.112453, 0.173268, null, 0.112453, 0.095608, null, 0.112453, 0.049972, null, 0.095608, 0.130574, null, 0.095608, 0.112453, null, 0.095608, 0.043735, null, 0.049972, 0.112453, null, 0.049972, 0.022245, null, 0.043735, 0.095608, null, 0.043735, 0.022245, null, 0.130574, 0.095608, null, 0.022245, 0.043735, null, 0.022245, 0.049972, null, 0.022245, -0.022642, null, -0.022642, -0.044021, null, -0.022642, -0.050551, null, -0.022642, 0.022245, null, -0.044021, -0.095929, null, -0.044021, -0.022642, null, -0.050551, -0.112905, null, -0.050551, -0.022642, null, -0.095929, -0.044021, null, -0.095929, -0.112905, null, -0.095929, -0.130767, null, -0.112905, -0.095929, null, -0.112905, -0.050551, null, -0.112905, -0.173692, null, -0.130767, -0.095929, null, -0.173692, 0.307965, null, -0.173692, -0.112905, null, -0.173692, -0.593383, null, -0.593383, -0.958426, null, -0.593383, -0.173692, null, -0.593383, -0.551028, null, 0.307965, -0.173692, null, 0.307965, -0.108089, null, -0.551028, -0.593383, null, -0.551028, -0.108089, null, -0.958426, -0.593383, null, -0.108089, 0.307965, null, -0.108089, 0.045749, null, -0.108089, -0.551028, null, 0.045749, 0.487809, null, 0.045749, -0.354738, null, 0.045749, -0.108089, null, 0.487809, 0.045749, null, 0.487809, 0.529128, null, -0.354738, 0.045749, null, -0.354738, 0.113299, null, 0.529128, 0.487809, null, 0.529128, 0.113299, null, 0.529128, 0.879945, null, 0.113299, 0.06122, null, 0.113299, 0.529128, null, 0.113299, -0.354738, null, 0.879945, 0.529128, null, 0.06122, 0.113299, null]}],                        {\"margin\": {\"b\": 0, \"l\": 0, \"r\": 0, \"t\": 0}, \"scene\": {\"annotations\": [{\"showarrow\": false, \"text\": \"C\", \"x\": 10.319218, \"y\": -0.975014, \"yshift\": 15, \"z\": -0.11246}, {\"showarrow\": false, \"text\": \"C\", \"x\": 9.989233, \"y\": 0.240882, \"yshift\": 15, \"z\": -0.527854}, {\"showarrow\": false, \"text\": \"N\", \"x\": 8.683964, \"y\": 0.527851, \"yshift\": 15, \"z\": -0.486781}, {\"showarrow\": false, \"text\": \"C\", \"x\": 8.032784, \"y\": -0.459143, \"yshift\": 15, \"z\": -0.04535}, {\"showarrow\": false, \"text\": \"S\", \"x\": 8.943268, \"y\": -1.810767, \"yshift\": 15, \"z\": 0.354826}, {\"showarrow\": false, \"text\": \"C\", \"x\": 6.612399, \"y\": -0.441379, \"yshift\": 15, \"z\": 0.108076}, {\"showarrow\": false, \"text\": \"N\", \"x\": 5.949453, \"y\": -1.419304, \"yshift\": 15, \"z\": 0.550389}, {\"showarrow\": false, \"text\": \"C\", \"x\": 4.650647, \"y\": -1.119758, \"yshift\": 15, \"z\": 0.59248}, {\"showarrow\": false, \"text\": \"C\", \"x\": 4.320718, \"y\": 0.100938, \"yshift\": 15, \"z\": 0.173268}, {\"showarrow\": false, \"text\": \"S\", \"x\": 5.716765, \"y\": 0.917919, \"yshift\": 15, \"z\": -0.307592}, {\"showarrow\": false, \"text\": \"C\", \"x\": 3.029384, \"y\": 0.698756, \"yshift\": 15, \"z\": 0.112453}, {\"showarrow\": false, \"text\": \"C\", \"x\": 2.704119, \"y\": 1.990576, \"yshift\": 15, \"z\": 0.095608}, {\"showarrow\": false, \"text\": \"N\", \"x\": 1.404054, \"y\": 2.273789, \"yshift\": 15, \"z\": 0.043735}, {\"showarrow\": false, \"text\": \"C\", \"x\": 0.718164, \"y\": 1.216295, \"yshift\": 15, \"z\": 0.022245}, {\"showarrow\": false, \"text\": \"S\", \"x\": 1.614074, \"y\": -0.213464, \"yshift\": 15, \"z\": 0.049972}, {\"showarrow\": false, \"text\": \"C\", \"x\": -0.71817, \"y\": 1.216311, \"yshift\": 15, \"z\": -0.022642}, {\"showarrow\": false, \"text\": \"N\", \"x\": -1.40404, \"y\": 2.273822, \"yshift\": 15, \"z\": -0.044021}, {\"showarrow\": false, \"text\": \"C\", \"x\": -2.704111, \"y\": 1.990639, \"yshift\": 15, \"z\": -0.095929}, {\"showarrow\": false, \"text\": \"C\", \"x\": -3.0294, \"y\": 0.698829, \"yshift\": 15, \"z\": -0.112905}, {\"showarrow\": false, \"text\": \"S\", \"x\": -1.614107, \"y\": -0.213425, \"yshift\": 15, \"z\": -0.050551}, {\"showarrow\": false, \"text\": \"C\", \"x\": -4.320758, \"y\": 0.10104, \"yshift\": 15, \"z\": -0.173692}, {\"showarrow\": false, \"text\": \"C\", \"x\": -4.650791, \"y\": -1.119462, \"yshift\": 15, \"z\": -0.593383}, {\"showarrow\": false, \"text\": \"N\", \"x\": -5.949578, \"y\": -1.419057, \"yshift\": 15, \"z\": -0.551028}, {\"showarrow\": false, \"text\": \"C\", \"x\": -6.612411, \"y\": -0.441337, \"yshift\": 15, \"z\": -0.108089}, {\"showarrow\": false, \"text\": \"S\", \"x\": -5.716674, \"y\": 0.91777, \"yshift\": 15, \"z\": 0.307965}, {\"showarrow\": false, \"text\": \"C\", \"x\": -8.032753, \"y\": -0.459168, \"yshift\": 15, \"z\": 0.045749}, {\"showarrow\": false, \"text\": \"N\", \"x\": -8.683787, \"y\": 0.527641, \"yshift\": 15, \"z\": 0.487809}, {\"showarrow\": false, \"text\": \"C\", \"x\": -9.989052, \"y\": 0.240683, \"yshift\": 15, \"z\": 0.529128}, {\"showarrow\": false, \"text\": \"C\", \"x\": -10.319178, \"y\": -0.975026, \"yshift\": 15, \"z\": 0.113299}, {\"showarrow\": false, \"text\": \"S\", \"x\": -8.943377, \"y\": -1.810604, \"yshift\": 15, \"z\": -0.354738}, {\"showarrow\": false, \"text\": \"H\", \"x\": 11.285166, \"y\": -1.408951, \"yshift\": 15, \"z\": -0.060276}, {\"showarrow\": false, \"text\": \"H\", \"x\": 10.672657, \"y\": 0.973544, \"yshift\": 15, \"z\": -0.878114}, {\"showarrow\": false, \"text\": \"H\", \"x\": 3.960642, \"y\": -1.840867, \"yshift\": 15, \"z\": 0.957018}, {\"showarrow\": false, \"text\": \"H\", \"x\": 3.407757, \"y\": 2.786147, \"yshift\": 15, \"z\": 0.130574}, {\"showarrow\": false, \"text\": \"H\", \"x\": -3.40774, \"y\": 2.786223, \"yshift\": 15, \"z\": -0.130767}, {\"showarrow\": false, \"text\": \"H\", \"x\": -3.960874, \"y\": -1.840399, \"yshift\": 15, \"z\": -0.958426}, {\"showarrow\": false, \"text\": \"H\", \"x\": -10.672347, \"y\": 0.973197, \"yshift\": 15, \"z\": 0.879945}, {\"showarrow\": false, \"text\": \"H\", \"x\": -11.285147, \"y\": -1.408927, \"yshift\": 15, \"z\": 0.06122}], \"xaxis\": {\"showbackground\": false, \"showgrid\": false, \"showticklabels\": false, \"title\": {\"font\": {\"color\": \"white\"}}, \"zeroline\": false}, \"yaxis\": {\"showbackground\": false, \"showgrid\": false, \"showticklabels\": false, \"title\": {\"font\": {\"color\": \"white\"}}, \"zeroline\": false}, \"zaxis\": {\"showbackground\": false, \"showgrid\": false, \"showticklabels\": false, \"title\": {\"font\": {\"color\": \"white\"}}, \"zeroline\": false}}, \"showlegend\": false, \"template\": {\"data\": {\"bar\": [{\"error_x\": {\"color\": \"#2a3f5f\"}, \"error_y\": {\"color\": \"#2a3f5f\"}, \"marker\": {\"line\": {\"color\": \"#E5ECF6\", \"width\": 0.5}}, \"type\": \"bar\"}], \"barpolar\": [{\"marker\": {\"line\": {\"color\": \"#E5ECF6\", \"width\": 0.5}}, \"type\": \"barpolar\"}], \"carpet\": [{\"aaxis\": {\"endlinecolor\": \"#2a3f5f\", \"gridcolor\": \"white\", \"linecolor\": \"white\", \"minorgridcolor\": \"white\", \"startlinecolor\": \"#2a3f5f\"}, \"baxis\": {\"endlinecolor\": \"#2a3f5f\", \"gridcolor\": \"white\", \"linecolor\": \"white\", \"minorgridcolor\": \"white\", \"startlinecolor\": \"#2a3f5f\"}, \"type\": \"carpet\"}], \"choropleth\": [{\"colorbar\": {\"outlinewidth\": 0, \"ticks\": \"\"}, \"type\": \"choropleth\"}], \"contour\": [{\"colorbar\": {\"outlinewidth\": 0, \"ticks\": \"\"}, \"colorscale\": [[0.0, \"#0d0887\"], [0.1111111111111111, \"#46039f\"], [0.2222222222222222, \"#7201a8\"], [0.3333333333333333, \"#9c179e\"], [0.4444444444444444, \"#bd3786\"], [0.5555555555555556, \"#d8576b\"], [0.6666666666666666, \"#ed7953\"], [0.7777777777777778, \"#fb9f3a\"], [0.8888888888888888, \"#fdca26\"], [1.0, \"#f0f921\"]], \"type\": \"contour\"}], \"contourcarpet\": [{\"colorbar\": {\"outlinewidth\": 0, \"ticks\": \"\"}, \"type\": \"contourcarpet\"}], \"heatmap\": [{\"colorbar\": {\"outlinewidth\": 0, \"ticks\": \"\"}, \"colorscale\": [[0.0, \"#0d0887\"], [0.1111111111111111, \"#46039f\"], [0.2222222222222222, \"#7201a8\"], [0.3333333333333333, \"#9c179e\"], [0.4444444444444444, \"#bd3786\"], [0.5555555555555556, \"#d8576b\"], [0.6666666666666666, \"#ed7953\"], [0.7777777777777778, \"#fb9f3a\"], [0.8888888888888888, \"#fdca26\"], [1.0, \"#f0f921\"]], \"type\": \"heatmap\"}], \"heatmapgl\": [{\"colorbar\": {\"outlinewidth\": 0, \"ticks\": \"\"}, \"colorscale\": [[0.0, \"#0d0887\"], [0.1111111111111111, \"#46039f\"], [0.2222222222222222, \"#7201a8\"], [0.3333333333333333, \"#9c179e\"], [0.4444444444444444, \"#bd3786\"], [0.5555555555555556, \"#d8576b\"], [0.6666666666666666, \"#ed7953\"], [0.7777777777777778, \"#fb9f3a\"], [0.8888888888888888, \"#fdca26\"], [1.0, \"#f0f921\"]], \"type\": \"heatmapgl\"}], \"histogram\": [{\"marker\": {\"colorbar\": {\"outlinewidth\": 0, \"ticks\": \"\"}}, \"type\": \"histogram\"}], \"histogram2d\": [{\"colorbar\": {\"outlinewidth\": 0, \"ticks\": \"\"}, \"colorscale\": [[0.0, \"#0d0887\"], [0.1111111111111111, \"#46039f\"], [0.2222222222222222, \"#7201a8\"], [0.3333333333333333, \"#9c179e\"], [0.4444444444444444, \"#bd3786\"], [0.5555555555555556, \"#d8576b\"], [0.6666666666666666, \"#ed7953\"], [0.7777777777777778, \"#fb9f3a\"], [0.8888888888888888, \"#fdca26\"], [1.0, \"#f0f921\"]], \"type\": \"histogram2d\"}], \"histogram2dcontour\": [{\"colorbar\": {\"outlinewidth\": 0, \"ticks\": \"\"}, \"colorscale\": [[0.0, \"#0d0887\"], [0.1111111111111111, \"#46039f\"], [0.2222222222222222, \"#7201a8\"], [0.3333333333333333, \"#9c179e\"], [0.4444444444444444, \"#bd3786\"], [0.5555555555555556, \"#d8576b\"], [0.6666666666666666, \"#ed7953\"], [0.7777777777777778, \"#fb9f3a\"], [0.8888888888888888, \"#fdca26\"], [1.0, \"#f0f921\"]], \"type\": \"histogram2dcontour\"}], \"mesh3d\": [{\"colorbar\": {\"outlinewidth\": 0, \"ticks\": \"\"}, \"type\": \"mesh3d\"}], \"parcoords\": [{\"line\": {\"colorbar\": {\"outlinewidth\": 0, \"ticks\": \"\"}}, \"type\": \"parcoords\"}], \"pie\": [{\"automargin\": true, \"type\": \"pie\"}], \"scatter\": [{\"marker\": {\"colorbar\": {\"outlinewidth\": 0, \"ticks\": \"\"}}, \"type\": \"scatter\"}], \"scatter3d\": [{\"line\": {\"colorbar\": {\"outlinewidth\": 0, \"ticks\": \"\"}}, \"marker\": {\"colorbar\": {\"outlinewidth\": 0, \"ticks\": \"\"}}, \"type\": \"scatter3d\"}], \"scattercarpet\": [{\"marker\": {\"colorbar\": {\"outlinewidth\": 0, \"ticks\": \"\"}}, \"type\": \"scattercarpet\"}], \"scattergeo\": [{\"marker\": {\"colorbar\": {\"outlinewidth\": 0, \"ticks\": \"\"}}, \"type\": \"scattergeo\"}], \"scattergl\": [{\"marker\": {\"colorbar\": {\"outlinewidth\": 0, \"ticks\": \"\"}}, \"type\": \"scattergl\"}], \"scattermapbox\": [{\"marker\": {\"colorbar\": {\"outlinewidth\": 0, \"ticks\": \"\"}}, \"type\": \"scattermapbox\"}], \"scatterpolar\": [{\"marker\": {\"colorbar\": {\"outlinewidth\": 0, \"ticks\": \"\"}}, \"type\": \"scatterpolar\"}], \"scatterpolargl\": [{\"marker\": {\"colorbar\": {\"outlinewidth\": 0, \"ticks\": \"\"}}, \"type\": \"scatterpolargl\"}], \"scatterternary\": [{\"marker\": {\"colorbar\": {\"outlinewidth\": 0, \"ticks\": \"\"}}, \"type\": \"scatterternary\"}], \"surface\": [{\"colorbar\": {\"outlinewidth\": 0, \"ticks\": \"\"}, \"colorscale\": [[0.0, \"#0d0887\"], [0.1111111111111111, \"#46039f\"], [0.2222222222222222, \"#7201a8\"], [0.3333333333333333, \"#9c179e\"], [0.4444444444444444, \"#bd3786\"], [0.5555555555555556, \"#d8576b\"], [0.6666666666666666, \"#ed7953\"], [0.7777777777777778, \"#fb9f3a\"], [0.8888888888888888, \"#fdca26\"], [1.0, \"#f0f921\"]], \"type\": \"surface\"}], \"table\": [{\"cells\": {\"fill\": {\"color\": \"#EBF0F8\"}, \"line\": {\"color\": \"white\"}}, \"header\": {\"fill\": {\"color\": \"#C8D4E3\"}, \"line\": {\"color\": \"white\"}}, \"type\": \"table\"}]}, \"layout\": {\"annotationdefaults\": {\"arrowcolor\": \"#2a3f5f\", \"arrowhead\": 0, \"arrowwidth\": 1}, \"autotypenumbers\": \"strict\", \"coloraxis\": {\"colorbar\": {\"outlinewidth\": 0, \"ticks\": \"\"}}, \"colorscale\": {\"diverging\": [[0, \"#8e0152\"], [0.1, \"#c51b7d\"], [0.2, \"#de77ae\"], [0.3, \"#f1b6da\"], [0.4, \"#fde0ef\"], [0.5, \"#f7f7f7\"], [0.6, \"#e6f5d0\"], [0.7, \"#b8e186\"], [0.8, \"#7fbc41\"], [0.9, \"#4d9221\"], [1, \"#276419\"]], \"sequential\": [[0.0, \"#0d0887\"], [0.1111111111111111, \"#46039f\"], [0.2222222222222222, \"#7201a8\"], [0.3333333333333333, \"#9c179e\"], [0.4444444444444444, \"#bd3786\"], [0.5555555555555556, \"#d8576b\"], [0.6666666666666666, \"#ed7953\"], [0.7777777777777778, \"#fb9f3a\"], [0.8888888888888888, \"#fdca26\"], [1.0, \"#f0f921\"]], \"sequentialminus\": [[0.0, \"#0d0887\"], [0.1111111111111111, \"#46039f\"], [0.2222222222222222, \"#7201a8\"], [0.3333333333333333, \"#9c179e\"], [0.4444444444444444, \"#bd3786\"], [0.5555555555555556, \"#d8576b\"], [0.6666666666666666, \"#ed7953\"], [0.7777777777777778, \"#fb9f3a\"], [0.8888888888888888, \"#fdca26\"], [1.0, \"#f0f921\"]]}, \"colorway\": [\"#636efa\", \"#EF553B\", \"#00cc96\", \"#ab63fa\", \"#FFA15A\", \"#19d3f3\", \"#FF6692\", \"#B6E880\", \"#FF97FF\", \"#FECB52\"], \"font\": {\"color\": \"#2a3f5f\"}, \"geo\": {\"bgcolor\": \"white\", \"lakecolor\": \"white\", \"landcolor\": \"#E5ECF6\", \"showlakes\": true, \"showland\": true, \"subunitcolor\": \"white\"}, \"hoverlabel\": {\"align\": \"left\"}, \"hovermode\": \"closest\", \"mapbox\": {\"style\": \"light\"}, \"paper_bgcolor\": \"white\", \"plot_bgcolor\": \"#E5ECF6\", \"polar\": {\"angularaxis\": {\"gridcolor\": \"white\", \"linecolor\": \"white\", \"ticks\": \"\"}, \"bgcolor\": \"#E5ECF6\", \"radialaxis\": {\"gridcolor\": \"white\", \"linecolor\": \"white\", \"ticks\": \"\"}}, \"scene\": {\"xaxis\": {\"backgroundcolor\": \"#E5ECF6\", \"gridcolor\": \"white\", \"gridwidth\": 2, \"linecolor\": \"white\", \"showbackground\": true, \"ticks\": \"\", \"zerolinecolor\": \"white\"}, \"yaxis\": {\"backgroundcolor\": \"#E5ECF6\", \"gridcolor\": \"white\", \"gridwidth\": 2, \"linecolor\": \"white\", \"showbackground\": true, \"ticks\": \"\", \"zerolinecolor\": \"white\"}, \"zaxis\": {\"backgroundcolor\": \"#E5ECF6\", \"gridcolor\": \"white\", \"gridwidth\": 2, \"linecolor\": \"white\", \"showbackground\": true, \"ticks\": \"\", \"zerolinecolor\": \"white\"}}, \"shapedefaults\": {\"line\": {\"color\": \"#2a3f5f\"}}, \"ternary\": {\"aaxis\": {\"gridcolor\": \"white\", \"linecolor\": \"white\", \"ticks\": \"\"}, \"baxis\": {\"gridcolor\": \"white\", \"linecolor\": \"white\", \"ticks\": \"\"}, \"bgcolor\": \"#E5ECF6\", \"caxis\": {\"gridcolor\": \"white\", \"linecolor\": \"white\", \"ticks\": \"\"}}, \"title\": {\"x\": 0.05}, \"xaxis\": {\"automargin\": true, \"gridcolor\": \"white\", \"linecolor\": \"white\", \"ticks\": \"\", \"title\": {\"standoff\": 15}, \"zerolinecolor\": \"white\", \"zerolinewidth\": 2}, \"yaxis\": {\"automargin\": true, \"gridcolor\": \"white\", \"linecolor\": \"white\", \"ticks\": \"\", \"title\": {\"standoff\": 15}, \"zerolinecolor\": \"white\", \"zerolinewidth\": 2}}}, \"updatemenus\": [{\"buttons\": [{\"args\": [{\"scene.annotations\": [{\"showarrow\": false, \"text\": \"C\", \"x\": 10.319218, \"y\": -0.975014, \"yshift\": 15, \"z\": -0.11246}, {\"showarrow\": false, \"text\": \"C\", \"x\": 9.989233, \"y\": 0.240882, \"yshift\": 15, \"z\": -0.527854}, {\"showarrow\": false, \"text\": \"N\", \"x\": 8.683964, \"y\": 0.527851, \"yshift\": 15, \"z\": -0.486781}, {\"showarrow\": false, \"text\": \"C\", \"x\": 8.032784, \"y\": -0.459143, \"yshift\": 15, \"z\": -0.04535}, {\"showarrow\": false, \"text\": \"S\", \"x\": 8.943268, \"y\": -1.810767, \"yshift\": 15, \"z\": 0.354826}, {\"showarrow\": false, \"text\": \"C\", \"x\": 6.612399, \"y\": -0.441379, \"yshift\": 15, \"z\": 0.108076}, {\"showarrow\": false, \"text\": \"N\", \"x\": 5.949453, \"y\": -1.419304, \"yshift\": 15, \"z\": 0.550389}, {\"showarrow\": false, \"text\": \"C\", \"x\": 4.650647, \"y\": -1.119758, \"yshift\": 15, \"z\": 0.59248}, {\"showarrow\": false, \"text\": \"C\", \"x\": 4.320718, \"y\": 0.100938, \"yshift\": 15, \"z\": 0.173268}, {\"showarrow\": false, \"text\": \"S\", \"x\": 5.716765, \"y\": 0.917919, \"yshift\": 15, \"z\": -0.307592}, {\"showarrow\": false, \"text\": \"C\", \"x\": 3.029384, \"y\": 0.698756, \"yshift\": 15, \"z\": 0.112453}, {\"showarrow\": false, \"text\": \"C\", \"x\": 2.704119, \"y\": 1.990576, \"yshift\": 15, \"z\": 0.095608}, {\"showarrow\": false, \"text\": \"N\", \"x\": 1.404054, \"y\": 2.273789, \"yshift\": 15, \"z\": 0.043735}, {\"showarrow\": false, \"text\": \"C\", \"x\": 0.718164, \"y\": 1.216295, \"yshift\": 15, \"z\": 0.022245}, {\"showarrow\": false, \"text\": \"S\", \"x\": 1.614074, \"y\": -0.213464, \"yshift\": 15, \"z\": 0.049972}, {\"showarrow\": false, \"text\": \"C\", \"x\": -0.71817, \"y\": 1.216311, \"yshift\": 15, \"z\": -0.022642}, {\"showarrow\": false, \"text\": \"N\", \"x\": -1.40404, \"y\": 2.273822, \"yshift\": 15, \"z\": -0.044021}, {\"showarrow\": false, \"text\": \"C\", \"x\": -2.704111, \"y\": 1.990639, \"yshift\": 15, \"z\": -0.095929}, {\"showarrow\": false, \"text\": \"C\", \"x\": -3.0294, \"y\": 0.698829, \"yshift\": 15, \"z\": -0.112905}, {\"showarrow\": false, \"text\": \"S\", \"x\": -1.614107, \"y\": -0.213425, \"yshift\": 15, \"z\": -0.050551}, {\"showarrow\": false, \"text\": \"C\", \"x\": -4.320758, \"y\": 0.10104, \"yshift\": 15, \"z\": -0.173692}, {\"showarrow\": false, \"text\": \"C\", \"x\": -4.650791, \"y\": -1.119462, \"yshift\": 15, \"z\": -0.593383}, {\"showarrow\": false, \"text\": \"N\", \"x\": -5.949578, \"y\": -1.419057, \"yshift\": 15, \"z\": -0.551028}, {\"showarrow\": false, \"text\": \"C\", \"x\": -6.612411, \"y\": -0.441337, \"yshift\": 15, \"z\": -0.108089}, {\"showarrow\": false, \"text\": \"S\", \"x\": -5.716674, \"y\": 0.91777, \"yshift\": 15, \"z\": 0.307965}, {\"showarrow\": false, \"text\": \"C\", \"x\": -8.032753, \"y\": -0.459168, \"yshift\": 15, \"z\": 0.045749}, {\"showarrow\": false, \"text\": \"N\", \"x\": -8.683787, \"y\": 0.527641, \"yshift\": 15, \"z\": 0.487809}, {\"showarrow\": false, \"text\": \"C\", \"x\": -9.989052, \"y\": 0.240683, \"yshift\": 15, \"z\": 0.529128}, {\"showarrow\": false, \"text\": \"C\", \"x\": -10.319178, \"y\": -0.975026, \"yshift\": 15, \"z\": 0.113299}, {\"showarrow\": false, \"text\": \"S\", \"x\": -8.943377, \"y\": -1.810604, \"yshift\": 15, \"z\": -0.354738}, {\"showarrow\": false, \"text\": \"H\", \"x\": 11.285166, \"y\": -1.408951, \"yshift\": 15, \"z\": -0.060276}, {\"showarrow\": false, \"text\": \"H\", \"x\": 10.672657, \"y\": 0.973544, \"yshift\": 15, \"z\": -0.878114}, {\"showarrow\": false, \"text\": \"H\", \"x\": 3.960642, \"y\": -1.840867, \"yshift\": 15, \"z\": 0.957018}, {\"showarrow\": false, \"text\": \"H\", \"x\": 3.407757, \"y\": 2.786147, \"yshift\": 15, \"z\": 0.130574}, {\"showarrow\": false, \"text\": \"H\", \"x\": -3.40774, \"y\": 2.786223, \"yshift\": 15, \"z\": -0.130767}, {\"showarrow\": false, \"text\": \"H\", \"x\": -3.960874, \"y\": -1.840399, \"yshift\": 15, \"z\": -0.958426}, {\"showarrow\": false, \"text\": \"H\", \"x\": -10.672347, \"y\": 0.973197, \"yshift\": 15, \"z\": 0.879945}, {\"showarrow\": false, \"text\": \"H\", \"x\": -11.285147, \"y\": -1.408927, \"yshift\": 15, \"z\": 0.06122}]}], \"label\": \" Elements\", \"method\": \"relayout\"}, {\"args\": [{\"scene.annotations\": [{\"showarrow\": false, \"text\": \"C\", \"x\": 10.319218, \"y\": -0.975014, \"yshift\": 15, \"z\": -0.11246}, {\"showarrow\": false, \"text\": \"C\", \"x\": 9.989233, \"y\": 0.240882, \"yshift\": 15, \"z\": -0.527854}, {\"showarrow\": false, \"text\": \"N\", \"x\": 8.683964, \"y\": 0.527851, \"yshift\": 15, \"z\": -0.486781}, {\"showarrow\": false, \"text\": \"C\", \"x\": 8.032784, \"y\": -0.459143, \"yshift\": 15, \"z\": -0.04535}, {\"showarrow\": false, \"text\": \"S\", \"x\": 8.943268, \"y\": -1.810767, \"yshift\": 15, \"z\": 0.354826}, {\"showarrow\": false, \"text\": \"C\", \"x\": 6.612399, \"y\": -0.441379, \"yshift\": 15, \"z\": 0.108076}, {\"showarrow\": false, \"text\": \"N\", \"x\": 5.949453, \"y\": -1.419304, \"yshift\": 15, \"z\": 0.550389}, {\"showarrow\": false, \"text\": \"C\", \"x\": 4.650647, \"y\": -1.119758, \"yshift\": 15, \"z\": 0.59248}, {\"showarrow\": false, \"text\": \"C\", \"x\": 4.320718, \"y\": 0.100938, \"yshift\": 15, \"z\": 0.173268}, {\"showarrow\": false, \"text\": \"S\", \"x\": 5.716765, \"y\": 0.917919, \"yshift\": 15, \"z\": -0.307592}, {\"showarrow\": false, \"text\": \"C\", \"x\": 3.029384, \"y\": 0.698756, \"yshift\": 15, \"z\": 0.112453}, {\"showarrow\": false, \"text\": \"C\", \"x\": 2.704119, \"y\": 1.990576, \"yshift\": 15, \"z\": 0.095608}, {\"showarrow\": false, \"text\": \"N\", \"x\": 1.404054, \"y\": 2.273789, \"yshift\": 15, \"z\": 0.043735}, {\"showarrow\": false, \"text\": \"C\", \"x\": 0.718164, \"y\": 1.216295, \"yshift\": 15, \"z\": 0.022245}, {\"showarrow\": false, \"text\": \"S\", \"x\": 1.614074, \"y\": -0.213464, \"yshift\": 15, \"z\": 0.049972}, {\"showarrow\": false, \"text\": \"C\", \"x\": -0.71817, \"y\": 1.216311, \"yshift\": 15, \"z\": -0.022642}, {\"showarrow\": false, \"text\": \"N\", \"x\": -1.40404, \"y\": 2.273822, \"yshift\": 15, \"z\": -0.044021}, {\"showarrow\": false, \"text\": \"C\", \"x\": -2.704111, \"y\": 1.990639, \"yshift\": 15, \"z\": -0.095929}, {\"showarrow\": false, \"text\": \"C\", \"x\": -3.0294, \"y\": 0.698829, \"yshift\": 15, \"z\": -0.112905}, {\"showarrow\": false, \"text\": \"S\", \"x\": -1.614107, \"y\": -0.213425, \"yshift\": 15, \"z\": -0.050551}, {\"showarrow\": false, \"text\": \"C\", \"x\": -4.320758, \"y\": 0.10104, \"yshift\": 15, \"z\": -0.173692}, {\"showarrow\": false, \"text\": \"C\", \"x\": -4.650791, \"y\": -1.119462, \"yshift\": 15, \"z\": -0.593383}, {\"showarrow\": false, \"text\": \"N\", \"x\": -5.949578, \"y\": -1.419057, \"yshift\": 15, \"z\": -0.551028}, {\"showarrow\": false, \"text\": \"C\", \"x\": -6.612411, \"y\": -0.441337, \"yshift\": 15, \"z\": -0.108089}, {\"showarrow\": false, \"text\": \"S\", \"x\": -5.716674, \"y\": 0.91777, \"yshift\": 15, \"z\": 0.307965}, {\"showarrow\": false, \"text\": \"C\", \"x\": -8.032753, \"y\": -0.459168, \"yshift\": 15, \"z\": 0.045749}, {\"showarrow\": false, \"text\": \"N\", \"x\": -8.683787, \"y\": 0.527641, \"yshift\": 15, \"z\": 0.487809}, {\"showarrow\": false, \"text\": \"C\", \"x\": -9.989052, \"y\": 0.240683, \"yshift\": 15, \"z\": 0.529128}, {\"showarrow\": false, \"text\": \"C\", \"x\": -10.319178, \"y\": -0.975026, \"yshift\": 15, \"z\": 0.113299}, {\"showarrow\": false, \"text\": \"S\", \"x\": -8.943377, \"y\": -1.810604, \"yshift\": 15, \"z\": -0.354738}, {\"showarrow\": false, \"text\": \"H\", \"x\": 11.285166, \"y\": -1.408951, \"yshift\": 15, \"z\": -0.060276}, {\"showarrow\": false, \"text\": \"H\", \"x\": 10.672657, \"y\": 0.973544, \"yshift\": 15, \"z\": -0.878114}, {\"showarrow\": false, \"text\": \"H\", \"x\": 3.960642, \"y\": -1.840867, \"yshift\": 15, \"z\": 0.957018}, {\"showarrow\": false, \"text\": \"H\", \"x\": 3.407757, \"y\": 2.786147, \"yshift\": 15, \"z\": 0.130574}, {\"showarrow\": false, \"text\": \"H\", \"x\": -3.40774, \"y\": 2.786223, \"yshift\": 15, \"z\": -0.130767}, {\"showarrow\": false, \"text\": \"H\", \"x\": -3.960874, \"y\": -1.840399, \"yshift\": 15, \"z\": -0.958426}, {\"showarrow\": false, \"text\": \"H\", \"x\": -10.672347, \"y\": 0.973197, \"yshift\": 15, \"z\": 0.879945}, {\"showarrow\": false, \"text\": \"H\", \"x\": -11.285147, \"y\": -1.408927, \"yshift\": 15, \"z\": 0.06122}, {\"font\": {\"color\": \"steelblue\"}, \"showarrow\": false, \"text\": 1.33, \"x\": 10.154225499999999, \"y\": -0.367066, \"yshift\": 15, \"z\": -0.320157}, {\"font\": {\"color\": \"steelblue\"}, \"showarrow\": false, \"text\": 1.68, \"x\": 9.631243, \"y\": -1.3928905, \"yshift\": 15, \"z\": 0.12118299999999999}, {\"font\": {\"color\": \"steelblue\"}, \"showarrow\": false, \"text\": 1.06, \"x\": 10.802192, \"y\": -1.1919825, \"yshift\": 15, \"z\": -0.086368}, {\"font\": {\"color\": \"steelblue\"}, \"showarrow\": false, \"text\": 1.34, \"x\": 9.336598500000001, \"y\": 0.3843665, \"yshift\": 15, \"z\": -0.5073175000000001}, {\"font\": {\"color\": \"steelblue\"}, \"showarrow\": false, \"text\": 1.06, \"x\": 10.330945, \"y\": 0.607213, \"yshift\": 15, \"z\": -0.702984}, {\"font\": {\"color\": \"steelblue\"}, \"showarrow\": false, \"text\": 1.26, \"x\": 8.358374, \"y\": 0.03435399999999997, \"yshift\": 15, \"z\": -0.2660655}, {\"font\": {\"color\": \"steelblue\"}, \"showarrow\": false, \"text\": 1.68, \"x\": 8.488026, \"y\": -1.134955, \"yshift\": 15, \"z\": 0.154738}, {\"font\": {\"color\": \"steelblue\"}, \"showarrow\": false, \"text\": 1.43, \"x\": 7.3225915, \"y\": -0.450261, \"yshift\": 15, \"z\": 0.031363}, {\"font\": {\"color\": \"steelblue\"}, \"showarrow\": false, \"text\": 1.26, \"x\": 6.280926, \"y\": -0.9303414999999999, \"yshift\": 15, \"z\": 0.32923250000000004}, {\"font\": {\"color\": \"steelblue\"}, \"showarrow\": false, \"text\": 1.68, \"x\": 6.164581999999999, \"y\": 0.23827, \"yshift\": 15, \"z\": -0.09975799999999999}, {\"font\": {\"color\": \"steelblue\"}, \"showarrow\": false, \"text\": 1.33, \"x\": 5.300050000000001, \"y\": -1.269531, \"yshift\": 15, \"z\": 0.5714345000000001}, {\"font\": {\"color\": \"steelblue\"}, \"showarrow\": false, \"text\": 1.33, \"x\": 4.4856825, \"y\": -0.50941, \"yshift\": 15, \"z\": 0.382874}, {\"font\": {\"color\": \"steelblue\"}, \"showarrow\": false, \"text\": 1.06, \"x\": 4.3056445, \"y\": -1.4803125000000001, \"yshift\": 15, \"z\": 0.774749}, {\"font\": {\"color\": \"steelblue\"}, \"showarrow\": false, \"text\": 1.69, \"x\": 5.0187415, \"y\": 0.5094285000000001, \"yshift\": 15, \"z\": -0.06716199999999999}, {\"font\": {\"color\": \"steelblue\"}, \"showarrow\": false, \"text\": 1.42, \"x\": 3.675051, \"y\": 0.399847, \"yshift\": 15, \"z\": 0.1428605}, {\"font\": {\"color\": \"steelblue\"}, \"showarrow\": false, \"text\": 1.33, \"x\": 2.8667515, \"y\": 1.344666, \"yshift\": 15, \"z\": 0.1040305}, {\"font\": {\"color\": \"steelblue\"}, \"showarrow\": false, \"text\": 1.68, \"x\": 2.321729, \"y\": 0.24264600000000003, \"yshift\": 15, \"z\": 0.08121249999999999}, {\"font\": {\"color\": \"steelblue\"}, \"showarrow\": false, \"text\": 1.33, \"x\": 2.0540865, \"y\": 2.1321825, \"yshift\": 15, \"z\": 0.0696715}, {\"font\": {\"color\": \"steelblue\"}, \"showarrow\": false, \"text\": 1.06, \"x\": 3.0559380000000003, \"y\": 2.3883615000000002, \"yshift\": 15, \"z\": 0.113091}, {\"font\": {\"color\": \"steelblue\"}, \"showarrow\": false, \"text\": 1.26, \"x\": 1.061109, \"y\": 1.7450419999999998, \"yshift\": 15, \"z\": 0.032990000000000005}, {\"font\": {\"color\": \"steelblue\"}, \"showarrow\": false, \"text\": 1.69, \"x\": 1.1661190000000001, \"y\": 0.5014155, \"yshift\": 15, \"z\": 0.0361085}, {\"font\": {\"color\": \"steelblue\"}, \"showarrow\": false, \"text\": 1.44, \"x\": -2.9999999999752447e-06, \"y\": 1.216303, \"yshift\": 15, \"z\": -0.00019849999999999902}, {\"font\": {\"color\": \"steelblue\"}, \"showarrow\": false, \"text\": 1.26, \"x\": -1.061105, \"y\": 1.7450665, \"yshift\": 15, \"z\": -0.0333315}, {\"font\": {\"color\": \"steelblue\"}, \"showarrow\": false, \"text\": 1.69, \"x\": -1.1661385, \"y\": 0.501443, \"yshift\": 15, \"z\": -0.0365965}, {\"font\": {\"color\": \"steelblue\"}, \"showarrow\": false, \"text\": 1.33, \"x\": -2.0540755, \"y\": 2.1322305, \"yshift\": 15, \"z\": -0.069975}, {\"font\": {\"color\": \"steelblue\"}, \"showarrow\": false, \"text\": 1.33, \"x\": -2.8667555, \"y\": 1.344734, \"yshift\": 15, \"z\": -0.10441700000000001}, {\"font\": {\"color\": \"steelblue\"}, \"showarrow\": false, \"text\": 1.06, \"x\": -3.0559255, \"y\": 2.388431, \"yshift\": 15, \"z\": -0.113348}, {\"font\": {\"color\": \"steelblue\"}, \"showarrow\": false, \"text\": 1.68, \"x\": -2.3217535, \"y\": 0.24270200000000003, \"yshift\": 15, \"z\": -0.081728}, {\"font\": {\"color\": \"steelblue\"}, \"showarrow\": false, \"text\": 1.42, \"x\": -3.6750789999999998, \"y\": 0.3999345, \"yshift\": 15, \"z\": -0.1432985}, {\"font\": {\"color\": \"steelblue\"}, \"showarrow\": false, \"text\": 1.33, \"x\": -4.4857745, \"y\": -0.509211, \"yshift\": 15, \"z\": -0.3835375}, {\"font\": {\"color\": \"steelblue\"}, \"showarrow\": false, \"text\": 1.69, \"x\": -5.0187159999999995, \"y\": 0.509405, \"yshift\": 15, \"z\": 0.06713649999999999}, {\"font\": {\"color\": \"steelblue\"}, \"showarrow\": false, \"text\": 1.33, \"x\": -5.3001845, \"y\": -1.2692595, \"yshift\": 15, \"z\": -0.5722054999999999}, {\"font\": {\"color\": \"steelblue\"}, \"showarrow\": false, \"text\": 1.06, \"x\": -4.3058325, \"y\": -1.4799305, \"yshift\": 15, \"z\": -0.7759045}, {\"font\": {\"color\": \"steelblue\"}, \"showarrow\": false, \"text\": 1.26, \"x\": -6.2809945, \"y\": -0.9301969999999999, \"yshift\": 15, \"z\": -0.3295585}, {\"font\": {\"color\": \"steelblue\"}, \"showarrow\": false, \"text\": 1.68, \"x\": -6.1645425, \"y\": 0.2382165, \"yshift\": 15, \"z\": 0.099938}, {\"font\": {\"color\": \"steelblue\"}, \"showarrow\": false, \"text\": 1.43, \"x\": -7.322582, \"y\": -0.4502525, \"yshift\": 15, \"z\": -0.031170000000000003}, {\"font\": {\"color\": \"steelblue\"}, \"showarrow\": false, \"text\": 1.26, \"x\": -8.358270000000001, \"y\": 0.0342365, \"yshift\": 15, \"z\": 0.266779}, {\"font\": {\"color\": \"steelblue\"}, \"showarrow\": false, \"text\": 1.68, \"x\": -8.488064999999999, \"y\": -1.134886, \"yshift\": 15, \"z\": -0.1544945}, {\"font\": {\"color\": \"steelblue\"}, \"showarrow\": false, \"text\": 1.34, \"x\": -9.3364195, \"y\": 0.384162, \"yshift\": 15, \"z\": 0.5084685}, {\"font\": {\"color\": \"steelblue\"}, \"showarrow\": false, \"text\": 1.33, \"x\": -10.154115000000001, \"y\": -0.3671715, \"yshift\": 15, \"z\": 0.32121350000000004}, {\"font\": {\"color\": \"steelblue\"}, \"showarrow\": false, \"text\": 1.06, \"x\": -10.3306995, \"y\": 0.60694, \"yshift\": 15, \"z\": 0.7045365}, {\"font\": {\"color\": \"steelblue\"}, \"showarrow\": false, \"text\": 1.68, \"x\": -9.6312775, \"y\": -1.3928150000000001, \"yshift\": 15, \"z\": -0.12071950000000001}, {\"font\": {\"color\": \"steelblue\"}, \"showarrow\": false, \"text\": 1.06, \"x\": -10.802162500000001, \"y\": -1.1919765, \"yshift\": 15, \"z\": 0.08725949999999999}]}], \"label\": \" Elements & Bond Lengths\", \"method\": \"relayout\"}, {\"args\": [{\"scene.annotations\": [{\"showarrow\": false, \"text\": 0, \"x\": 10.319218, \"y\": -0.975014, \"yshift\": 15, \"z\": -0.11246}, {\"showarrow\": false, \"text\": 1, \"x\": 9.989233, \"y\": 0.240882, \"yshift\": 15, \"z\": -0.527854}, {\"showarrow\": false, \"text\": 2, \"x\": 8.683964, \"y\": 0.527851, \"yshift\": 15, \"z\": -0.486781}, {\"showarrow\": false, \"text\": 3, \"x\": 8.032784, \"y\": -0.459143, \"yshift\": 15, \"z\": -0.04535}, {\"showarrow\": false, \"text\": 4, \"x\": 8.943268, \"y\": -1.810767, \"yshift\": 15, \"z\": 0.354826}, {\"showarrow\": false, \"text\": 5, \"x\": 6.612399, \"y\": -0.441379, \"yshift\": 15, \"z\": 0.108076}, {\"showarrow\": false, \"text\": 6, \"x\": 5.949453, \"y\": -1.419304, \"yshift\": 15, \"z\": 0.550389}, {\"showarrow\": false, \"text\": 7, \"x\": 4.650647, \"y\": -1.119758, \"yshift\": 15, \"z\": 0.59248}, {\"showarrow\": false, \"text\": 8, \"x\": 4.320718, \"y\": 0.100938, \"yshift\": 15, \"z\": 0.173268}, {\"showarrow\": false, \"text\": 9, \"x\": 5.716765, \"y\": 0.917919, \"yshift\": 15, \"z\": -0.307592}, {\"showarrow\": false, \"text\": 10, \"x\": 3.029384, \"y\": 0.698756, \"yshift\": 15, \"z\": 0.112453}, {\"showarrow\": false, \"text\": 11, \"x\": 2.704119, \"y\": 1.990576, \"yshift\": 15, \"z\": 0.095608}, {\"showarrow\": false, \"text\": 12, \"x\": 1.404054, \"y\": 2.273789, \"yshift\": 15, \"z\": 0.043735}, {\"showarrow\": false, \"text\": 13, \"x\": 0.718164, \"y\": 1.216295, \"yshift\": 15, \"z\": 0.022245}, {\"showarrow\": false, \"text\": 14, \"x\": 1.614074, \"y\": -0.213464, \"yshift\": 15, \"z\": 0.049972}, {\"showarrow\": false, \"text\": 15, \"x\": -0.71817, \"y\": 1.216311, \"yshift\": 15, \"z\": -0.022642}, {\"showarrow\": false, \"text\": 16, \"x\": -1.40404, \"y\": 2.273822, \"yshift\": 15, \"z\": -0.044021}, {\"showarrow\": false, \"text\": 17, \"x\": -2.704111, \"y\": 1.990639, \"yshift\": 15, \"z\": -0.095929}, {\"showarrow\": false, \"text\": 18, \"x\": -3.0294, \"y\": 0.698829, \"yshift\": 15, \"z\": -0.112905}, {\"showarrow\": false, \"text\": 19, \"x\": -1.614107, \"y\": -0.213425, \"yshift\": 15, \"z\": -0.050551}, {\"showarrow\": false, \"text\": 20, \"x\": -4.320758, \"y\": 0.10104, \"yshift\": 15, \"z\": -0.173692}, {\"showarrow\": false, \"text\": 21, \"x\": -4.650791, \"y\": -1.119462, \"yshift\": 15, \"z\": -0.593383}, {\"showarrow\": false, \"text\": 22, \"x\": -5.949578, \"y\": -1.419057, \"yshift\": 15, \"z\": -0.551028}, {\"showarrow\": false, \"text\": 23, \"x\": -6.612411, \"y\": -0.441337, \"yshift\": 15, \"z\": -0.108089}, {\"showarrow\": false, \"text\": 24, \"x\": -5.716674, \"y\": 0.91777, \"yshift\": 15, \"z\": 0.307965}, {\"showarrow\": false, \"text\": 25, \"x\": -8.032753, \"y\": -0.459168, \"yshift\": 15, \"z\": 0.045749}, {\"showarrow\": false, \"text\": 26, \"x\": -8.683787, \"y\": 0.527641, \"yshift\": 15, \"z\": 0.487809}, {\"showarrow\": false, \"text\": 27, \"x\": -9.989052, \"y\": 0.240683, \"yshift\": 15, \"z\": 0.529128}, {\"showarrow\": false, \"text\": 28, \"x\": -10.319178, \"y\": -0.975026, \"yshift\": 15, \"z\": 0.113299}, {\"showarrow\": false, \"text\": 29, \"x\": -8.943377, \"y\": -1.810604, \"yshift\": 15, \"z\": -0.354738}, {\"showarrow\": false, \"text\": 30, \"x\": 11.285166, \"y\": -1.408951, \"yshift\": 15, \"z\": -0.060276}, {\"showarrow\": false, \"text\": 31, \"x\": 10.672657, \"y\": 0.973544, \"yshift\": 15, \"z\": -0.878114}, {\"showarrow\": false, \"text\": 32, \"x\": 3.960642, \"y\": -1.840867, \"yshift\": 15, \"z\": 0.957018}, {\"showarrow\": false, \"text\": 33, \"x\": 3.407757, \"y\": 2.786147, \"yshift\": 15, \"z\": 0.130574}, {\"showarrow\": false, \"text\": 34, \"x\": -3.40774, \"y\": 2.786223, \"yshift\": 15, \"z\": -0.130767}, {\"showarrow\": false, \"text\": 35, \"x\": -3.960874, \"y\": -1.840399, \"yshift\": 15, \"z\": -0.958426}, {\"showarrow\": false, \"text\": 36, \"x\": -10.672347, \"y\": 0.973197, \"yshift\": 15, \"z\": 0.879945}, {\"showarrow\": false, \"text\": 37, \"x\": -11.285147, \"y\": -1.408927, \"yshift\": 15, \"z\": 0.06122}]}], \"label\": \"Indices\", \"method\": \"relayout\"}, {\"args\": [{\"scene.annotations\": [{\"showarrow\": false, \"text\": 0, \"x\": 10.319218, \"y\": -0.975014, \"yshift\": 15, \"z\": -0.11246}, {\"showarrow\": false, \"text\": 1, \"x\": 9.989233, \"y\": 0.240882, \"yshift\": 15, \"z\": -0.527854}, {\"showarrow\": false, \"text\": 2, \"x\": 8.683964, \"y\": 0.527851, \"yshift\": 15, \"z\": -0.486781}, {\"showarrow\": false, \"text\": 3, \"x\": 8.032784, \"y\": -0.459143, \"yshift\": 15, \"z\": -0.04535}, {\"showarrow\": false, \"text\": 4, \"x\": 8.943268, \"y\": -1.810767, \"yshift\": 15, \"z\": 0.354826}, {\"showarrow\": false, \"text\": 5, \"x\": 6.612399, \"y\": -0.441379, \"yshift\": 15, \"z\": 0.108076}, {\"showarrow\": false, \"text\": 6, \"x\": 5.949453, \"y\": -1.419304, \"yshift\": 15, \"z\": 0.550389}, {\"showarrow\": false, \"text\": 7, \"x\": 4.650647, \"y\": -1.119758, \"yshift\": 15, \"z\": 0.59248}, {\"showarrow\": false, \"text\": 8, \"x\": 4.320718, \"y\": 0.100938, \"yshift\": 15, \"z\": 0.173268}, {\"showarrow\": false, \"text\": 9, \"x\": 5.716765, \"y\": 0.917919, \"yshift\": 15, \"z\": -0.307592}, {\"showarrow\": false, \"text\": 10, \"x\": 3.029384, \"y\": 0.698756, \"yshift\": 15, \"z\": 0.112453}, {\"showarrow\": false, \"text\": 11, \"x\": 2.704119, \"y\": 1.990576, \"yshift\": 15, \"z\": 0.095608}, {\"showarrow\": false, \"text\": 12, \"x\": 1.404054, \"y\": 2.273789, \"yshift\": 15, \"z\": 0.043735}, {\"showarrow\": false, \"text\": 13, \"x\": 0.718164, \"y\": 1.216295, \"yshift\": 15, \"z\": 0.022245}, {\"showarrow\": false, \"text\": 14, \"x\": 1.614074, \"y\": -0.213464, \"yshift\": 15, \"z\": 0.049972}, {\"showarrow\": false, \"text\": 15, \"x\": -0.71817, \"y\": 1.216311, \"yshift\": 15, \"z\": -0.022642}, {\"showarrow\": false, \"text\": 16, \"x\": -1.40404, \"y\": 2.273822, \"yshift\": 15, \"z\": -0.044021}, {\"showarrow\": false, \"text\": 17, \"x\": -2.704111, \"y\": 1.990639, \"yshift\": 15, \"z\": -0.095929}, {\"showarrow\": false, \"text\": 18, \"x\": -3.0294, \"y\": 0.698829, \"yshift\": 15, \"z\": -0.112905}, {\"showarrow\": false, \"text\": 19, \"x\": -1.614107, \"y\": -0.213425, \"yshift\": 15, \"z\": -0.050551}, {\"showarrow\": false, \"text\": 20, \"x\": -4.320758, \"y\": 0.10104, \"yshift\": 15, \"z\": -0.173692}, {\"showarrow\": false, \"text\": 21, \"x\": -4.650791, \"y\": -1.119462, \"yshift\": 15, \"z\": -0.593383}, {\"showarrow\": false, \"text\": 22, \"x\": -5.949578, \"y\": -1.419057, \"yshift\": 15, \"z\": -0.551028}, {\"showarrow\": false, \"text\": 23, \"x\": -6.612411, \"y\": -0.441337, \"yshift\": 15, \"z\": -0.108089}, {\"showarrow\": false, \"text\": 24, \"x\": -5.716674, \"y\": 0.91777, \"yshift\": 15, \"z\": 0.307965}, {\"showarrow\": false, \"text\": 25, \"x\": -8.032753, \"y\": -0.459168, \"yshift\": 15, \"z\": 0.045749}, {\"showarrow\": false, \"text\": 26, \"x\": -8.683787, \"y\": 0.527641, \"yshift\": 15, \"z\": 0.487809}, {\"showarrow\": false, \"text\": 27, \"x\": -9.989052, \"y\": 0.240683, \"yshift\": 15, \"z\": 0.529128}, {\"showarrow\": false, \"text\": 28, \"x\": -10.319178, \"y\": -0.975026, \"yshift\": 15, \"z\": 0.113299}, {\"showarrow\": false, \"text\": 29, \"x\": -8.943377, \"y\": -1.810604, \"yshift\": 15, \"z\": -0.354738}, {\"showarrow\": false, \"text\": 30, \"x\": 11.285166, \"y\": -1.408951, \"yshift\": 15, \"z\": -0.060276}, {\"showarrow\": false, \"text\": 31, \"x\": 10.672657, \"y\": 0.973544, \"yshift\": 15, \"z\": -0.878114}, {\"showarrow\": false, \"text\": 32, \"x\": 3.960642, \"y\": -1.840867, \"yshift\": 15, \"z\": 0.957018}, {\"showarrow\": false, \"text\": 33, \"x\": 3.407757, \"y\": 2.786147, \"yshift\": 15, \"z\": 0.130574}, {\"showarrow\": false, \"text\": 34, \"x\": -3.40774, \"y\": 2.786223, \"yshift\": 15, \"z\": -0.130767}, {\"showarrow\": false, \"text\": 35, \"x\": -3.960874, \"y\": -1.840399, \"yshift\": 15, \"z\": -0.958426}, {\"showarrow\": false, \"text\": 36, \"x\": -10.672347, \"y\": 0.973197, \"yshift\": 15, \"z\": 0.879945}, {\"showarrow\": false, \"text\": 37, \"x\": -11.285147, \"y\": -1.408927, \"yshift\": 15, \"z\": 0.06122}, {\"font\": {\"color\": \"steelblue\"}, \"showarrow\": false, \"text\": 1.33, \"x\": 10.154225499999999, \"y\": -0.367066, \"yshift\": 15, \"z\": -0.320157}, {\"font\": {\"color\": \"steelblue\"}, \"showarrow\": false, \"text\": 1.68, \"x\": 9.631243, \"y\": -1.3928905, \"yshift\": 15, \"z\": 0.12118299999999999}, {\"font\": {\"color\": \"steelblue\"}, \"showarrow\": false, \"text\": 1.06, \"x\": 10.802192, \"y\": -1.1919825, \"yshift\": 15, \"z\": -0.086368}, {\"font\": {\"color\": \"steelblue\"}, \"showarrow\": false, \"text\": 1.34, \"x\": 9.336598500000001, \"y\": 0.3843665, \"yshift\": 15, \"z\": -0.5073175000000001}, {\"font\": {\"color\": \"steelblue\"}, \"showarrow\": false, \"text\": 1.06, \"x\": 10.330945, \"y\": 0.607213, \"yshift\": 15, \"z\": -0.702984}, {\"font\": {\"color\": \"steelblue\"}, \"showarrow\": false, \"text\": 1.26, \"x\": 8.358374, \"y\": 0.03435399999999997, \"yshift\": 15, \"z\": -0.2660655}, {\"font\": {\"color\": \"steelblue\"}, \"showarrow\": false, \"text\": 1.68, \"x\": 8.488026, \"y\": -1.134955, \"yshift\": 15, \"z\": 0.154738}, {\"font\": {\"color\": \"steelblue\"}, \"showarrow\": false, \"text\": 1.43, \"x\": 7.3225915, \"y\": -0.450261, \"yshift\": 15, \"z\": 0.031363}, {\"font\": {\"color\": \"steelblue\"}, \"showarrow\": false, \"text\": 1.26, \"x\": 6.280926, \"y\": -0.9303414999999999, \"yshift\": 15, \"z\": 0.32923250000000004}, {\"font\": {\"color\": \"steelblue\"}, \"showarrow\": false, \"text\": 1.68, \"x\": 6.164581999999999, \"y\": 0.23827, \"yshift\": 15, \"z\": -0.09975799999999999}, {\"font\": {\"color\": \"steelblue\"}, \"showarrow\": false, \"text\": 1.33, \"x\": 5.300050000000001, \"y\": -1.269531, \"yshift\": 15, \"z\": 0.5714345000000001}, {\"font\": {\"color\": \"steelblue\"}, \"showarrow\": false, \"text\": 1.33, \"x\": 4.4856825, \"y\": -0.50941, \"yshift\": 15, \"z\": 0.382874}, {\"font\": {\"color\": \"steelblue\"}, \"showarrow\": false, \"text\": 1.06, \"x\": 4.3056445, \"y\": -1.4803125000000001, \"yshift\": 15, \"z\": 0.774749}, {\"font\": {\"color\": \"steelblue\"}, \"showarrow\": false, \"text\": 1.69, \"x\": 5.0187415, \"y\": 0.5094285000000001, \"yshift\": 15, \"z\": -0.06716199999999999}, {\"font\": {\"color\": \"steelblue\"}, \"showarrow\": false, \"text\": 1.42, \"x\": 3.675051, \"y\": 0.399847, \"yshift\": 15, \"z\": 0.1428605}, {\"font\": {\"color\": \"steelblue\"}, \"showarrow\": false, \"text\": 1.33, \"x\": 2.8667515, \"y\": 1.344666, \"yshift\": 15, \"z\": 0.1040305}, {\"font\": {\"color\": \"steelblue\"}, \"showarrow\": false, \"text\": 1.68, \"x\": 2.321729, \"y\": 0.24264600000000003, \"yshift\": 15, \"z\": 0.08121249999999999}, {\"font\": {\"color\": \"steelblue\"}, \"showarrow\": false, \"text\": 1.33, \"x\": 2.0540865, \"y\": 2.1321825, \"yshift\": 15, \"z\": 0.0696715}, {\"font\": {\"color\": \"steelblue\"}, \"showarrow\": false, \"text\": 1.06, \"x\": 3.0559380000000003, \"y\": 2.3883615000000002, \"yshift\": 15, \"z\": 0.113091}, {\"font\": {\"color\": \"steelblue\"}, \"showarrow\": false, \"text\": 1.26, \"x\": 1.061109, \"y\": 1.7450419999999998, \"yshift\": 15, \"z\": 0.032990000000000005}, {\"font\": {\"color\": \"steelblue\"}, \"showarrow\": false, \"text\": 1.69, \"x\": 1.1661190000000001, \"y\": 0.5014155, \"yshift\": 15, \"z\": 0.0361085}, {\"font\": {\"color\": \"steelblue\"}, \"showarrow\": false, \"text\": 1.44, \"x\": -2.9999999999752447e-06, \"y\": 1.216303, \"yshift\": 15, \"z\": -0.00019849999999999902}, {\"font\": {\"color\": \"steelblue\"}, \"showarrow\": false, \"text\": 1.26, \"x\": -1.061105, \"y\": 1.7450665, \"yshift\": 15, \"z\": -0.0333315}, {\"font\": {\"color\": \"steelblue\"}, \"showarrow\": false, \"text\": 1.69, \"x\": -1.1661385, \"y\": 0.501443, \"yshift\": 15, \"z\": -0.0365965}, {\"font\": {\"color\": \"steelblue\"}, \"showarrow\": false, \"text\": 1.33, \"x\": -2.0540755, \"y\": 2.1322305, \"yshift\": 15, \"z\": -0.069975}, {\"font\": {\"color\": \"steelblue\"}, \"showarrow\": false, \"text\": 1.33, \"x\": -2.8667555, \"y\": 1.344734, \"yshift\": 15, \"z\": -0.10441700000000001}, {\"font\": {\"color\": \"steelblue\"}, \"showarrow\": false, \"text\": 1.06, \"x\": -3.0559255, \"y\": 2.388431, \"yshift\": 15, \"z\": -0.113348}, {\"font\": {\"color\": \"steelblue\"}, \"showarrow\": false, \"text\": 1.68, \"x\": -2.3217535, \"y\": 0.24270200000000003, \"yshift\": 15, \"z\": -0.081728}, {\"font\": {\"color\": \"steelblue\"}, \"showarrow\": false, \"text\": 1.42, \"x\": -3.6750789999999998, \"y\": 0.3999345, \"yshift\": 15, \"z\": -0.1432985}, {\"font\": {\"color\": \"steelblue\"}, \"showarrow\": false, \"text\": 1.33, \"x\": -4.4857745, \"y\": -0.509211, \"yshift\": 15, \"z\": -0.3835375}, {\"font\": {\"color\": \"steelblue\"}, \"showarrow\": false, \"text\": 1.69, \"x\": -5.0187159999999995, \"y\": 0.509405, \"yshift\": 15, \"z\": 0.06713649999999999}, {\"font\": {\"color\": \"steelblue\"}, \"showarrow\": false, \"text\": 1.33, \"x\": -5.3001845, \"y\": -1.2692595, \"yshift\": 15, \"z\": -0.5722054999999999}, {\"font\": {\"color\": \"steelblue\"}, \"showarrow\": false, \"text\": 1.06, \"x\": -4.3058325, \"y\": -1.4799305, \"yshift\": 15, \"z\": -0.7759045}, {\"font\": {\"color\": \"steelblue\"}, \"showarrow\": false, \"text\": 1.26, \"x\": -6.2809945, \"y\": -0.9301969999999999, \"yshift\": 15, \"z\": -0.3295585}, {\"font\": {\"color\": \"steelblue\"}, \"showarrow\": false, \"text\": 1.68, \"x\": -6.1645425, \"y\": 0.2382165, \"yshift\": 15, \"z\": 0.099938}, {\"font\": {\"color\": \"steelblue\"}, \"showarrow\": false, \"text\": 1.43, \"x\": -7.322582, \"y\": -0.4502525, \"yshift\": 15, \"z\": -0.031170000000000003}, {\"font\": {\"color\": \"steelblue\"}, \"showarrow\": false, \"text\": 1.26, \"x\": -8.358270000000001, \"y\": 0.0342365, \"yshift\": 15, \"z\": 0.266779}, {\"font\": {\"color\": \"steelblue\"}, \"showarrow\": false, \"text\": 1.68, \"x\": -8.488064999999999, \"y\": -1.134886, \"yshift\": 15, \"z\": -0.1544945}, {\"font\": {\"color\": \"steelblue\"}, \"showarrow\": false, \"text\": 1.34, \"x\": -9.3364195, \"y\": 0.384162, \"yshift\": 15, \"z\": 0.5084685}, {\"font\": {\"color\": \"steelblue\"}, \"showarrow\": false, \"text\": 1.33, \"x\": -10.154115000000001, \"y\": -0.3671715, \"yshift\": 15, \"z\": 0.32121350000000004}, {\"font\": {\"color\": \"steelblue\"}, \"showarrow\": false, \"text\": 1.06, \"x\": -10.3306995, \"y\": 0.60694, \"yshift\": 15, \"z\": 0.7045365}, {\"font\": {\"color\": \"steelblue\"}, \"showarrow\": false, \"text\": 1.68, \"x\": -9.6312775, \"y\": -1.3928150000000001, \"yshift\": 15, \"z\": -0.12071950000000001}, {\"font\": {\"color\": \"steelblue\"}, \"showarrow\": false, \"text\": 1.06, \"x\": -10.802162500000001, \"y\": -1.1919765, \"yshift\": 15, \"z\": 0.08725949999999999}]}], \"label\": \"Indices & Bond Lengths\", \"method\": \"relayout\"}, {\"args\": [{\"scene.annotations\": [{\"font\": {\"color\": \"steelblue\"}, \"showarrow\": false, \"text\": 1.33, \"x\": 10.154225499999999, \"y\": -0.367066, \"yshift\": 15, \"z\": -0.320157}, {\"font\": {\"color\": \"steelblue\"}, \"showarrow\": false, \"text\": 1.68, \"x\": 9.631243, \"y\": -1.3928905, \"yshift\": 15, \"z\": 0.12118299999999999}, {\"font\": {\"color\": \"steelblue\"}, \"showarrow\": false, \"text\": 1.06, \"x\": 10.802192, \"y\": -1.1919825, \"yshift\": 15, \"z\": -0.086368}, {\"font\": {\"color\": \"steelblue\"}, \"showarrow\": false, \"text\": 1.34, \"x\": 9.336598500000001, \"y\": 0.3843665, \"yshift\": 15, \"z\": -0.5073175000000001}, {\"font\": {\"color\": \"steelblue\"}, \"showarrow\": false, \"text\": 1.06, \"x\": 10.330945, \"y\": 0.607213, \"yshift\": 15, \"z\": -0.702984}, {\"font\": {\"color\": \"steelblue\"}, \"showarrow\": false, \"text\": 1.26, \"x\": 8.358374, \"y\": 0.03435399999999997, \"yshift\": 15, \"z\": -0.2660655}, {\"font\": {\"color\": \"steelblue\"}, \"showarrow\": false, \"text\": 1.68, \"x\": 8.488026, \"y\": -1.134955, \"yshift\": 15, \"z\": 0.154738}, {\"font\": {\"color\": \"steelblue\"}, \"showarrow\": false, \"text\": 1.43, \"x\": 7.3225915, \"y\": -0.450261, \"yshift\": 15, \"z\": 0.031363}, {\"font\": {\"color\": \"steelblue\"}, \"showarrow\": false, \"text\": 1.26, \"x\": 6.280926, \"y\": -0.9303414999999999, \"yshift\": 15, \"z\": 0.32923250000000004}, {\"font\": {\"color\": \"steelblue\"}, \"showarrow\": false, \"text\": 1.68, \"x\": 6.164581999999999, \"y\": 0.23827, \"yshift\": 15, \"z\": -0.09975799999999999}, {\"font\": {\"color\": \"steelblue\"}, \"showarrow\": false, \"text\": 1.33, \"x\": 5.300050000000001, \"y\": -1.269531, \"yshift\": 15, \"z\": 0.5714345000000001}, {\"font\": {\"color\": \"steelblue\"}, \"showarrow\": false, \"text\": 1.33, \"x\": 4.4856825, \"y\": -0.50941, \"yshift\": 15, \"z\": 0.382874}, {\"font\": {\"color\": \"steelblue\"}, \"showarrow\": false, \"text\": 1.06, \"x\": 4.3056445, \"y\": -1.4803125000000001, \"yshift\": 15, \"z\": 0.774749}, {\"font\": {\"color\": \"steelblue\"}, \"showarrow\": false, \"text\": 1.69, \"x\": 5.0187415, \"y\": 0.5094285000000001, \"yshift\": 15, \"z\": -0.06716199999999999}, {\"font\": {\"color\": \"steelblue\"}, \"showarrow\": false, \"text\": 1.42, \"x\": 3.675051, \"y\": 0.399847, \"yshift\": 15, \"z\": 0.1428605}, {\"font\": {\"color\": \"steelblue\"}, \"showarrow\": false, \"text\": 1.33, \"x\": 2.8667515, \"y\": 1.344666, \"yshift\": 15, \"z\": 0.1040305}, {\"font\": {\"color\": \"steelblue\"}, \"showarrow\": false, \"text\": 1.68, \"x\": 2.321729, \"y\": 0.24264600000000003, \"yshift\": 15, \"z\": 0.08121249999999999}, {\"font\": {\"color\": \"steelblue\"}, \"showarrow\": false, \"text\": 1.33, \"x\": 2.0540865, \"y\": 2.1321825, \"yshift\": 15, \"z\": 0.0696715}, {\"font\": {\"color\": \"steelblue\"}, \"showarrow\": false, \"text\": 1.06, \"x\": 3.0559380000000003, \"y\": 2.3883615000000002, \"yshift\": 15, \"z\": 0.113091}, {\"font\": {\"color\": \"steelblue\"}, \"showarrow\": false, \"text\": 1.26, \"x\": 1.061109, \"y\": 1.7450419999999998, \"yshift\": 15, \"z\": 0.032990000000000005}, {\"font\": {\"color\": \"steelblue\"}, \"showarrow\": false, \"text\": 1.69, \"x\": 1.1661190000000001, \"y\": 0.5014155, \"yshift\": 15, \"z\": 0.0361085}, {\"font\": {\"color\": \"steelblue\"}, \"showarrow\": false, \"text\": 1.44, \"x\": -2.9999999999752447e-06, \"y\": 1.216303, \"yshift\": 15, \"z\": -0.00019849999999999902}, {\"font\": {\"color\": \"steelblue\"}, \"showarrow\": false, \"text\": 1.26, \"x\": -1.061105, \"y\": 1.7450665, \"yshift\": 15, \"z\": -0.0333315}, {\"font\": {\"color\": \"steelblue\"}, \"showarrow\": false, \"text\": 1.69, \"x\": -1.1661385, \"y\": 0.501443, \"yshift\": 15, \"z\": -0.0365965}, {\"font\": {\"color\": \"steelblue\"}, \"showarrow\": false, \"text\": 1.33, \"x\": -2.0540755, \"y\": 2.1322305, \"yshift\": 15, \"z\": -0.069975}, {\"font\": {\"color\": \"steelblue\"}, \"showarrow\": false, \"text\": 1.33, \"x\": -2.8667555, \"y\": 1.344734, \"yshift\": 15, \"z\": -0.10441700000000001}, {\"font\": {\"color\": \"steelblue\"}, \"showarrow\": false, \"text\": 1.06, \"x\": -3.0559255, \"y\": 2.388431, \"yshift\": 15, \"z\": -0.113348}, {\"font\": {\"color\": \"steelblue\"}, \"showarrow\": false, \"text\": 1.68, \"x\": -2.3217535, \"y\": 0.24270200000000003, \"yshift\": 15, \"z\": -0.081728}, {\"font\": {\"color\": \"steelblue\"}, \"showarrow\": false, \"text\": 1.42, \"x\": -3.6750789999999998, \"y\": 0.3999345, \"yshift\": 15, \"z\": -0.1432985}, {\"font\": {\"color\": \"steelblue\"}, \"showarrow\": false, \"text\": 1.33, \"x\": -4.4857745, \"y\": -0.509211, \"yshift\": 15, \"z\": -0.3835375}, {\"font\": {\"color\": \"steelblue\"}, \"showarrow\": false, \"text\": 1.69, \"x\": -5.0187159999999995, \"y\": 0.509405, \"yshift\": 15, \"z\": 0.06713649999999999}, {\"font\": {\"color\": \"steelblue\"}, \"showarrow\": false, \"text\": 1.33, \"x\": -5.3001845, \"y\": -1.2692595, \"yshift\": 15, \"z\": -0.5722054999999999}, {\"font\": {\"color\": \"steelblue\"}, \"showarrow\": false, \"text\": 1.06, \"x\": -4.3058325, \"y\": -1.4799305, \"yshift\": 15, \"z\": -0.7759045}, {\"font\": {\"color\": \"steelblue\"}, \"showarrow\": false, \"text\": 1.26, \"x\": -6.2809945, \"y\": -0.9301969999999999, \"yshift\": 15, \"z\": -0.3295585}, {\"font\": {\"color\": \"steelblue\"}, \"showarrow\": false, \"text\": 1.68, \"x\": -6.1645425, \"y\": 0.2382165, \"yshift\": 15, \"z\": 0.099938}, {\"font\": {\"color\": \"steelblue\"}, \"showarrow\": false, \"text\": 1.43, \"x\": -7.322582, \"y\": -0.4502525, \"yshift\": 15, \"z\": -0.031170000000000003}, {\"font\": {\"color\": \"steelblue\"}, \"showarrow\": false, \"text\": 1.26, \"x\": -8.358270000000001, \"y\": 0.0342365, \"yshift\": 15, \"z\": 0.266779}, {\"font\": {\"color\": \"steelblue\"}, \"showarrow\": false, \"text\": 1.68, \"x\": -8.488064999999999, \"y\": -1.134886, \"yshift\": 15, \"z\": -0.1544945}, {\"font\": {\"color\": \"steelblue\"}, \"showarrow\": false, \"text\": 1.34, \"x\": -9.3364195, \"y\": 0.384162, \"yshift\": 15, \"z\": 0.5084685}, {\"font\": {\"color\": \"steelblue\"}, \"showarrow\": false, \"text\": 1.33, \"x\": -10.154115000000001, \"y\": -0.3671715, \"yshift\": 15, \"z\": 0.32121350000000004}, {\"font\": {\"color\": \"steelblue\"}, \"showarrow\": false, \"text\": 1.06, \"x\": -10.3306995, \"y\": 0.60694, \"yshift\": 15, \"z\": 0.7045365}, {\"font\": {\"color\": \"steelblue\"}, \"showarrow\": false, \"text\": 1.68, \"x\": -9.6312775, \"y\": -1.3928150000000001, \"yshift\": 15, \"z\": -0.12071950000000001}, {\"font\": {\"color\": \"steelblue\"}, \"showarrow\": false, \"text\": 1.06, \"x\": -10.802162500000001, \"y\": -1.1919765, \"yshift\": 15, \"z\": 0.08725949999999999}]}], \"label\": \"Bond Lengths\", \"method\": \"relayout\"}, {\"args\": [{\"scene.annotations\": []}], \"label\": \"Hide All\", \"method\": \"relayout\"}], \"direction\": \"down\", \"xanchor\": \"left\", \"yanchor\": \"top\"}]},                        {\"responsive\": true}                    ).then(function(){\n",
       "                            \n",
       "var gd = document.getElementById('d0d7f715-6de8-4c4c-ba42-0f8530935c16');\n",
       "var x = new MutationObserver(function (mutations, observer) {{\n",
       "        var display = window.getComputedStyle(gd).display;\n",
       "        if (!display || display === 'none') {{\n",
       "            console.log([gd, 'removed!']);\n",
       "            Plotly.purge(gd);\n",
       "            observer.disconnect();\n",
       "        }}\n",
       "}});\n",
       "\n",
       "// Listen for the removal of the full notebook cells\n",
       "var notebookContainer = gd.closest('#notebook-container');\n",
       "if (notebookContainer) {{\n",
       "    x.observe(notebookContainer, {childList: true});\n",
       "}}\n",
       "\n",
       "// Listen for the clearing of the current output cell\n",
       "var outputEl = gd.closest('.output');\n",
       "if (outputEl) {{\n",
       "    x.observe(outputEl, {childList: true});\n",
       "}}\n",
       "\n",
       "                        })                };                });            </script>        </div>"
      ]
     },
     "metadata": {},
     "output_type": "display_data"
    }
   ],
   "source": [
    "mol = all_molecules[17]\n",
    "structure = mol.structures_data['0']\n",
    "temp_file = os.path.join(home,'temp.xyz')\n",
    "with open(temp_file, 'w') as file: \n",
    "    file.write(structure)\n",
    "\n",
    "# Initiate the Plotly notebook mode\n",
    "init_notebook_mode(connected=True)\n",
    "# Create the MolGraph object\n",
    "mg = MolGraph()\n",
    "# Read the data from the .xyz file\n",
    "mg.read_xyz(temp_file)\n",
    "# Create the Plotly figure object\n",
    "fig = to_plotly_figure(mg)\n",
    "# Plot the figure\n",
    "iplot(fig)"
   ]
  },
  {
   "cell_type": "code",
   "execution_count": null,
   "id": "02978ea7",
   "metadata": {},
   "outputs": [],
   "source": []
  }
 ],
 "metadata": {
  "kernelspec": {
   "display_name": "Python 3",
   "language": "python",
   "name": "python3"
  },
  "language_info": {
   "codemirror_mode": {
    "name": "ipython",
    "version": 3
   },
   "file_extension": ".py",
   "mimetype": "text/x-python",
   "name": "python",
   "nbconvert_exporter": "python",
   "pygments_lexer": "ipython3",
   "version": "3.7.10"
  }
 },
 "nbformat": 4,
 "nbformat_minor": 5
}
