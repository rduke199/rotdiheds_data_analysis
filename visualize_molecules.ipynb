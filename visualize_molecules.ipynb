{
 "cells": [
  {
   "cell_type": "markdown",
   "metadata": {},
   "source": [
    "# Create Monomer Images\n",
    "### This code creates an individual image for each monomer in the folder indv_images. It also creates girid pictures of the molecules with common backbones (55molecules.png, 56molecules.png, 66molecules.png)."
   ]
  },
  {
   "cell_type": "code",
   "execution_count": 8,
   "metadata": {},
   "outputs": [],
   "source": [
    "import os\n",
    "import json\n",
    "from rdkit import Chem \n",
    "from rdkit.Chem import Draw, AllChem"
   ]
  },
  {
   "cell_type": "code",
   "execution_count": 21,
   "metadata": {},
   "outputs": [],
   "source": [
    "def draw_all_structures(smiles_master_fn, out_dir): \n",
    "    with open(smiles_master_fn, 'r') as fn:\n",
    "        data_dict = json.load(fn)\n",
    "    molecules = data_dict.keys()\n",
    "    \n",
    "    mol_list55, mol_list65, mol_list66 = [], [], []\n",
    "    lst = []\n",
    "    for mol in molecules: \n",
    "        mol_smiles = data_dict[mol]\n",
    "        mol_save_loc = os.path.join(out_dir, mol+\".png\")\n",
    "        ring_num = int(mol.split('_')[1])\n",
    "        unit_num = int(mol.split('_')[2])\n",
    "        mol_rdkit = Chem.MolFromSmiles(mol_smiles)\n",
    "        \n",
    "        mol_rdkit.SetProp(\"_Name\",mol)\n",
    "        mol_rdkit.SetProp(\"_SaveLoc\",mol_save_loc)\n",
    "        Draw.MolToFile(mol_rdkit, mol_save_loc)\n",
    "#         lst.append(mol_rdkit)\n",
    "        if unit_num == 1:\n",
    "            if ring_num == 55: \n",
    "                mol_list55.append(mol_rdkit)\n",
    "            elif ring_num == 65: \n",
    "                mol_list65.append(mol_rdkit)\n",
    "            elif ring_num == 66: \n",
    "                mol_list66.append(mol_rdkit)\n",
    "        \n",
    "    lists = [mol_list55, mol_list65, mol_list66]\n",
    "    ring_nums = [55,65,66]\n",
    "    for n,lst in enumerate(lists):\n",
    "        lst = lists[n]\n",
    "#         ms = [x for x in lst if x is not None]\n",
    "#         for m in ms: \n",
    "#             tmp=AllChem.Compute2DCoords(m)\n",
    "#             Draw.MolToFile(m, m.GetProp(\"_SaveLoc\"))\n",
    "\n",
    "        img=Draw.MolsToGridImage(lst,molsPerRow=7,subImgSize=(200,200),legends=[x.GetProp(\"_Name\") for x in lst], returnPNG=False)  \n",
    "        img.save(os.path.join(out_dir,str(ring_nums[n])+'molecules.png'))\n",
    "#     img=Draw.MolsToGridImage(lst,molsPerRow=7,subImgSize=(200,200),legends=[x.GetProp(\"_Name\") for x in lst], returnPNG=False)  \n",
    "#     img.save(out_dir+'chromophores.png')\n",
    "    "
   ]
  },
  {
   "cell_type": "code",
   "execution_count": 23,
   "metadata": {},
   "outputs": [],
   "source": [
    "\n",
    "home = os.getcwd()\n",
    "smiles_master_path = os.path.join(home,'masters/','master_smiles.json')\n",
    "# smiles_master_path = os.path.join(home,'smiles/','chromophore.json')\n",
    "out_dir = os.path.join(home, 'structures/')\n",
    "\n",
    "draw_all_structures(smiles_master_path, out_dir)"
   ]
  },
  {
   "cell_type": "code",
   "execution_count": null,
   "metadata": {},
   "outputs": [],
   "source": []
  },
  {
   "cell_type": "code",
   "execution_count": null,
   "metadata": {},
   "outputs": [],
   "source": []
  }
 ],
 "metadata": {
  "kernelspec": {
   "display_name": "Python 3",
   "language": "python",
   "name": "python3"
  },
  "language_info": {
   "codemirror_mode": {
    "name": "ipython",
    "version": 3
   },
   "file_extension": ".py",
   "mimetype": "text/x-python",
   "name": "python",
   "nbconvert_exporter": "python",
   "pygments_lexer": "ipython3",
   "version": "3.7.10"
  }
 },
 "nbformat": 4,
 "nbformat_minor": 2
}
